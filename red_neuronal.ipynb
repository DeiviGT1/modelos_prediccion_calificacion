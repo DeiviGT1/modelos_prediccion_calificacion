{
 "cells": [
  {
   "cell_type": "code",
   "execution_count": null,
   "metadata": {},
   "outputs": [],
   "source": [
    "from rutas import data_clean\n",
    "maestro = data_clean()"
   ]
  },
  {
   "attachments": {},
   "cell_type": "markdown",
   "metadata": {},
   "source": [
    "<h2 style=\"text-align:center;\">Regresion lineal multivariada</h2>"
   ]
  },
  {
   "cell_type": "code",
   "execution_count": 37,
   "metadata": {},
   "outputs": [],
   "source": [
    "import pandas as pd\n",
    "import seaborn as sns\n",
    "import matplotlib.pyplot as plt\n",
    "import numpy as np\n",
    "from sklearn.preprocessing import OneHotEncoder\n",
    "from sklearn.model_selection import train_test_split, GridSearchCV\n",
    "\n",
    "from sklearn.compose import make_column_transformer, make_column_selector\n",
    "from sklearn.feature_selection import SelectKBest, f_regression\n",
    "from sklearn.linear_model import LinearRegression\n",
    "from sklearn.pipeline import Pipeline\n",
    "from sklearn.metrics import mean_squared_error, r2_score\n",
    "import warnings\n",
    "warnings.filterwarnings(\"ignore\")"
   ]
  },
  {
   "cell_type": "code",
   "execution_count": null,
   "metadata": {},
   "outputs": [],
   "source": [
    "dict_criterios = {\"HOMBRE\":\n",
    "    {\"BUZO\":[\"COLOR\", \"ESTIICA\", \"TIPO\"], #TIPO PULLOVER - HOODIE\n",
    "    \"CAMISA\": [\"ESTETICA\", \"FIT\", \"COLOR\"],\n",
    "    \"CAMISETA\":[\"COLOR\", \"ESTETICA\", \"FIT\", \"TIPO\"], #TIPO MANGA CORGA - MANGA LARGA\n",
    "    \"CHAQUETA\": [\"COLOR\", \"ESTETICA\"],\n",
    "    \"JEAN\": [\"COLOR\", \"ESTETICA\"],\n",
    "    \"JOGGER\": [\"COLOR\", \"ESTETICA\"],\n",
    "    \"SHORTS\": [\"COLOR\", \"ESTETICA\"],\n",
    "    \"SHORTS PLANO\": [\"COLOR\", \"ESTETICA\"],\n",
    "    \"PANTALON\": [\"COLOR\"],\n",
    "    \"POLO\": [\"COLOR\", \"TEJIDO\", \"PUNTO CORAZON\"],\n",
    "    \"TANK\": [\"COLOR\", \"ESTETICA\", \"TIPO\"] #TIPO CHOMPA\n",
    "    },\n",
    "    \"MUJER\":{\"BUZO\":[\"COLOR\", \"ESTIICA\", \"TIPO\", \"LARGO\", \"BASE TELA\", \"SILUETA\"], #TIPO PULLOVER - HOODIE ## VALIDAR SI TENEMOS SOLUETA\n",
    "    \"CAMISA\": [\"ESTETICA\", \"TIPO\", \"COLOR\", \"LARGO\"], #TIPO MANGA CORGA - MANGA LARGA\n",
    "    \"CAMISETA\":[\"COLOR\", \"ESTETICA\", \"LARGO\", \"SILUETA\"], #TIPO MANGA CORGA - MANGA LARGA\n",
    "    \"CHAQUETA\": [\"COLOR\", \"ESTETICA\", \"TIPO\", \"LARGO\", \"BASE TELA\", \"SILUETA\"],\n",
    "    \"FALDA\": [\"ESTETICA\", \"BASE TELA\", \"LARGO\"],\n",
    "    \"HAREM\" : [\"SILUETA\", \"MOLDE\", \"COLOR\", \"ESTETICA\", \"BASE TELA\"],\n",
    "    \"JEAN\": [\"COLOR\", \"ESTETICA\", \"TIPO\", \"TIRO\"], #TIRO EN LA SUBCATEGORIA\n",
    "    \"JOGGER\": [\"COLOR\", \"ESTETICA\", \"SILUETA\", \"BASE TELA\", \"TIPO\"],\n",
    "    \"PANTALON\": [\"COLOR\", \"ESTETICA\", \"TIRO\", \"TIPO\"], #TIRO EN LA SUBCATEGORIA\n",
    "    \"R DEPORTIVA\": [\"COLOR\", \"ESTETICA\", \"BASE TELA\", \"SILUETA\"],\n",
    "    \"SHORTS\": [\"COLOR\", \"ESTETICA\", \"SILUETA\", \"BASE TELA\"],\n",
    "    \"SHORTS DENIM\": [\"COLOR\", \"ESTETICA\", \"BASE TELA\", \"TIRO\"],\n",
    "    \"TOP\": [\"COLOR\", \"LARGO\", \"SILUETA\", \"ESTETICA\", \"TIPO\"],\n",
    "    \"TOP ML\": [\"COLOR\", \"LARGO\", \"SILUETA\", \"ESTETICA\", \"TIPO\"],\n",
    "    \"VESTIDO\": [\"BASE TELA\", \"SILUETA\", \"LARGO\", \"ESTETICA\", \"COLOR\", \"TIPO\"], \n",
    "    \"VESTIDO DE BAÑO\": [\"COLOR\", \"ESTETICA\", \"MOLDE\"]\n",
    "    }\n",
    "}"
   ]
  },
  {
   "cell_type": "code",
   "execution_count": null,
   "metadata": {},
   "outputs": [],
   "source": [
    "y = np.array(maestro[\"calif\"])\n",
    "X = maestro.copy()\n",
    "X.drop([\"calificacion\", \"calif\"], axis=1, inplace=True)\n",
    "\n",
    "X = X[[\"COLOR\", \"ESTETICA\", \"LARGO\", \"SILUETA\"]]"
   ]
  },
  {
   "attachments": {},
   "cell_type": "markdown",
   "metadata": {},
   "source": [
    "<h4 style=\"text-align:center;\">Modelo</h4>"
   ]
  },
  {
   "cell_type": "code",
   "execution_count": 41,
   "metadata": {},
   "outputs": [
    {
     "name": "stdout",
     "output_type": "stream",
     "text": [
      "mse train: 1.5 \n",
      "mse tres: 1.73 \n",
      "El R2 es -0.07744033056851274\n",
      "2\n"
     ]
    }
   ],
   "source": [
    "(X_train, X_test, y_train, y_test) = train_test_split(\n",
    "    X,\n",
    "    y,\n",
    "    train_size = 0.7)\n",
    "    \n",
    "for i in range(1000):\n",
    "    try:\n",
    "        (X_train, X_test, y_train, y_test) = train_test_split(\n",
    "            X,\n",
    "            y,\n",
    "            train_size = 0.7)\n",
    "        pipeline = Pipeline(\n",
    "                steps=[\n",
    "                    (\n",
    "                        \"column_transformer\",\n",
    "                        make_column_transformer(\n",
    "                            (\n",
    "                                OneHotEncoder(),\n",
    "                                make_column_selector(dtype_include=object)\n",
    "                            ), \n",
    "                            remainder = \"passthrough\"\n",
    "                        ),\n",
    "                    ),\n",
    "                    (\n",
    "                        \"selectKBest\",\n",
    "                        SelectKBest(score_func=f_regression),\n",
    "                    ),\n",
    "                    (\n",
    "                        \"linearRegression\",\n",
    "                        LinearRegression(),\n",
    "                    ),\n",
    "                ],\n",
    "            )\n",
    "        param_grid = {\n",
    "                \"selectKBest__k\": range(1, len(X.columns)),\n",
    "            }\n",
    "        gridSearchCV = GridSearchCV(\n",
    "                estimator=pipeline,\n",
    "                param_grid=param_grid,\n",
    "                scoring=\"neg_mean_squared_error\",\n",
    "                refit=True,\n",
    "                return_train_score=False,\n",
    "            )\n",
    "        gridSearchCV.fit(X_train, y_train)\n",
    "        y_train_pred = gridSearchCV.predict(X_train)\n",
    "        y_test_pred = gridSearchCV.predict(X_test)\n",
    "        mse_train = mean_squared_error(\n",
    "            y_train_pred,\n",
    "            y_train,\n",
    "        ).round(2)\n",
    "        mse_test = mean_squared_error(\n",
    "            y_test_pred,\n",
    "            y_test,\n",
    "        ).round(2)\n",
    "\n",
    "        r_2 = r2_score(y_pred = y_test_pred, y_true = y_test)\n",
    "\n",
    "        print(f\"mse train: {mse_train} \\nmse tres: {mse_test} \\nEl R2 es {r_2}\")\n",
    "        break\n",
    "    except: continue \n",
    "print(i)"
   ]
  },
  {
   "attachments": {},
   "cell_type": "markdown",
   "metadata": {},
   "source": [
    "<h2 style=\"text-align:center;\">Red Neuronal TensorFlow</h2>"
   ]
  },
  {
   "cell_type": "code",
   "execution_count": 92,
   "metadata": {},
   "outputs": [],
   "source": [
    "import numpy as np\n",
    "from keras.models import Sequential\n",
    "from keras.layers.core import Dense\n",
    "from keras.layers import Softmax\n",
    "from keras.metrics import CategoricalAccuracy"
   ]
  },
  {
   "cell_type": "code",
   "execution_count": 158,
   "metadata": {},
   "outputs": [],
   "source": [
    "from sklearn.preprocessing import LabelEncoder\n",
    "from keras.models import Sequential\n",
    "from keras.layers import Dense\n",
    "\n",
    "y = np.array(maestro[\"calif\"])\n",
    "X = maestro.copy()\n",
    "X.drop([\"calificacion\", \"calif\"], axis=1, inplace=True)\n",
    "\n",
    "\n",
    "X = X[[\"COLOR\", \"ESTETICA\", \"LARGO\", \"SILUETA\"]]\n",
    "X = X.to_numpy()\n",
    "\n",
    "training_data = make_column_transformer(\n",
    "                            (\n",
    "                                OneHotEncoder(),\n",
    "                                make_column_selector(dtype_include=object)\n",
    "                            ), \n",
    "                            remainder = \"passthrough\"\n",
    "                        )\n",
    "training_data = np.array(training_data)\n",
    "target_data = y\n",
    "\n",
    "# Seleccionar las columnas del dataframe que son categóricas\n",
    "categorical_columns = maestro.select_dtypes(include='object').columns\n",
    "\n",
    "# Crear una copia del dataframe para evitar modificar el original\n",
    "df_copy = maestro.copy()\n",
    "\n",
    "# Crear una instancia de LabelEncoder para cada columna categórica\n",
    "label_encoders = {col: LabelEncoder() for col in categorical_columns}\n",
    "\n",
    "# Aplicar el LabelEncoder a cada columna categórica del dataframe\n",
    "for col in categorical_columns:\n",
    "    df_copy[col] = label_encoders[col].fit_transform(df_copy[col])\n",
    "\n",
    "# Seleccionar las columnas del dataframe que se utilizarán como características\n",
    "features = df_copy[[\"COLOR\", \"ESTETICA\", \"LARGO\", \"SILUETA\"]]\n",
    "\n",
    "# Seleccionar la columna del dataframe que se utilizará como objetivo\n",
    "target = df_copy['calif']\n",
    "\n",
    "# Crear un modelo de redes neuronales con Keras\n",
    "model = Sequential()\n",
    "\n",
    "# Añadir una capa de entrada con la misma cantidad de neuronas que de características\n",
    "model.add(Dense(features.shape[1], input_dim=features.shape[1], activation='relu'))\n",
    "\n",
    "# Añadir una capa oculta con 16 neuronas\n",
    "model.add(Dense(16, activation='relu'))\n",
    "model.add(Dense(24, activation='relu'))\n",
    "model.add(Dense(16, activation='relu'))\n",
    "\n",
    "\n",
    "\n",
    "# Añadir una capa de salida con una sola neurona\n",
    "\n",
    "model.add(Dense(5, activation='Softmax'))"
   ]
  },
  {
   "cell_type": "code",
   "execution_count": 159,
   "metadata": {},
   "outputs": [],
   "source": [
    "model.compile(loss='binary_crossentropy',\n",
    "              optimizer='adam',\n",
    "              metrics=CategoricalAccuracy())\n",
    "history = model.fit(features, target, epochs=1000, verbose=0)"
   ]
  },
  {
   "cell_type": "code",
   "execution_count": 7,
   "metadata": {},
   "outputs": [
    {
     "ename": "NameError",
     "evalue": "name 'history' is not defined",
     "output_type": "error",
     "traceback": [
      "\u001b[1;31m---------------------------------------------------------------------------\u001b[0m",
      "\u001b[1;31mNameError\u001b[0m                                 Traceback (most recent call last)",
      "\u001b[1;32m<ipython-input-7-f17efc2e242c>\u001b[0m in \u001b[0;36m<module>\u001b[1;34m\u001b[0m\n\u001b[0;32m      3\u001b[0m \u001b[0mf\u001b[0m\u001b[1;33m.\u001b[0m\u001b[0mset_figheight\u001b[0m\u001b[1;33m(\u001b[0m\u001b[1;36m9\u001b[0m\u001b[1;33m)\u001b[0m\u001b[1;33m\u001b[0m\u001b[1;33m\u001b[0m\u001b[0m\n\u001b[0;32m      4\u001b[0m \u001b[1;33m\u001b[0m\u001b[0m\n\u001b[1;32m----> 5\u001b[1;33m \u001b[0mplt\u001b[0m\u001b[1;33m.\u001b[0m\u001b[0mplot\u001b[0m\u001b[1;33m(\u001b[0m\u001b[0mhistory\u001b[0m\u001b[1;33m.\u001b[0m\u001b[0mhistory\u001b[0m\u001b[1;33m[\u001b[0m\u001b[1;34m'categorical_accuracy'\u001b[0m\u001b[1;33m]\u001b[0m\u001b[1;33m)\u001b[0m\u001b[1;33m\u001b[0m\u001b[1;33m\u001b[0m\u001b[0m\n\u001b[0m\u001b[0;32m      6\u001b[0m \u001b[0mplt\u001b[0m\u001b[1;33m.\u001b[0m\u001b[0mtitle\u001b[0m\u001b[1;33m(\u001b[0m\u001b[1;34m'model accuracy'\u001b[0m\u001b[1;33m)\u001b[0m\u001b[1;33m\u001b[0m\u001b[1;33m\u001b[0m\u001b[0m\n\u001b[0;32m      7\u001b[0m \u001b[0mplt\u001b[0m\u001b[1;33m.\u001b[0m\u001b[0mylabel\u001b[0m\u001b[1;33m(\u001b[0m\u001b[1;34m'categorical_accuracy'\u001b[0m\u001b[1;33m)\u001b[0m\u001b[1;33m\u001b[0m\u001b[1;33m\u001b[0m\u001b[0m\n",
      "\u001b[1;31mNameError\u001b[0m: name 'history' is not defined"
     ]
    },
    {
     "data": {
      "text/plain": [
       "<Figure size 2160x648 with 0 Axes>"
      ]
     },
     "metadata": {},
     "output_type": "display_data"
    }
   ],
   "source": [
    "f = plt.figure()\n",
    "f.set_figwidth(30)\n",
    "f.set_figheight(9)\n",
    "\n",
    "plt.plot(history.history['categorical_accuracy'])\n",
    "plt.title('model accuracy')\n",
    "plt.ylabel('categorical_accuracy')\n",
    "plt.xlabel('epoch')\n"
   ]
  },
  {
   "attachments": {},
   "cell_type": "markdown",
   "metadata": {},
   "source": [
    "<h2 style=\"text-align:center;\">Red Neuronal Sklearn</h2>"
   ]
  },
  {
   "cell_type": "code",
   "execution_count": 1,
   "metadata": {},
   "outputs": [],
   "source": [
    "from sklearn.neural_network import MLPClassifier\n",
    "import pandas as pd\n",
    "import numpy as np\n",
    "import seaborn as sns\n",
    "import matplotlib.pyplot as plt\n",
    "from sklearn.preprocessing import LabelEncoder\n",
    "import warnings\n",
    "from sklearn.model_selection import train_test_split\n",
    "warnings.filterwarnings(\"ignore\")\n"
   ]
  },
  {
   "cell_type": "code",
   "execution_count": 3,
   "metadata": {},
   "outputs": [],
   "source": [
    "categorical_columns = maestro.select_dtypes(include='object').columns\n",
    "\n",
    "# Crear una copia del dataframe para evitar modificar el original\n",
    "df_copy = maestro.copy()\n",
    "\n",
    "# Crear una instancia de LabelEncoder para cada columna categórica\n",
    "label_encoders = {col: LabelEncoder() for col in categorical_columns}\n",
    "\n",
    "# Aplicar el LabelEncoder a cada columna categórica del dataframe\n",
    "for col in categorical_columns:\n",
    "    df_copy[col] = label_encoders[col].fit_transform(df_copy[col])\n",
    "\n",
    "# Seleccionar las columnas del dataframe que se utilizarán como características\n",
    "features = df_copy[[\"COLOR\", \"ESTETICA\", \"LARGO\", \"SILUETA\"]]\n",
    "\n",
    "# Seleccionar la columna del dataframe que se utilizará como objetivo\n",
    "target = df_copy['calif']"
   ]
  },
  {
   "cell_type": "code",
   "execution_count": 4,
   "metadata": {},
   "outputs": [],
   "source": [
    "X_train, X_test, y_train, y_test = train_test_split(features, target, test_size=0.33, random_state=0)"
   ]
  },
  {
   "cell_type": "code",
   "execution_count": 9,
   "metadata": {},
   "outputs": [
    {
     "name": "stdout",
     "output_type": "stream",
     "text": [
      "El score en el training fue:  0.32142857142857145 \n",
      "El score en el test fue:  0.2755102040816326\n"
     ]
    }
   ],
   "source": [
    "clf = MLPClassifier(solver='adam', alpha=1e-5, activation=\"relu\", early_stopping=True,\n",
    "                    learning_rate=\"adaptive\", hidden_layer_sizes=(3000, 200), random_state=1)\n",
    "clf.fit(X_train, y_train)\n",
    "\n",
    "print(\"El score en el training fue: \", clf.score(X_train, y_train), \"\\nEl score en el test fue: \", clf.score(X_test, y_test))"
   ]
  },
  {
   "cell_type": "code",
   "execution_count": 10,
   "metadata": {},
   "outputs": [
    {
     "name": "stdout",
     "output_type": "stream",
     "text": [
      "El score en el training fue:  0.6275510204081632 \n",
      "El score en el test fue:  0.25510204081632654\n"
     ]
    }
   ],
   "source": [
    "clf = MLPClassifier(solver='adam', alpha=1e-5, activation=\"relu\",\n",
    "                    hidden_layer_sizes=(3000, 200), random_state=1)\n",
    "clf.fit(X_train, y_train)\n",
    "\n",
    "print(\"El score en el training fue: \", clf.score(X_train, y_train), \"\\nEl score en el test fue: \", clf.score(X_test, y_test))"
   ]
  },
  {
   "cell_type": "code",
   "execution_count": 11,
   "metadata": {},
   "outputs": [
    {
     "name": "stdout",
     "output_type": "stream",
     "text": [
      "El score en el training fue:  0.25510204081632654 \n",
      "El score en el test fue:  0.14285714285714285\n"
     ]
    }
   ],
   "source": [
    "clf = MLPClassifier(solver='adam', alpha=1e-5, activation=\"relu\",\n",
    "                    hidden_layer_sizes=(30000, 200), random_state=1)\n",
    "clf.fit(X_train, y_train)\n",
    "\n",
    "print(\"El score en el training fue: \", clf.score(X_train, y_train), \"\\nEl score en el test fue: \", clf.score(X_test, y_test))"
   ]
  },
  {
   "cell_type": "code",
   "execution_count": 12,
   "metadata": {},
   "outputs": [],
   "source": [
    "clf = MLPClassifier(solver='adam', alpha=1e-5, activation=\"relu\",\n",
    "                    hidden_layer_sizes=(50000, 2000), random_state=1)\n",
    "clf.fit(X_train, y_train)\n",
    "\n",
    "print(\"El score en el training fue: \", clf.score(X_train, y_train), \"\\nEl score en el test fue: \", clf.score(X_test, y_test))"
   ]
  },
  {
   "cell_type": "code",
   "execution_count": null,
   "metadata": {},
   "outputs": [],
   "source": []
  }
 ],
 "metadata": {
  "kernelspec": {
   "display_name": "base",
   "language": "python",
   "name": "python3"
  },
  "language_info": {
   "codemirror_mode": {
    "name": "ipython",
    "version": 3
   },
   "file_extension": ".py",
   "mimetype": "text/x-python",
   "name": "python",
   "nbconvert_exporter": "python",
   "pygments_lexer": "ipython3",
   "version": "3.8.8"
  },
  "orig_nbformat": 4,
  "vscode": {
   "interpreter": {
    "hash": "ad2bdc8ecc057115af97d19610ffacc2b4e99fae6737bb82f5d7fb13d2f2c186"
   }
  }
 },
 "nbformat": 4,
 "nbformat_minor": 2
}
