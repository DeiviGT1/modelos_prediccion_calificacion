{
 "cells": [
  {
   "cell_type": "code",
   "execution_count": 2,
   "metadata": {},
   "outputs": [],
   "source": [
    "from rutas import data_clean\n",
    "maestro = data_clean()\n",
    "maestro = maestro[(maestro[\"min\"].apply(lambda x: x[:4])==\"2022\")|(maestro[\"min\"].apply(lambda x: x[:4])==\"2021\")]"
   ]
  },
  {
   "cell_type": "code",

   "execution_count": 2,
   "metadata": {},
   "outputs": [],
   "source": [
    "import seaborn as sns\n",
    "import matplotlib.pyplot as plt\n",
    "import numpy as np\n",
    "import pandas as pd\n",
    "\n",
    "from sklearn.preprocessing import LabelEncoder, OneHotEncoder\n",
    "from sklearn.model_selection import train_test_split, GridSearchCV\n",
    "from sklearn.compose import make_column_transformer, make_column_selector\n",
    "from sklearn.feature_selection import SelectKBest, f_regression\n",
    "from sklearn.linear_model import LinearRegression\n",
    "from sklearn.pipeline import Pipeline\n",
    "from sklearn.cluster import KMeans\n",
    "from sklearn import preprocessing\n",
    "from sklearn.metrics import mean_squared_error, r2_score\n",
    "from sklearn.neural_network import MLPClassifier\n",
    "import warnings\n",
    "\n",
    "warnings.filterwarnings(\"ignore\")\n",
    "\n",
    "y = np.array(maestro[\"calif\"])\n",
    "X = maestro.copy()\n",
    "X.drop([\"calificacion\", \"calif\"], axis=1, inplace=True)\n",
    "\n",
    "X = X[[\"COLOR\", \"ESTETICA\", \"LARGO\", \"SILUETA\"]]\n",
    "\n",
    "categorical_columns = maestro.select_dtypes(include='object').columns\n",
    "df_copy = maestro.copy()\n",
    "label_encoders = {col: LabelEncoder() for col in categorical_columns}\n",
    "for col in categorical_columns:\n",
    "    df_copy[col] = label_encoders[col].fit_transform(df_copy[col])\n",
    "features = df_copy[[\"COLOR\", \"ESTETICA\", \"LARGO\", \"SILUETA\", \"SUBCATEGORIA\"]]\n",
    "target = df_copy['calif']\n",
    "X_train, X_test, y_train, y_test = train_test_split(features, target, test_size=0.33, random_state=1)\n"
   ]
  },
  {
   "attachments": {},
   "cell_type": "markdown",
   "metadata": {},
   "source": [
    "<h2 style=\"text-align:center;\">Regresion lineal multivariada</h2>"
   ]
  },
  {
   "cell_type": "code",
   "execution_count": 126,
   "metadata": {},
   "outputs": [],
   "source": [
    "dict_criterios = {\"HOMBRE\":\n",
    "    {\"BUZO\":[\"COLOR\", \"ESTIICA\", \"TIPO\"], #TIPO PULLOVER - HOODIE\n",
    "    \"CAMISA\": [\"ESTETICA\", \"FIT\", \"COLOR\"],\n",
    "    \"CAMISETA\":[\"COLOR\", \"ESTETICA\", \"FIT\", \"TIPO\"], #TIPO MANGA CORGA - MANGA LARGA\n",
    "    \"CHAQUETA\": [\"COLOR\", \"ESTETICA\"],\n",
    "    \"JEAN\": [\"COLOR\", \"ESTETICA\"],\n",
    "    \"JOGGER\": [\"COLOR\", \"ESTETICA\"],\n",
    "    \"SHORTS\": [\"COLOR\", \"ESTETICA\"],\n",
    "    \"SHORTS PLANO\": [\"COLOR\", \"ESTETICA\"],\n",
    "    \"PANTALON\": [\"COLOR\"],\n",
    "    \"POLO\": [\"COLOR\", \"TEJIDO\", \"PUNTO CORAZON\"],\n",
    "    \"TANK\": [\"COLOR\", \"ESTETICA\", \"TIPO\"] #TIPO CHOMPA\n",
    "    },\n",
    "    \"MUJER\":{\"BUZO\":[\"COLOR\", \"ESTIICA\", \"TIPO\", \"LARGO\", \"BASE TELA\", \"SILUETA\"], #TIPO PULLOVER - HOODIE ## VALIDAR SI TENEMOS SOLUETA\n",
    "    \"CAMISA\": [\"ESTETICA\", \"TIPO\", \"COLOR\", \"LARGO\"], #TIPO MANGA CORGA - MANGA LARGA\n",
    "    \"CAMISETA\":[\"COLOR\", \"ESTETICA\", \"LARGO\", \"SILUETA\"], #TIPO MANGA CORGA - MANGA LARGA\n",
    "    \"CHAQUETA\": [\"COLOR\", \"ESTETICA\", \"TIPO\", \"LARGO\", \"BASE TELA\", \"SILUETA\"],\n",
    "    \"FALDA\": [\"ESTETICA\", \"BASE TELA\", \"LARGO\"],\n",
    "    \"HAREM\" : [\"SILUETA\", \"MOLDE\", \"COLOR\", \"ESTETICA\", \"BASE TELA\"],\n",
    "    \"JEAN\": [\"COLOR\", \"ESTETICA\", \"TIPO\", \"TIRO\"], #TIRO EN LA SUBCATEGORIA\n",
    "    \"JOGGER\": [\"COLOR\", \"ESTETICA\", \"SILUETA\", \"BASE TELA\", \"TIPO\"],\n",
    "    \"PANTALON\": [\"COLOR\", \"ESTETICA\", \"TIRO\", \"TIPO\"], #TIRO EN LA SUBCATEGORIA\n",
    "    \"R DEPORTIVA\": [\"COLOR\", \"ESTETICA\", \"BASE TELA\", \"SILUETA\"],\n",
    "    \"SHORTS\": [\"COLOR\", \"ESTETICA\", \"SILUETA\", \"BASE TELA\"],\n",
    "    \"SHORTS DENIM\": [\"COLOR\", \"ESTETICA\", \"BASE TELA\", \"TIRO\"],\n",
    "    \"TOP\": [\"COLOR\", \"LARGO\", \"SILUETA\", \"ESTETICA\", \"TIPO\"],\n",
    "    \"TOP ML\": [\"COLOR\", \"LARGO\", \"SILUETA\", \"ESTETICA\", \"TIPO\"],\n",
    "    \"VESTIDO\": [\"BASE TELA\", \"SILUETA\", \"LARGO\", \"ESTETICA\", \"COLOR\", \"TIPO\"], \n",
    "    \"VESTIDO DE BAÑO\": [\"COLOR\", \"ESTETICA\", \"MOLDE\"]\n",
    "    }\n",
    "}"
   ]
  },
  {
   "attachments": {},
   "cell_type": "markdown",
   "metadata": {},
   "source": [
    "<h4 style=\"text-align:center;\">Modelo</h4>"
   ]
  },
  {
   "cell_type": "code",
   "execution_count": 41,
   "metadata": {},
   "outputs": [
    {
     "name": "stdout",
     "output_type": "stream",
     "text": [
      "mse train: 1.5 \n",
      "mse tres: 1.73 \n",
      "El R2 es -0.07744033056851274\n",
      "2\n"
     ]
    }
   ],
   "source": [
    "for i in range(1000):\n",
    "    try:\n",
    "        (X_train, X_test, y_train, y_test) = train_test_split(\n",
    "            X,\n",
    "            y,\n",
    "            train_size = 0.7)\n",
    "        pipeline = Pipeline(\n",
    "                steps=[\n",
    "                    (\n",
    "                        \"column_transformer\",\n",
    "                        make_column_transformer(\n",
    "                            (\n",
    "                                OneHotEncoder(),\n",
    "                                make_column_selector(dtype_include=object)\n",
    "                            ), \n",
    "                            remainder = \"passthrough\"\n",
    "                        ),\n",
    "                    ),\n",
    "                    (\n",
    "                        \"selectKBest\",\n",
    "                        SelectKBest(score_func=f_regression),\n",
    "                    ),\n",
    "                    (\n",
    "                        \"linearRegression\",\n",
    "                        LinearRegression(),\n",
    "                    ),\n",
    "                ],\n",
    "            )\n",
    "        param_grid = {\n",
    "                \"selectKBest__k\": range(1, len(X.columns)),\n",
    "            }\n",
    "        gridSearchCV = GridSearchCV(\n",
    "                estimator=pipeline,\n",
    "                param_grid=param_grid,\n",
    "                scoring=\"neg_mean_squared_error\",\n",
    "                refit=True,\n",
    "                return_train_score=False,\n",
    "            )\n",
    "        gridSearchCV.fit(X_train, y_train)\n",
    "        y_train_pred = gridSearchCV.predict(X_train)\n",
    "        y_test_pred = gridSearchCV.predict(X_test)\n",
    "        mse_train = mean_squared_error(\n",
    "            y_train_pred,\n",
    "            y_train,\n",
    "        ).round(2)\n",
    "        mse_test = mean_squared_error(\n",
    "            y_test_pred,\n",
    "            y_test,\n",
    "        ).round(2)\n",
    "\n",
    "        r_2 = r2_score(y_pred = y_test_pred, y_true = y_test)\n",
    "\n",
    "        print(f\"mse train: {mse_train} \\nmse tres: {mse_test} \\nEl R2 es {r_2}\")\n",
    "        break\n",
    "    except: continue \n",
    "print(i)"
   ]
  },
  {
   "attachments": {},
   "cell_type": "markdown",
   "metadata": {},
   "source": [
    "<h2 style=\"text-align:center;\">Red Neuronal TensorFlow</h2>"
   ]
  },
  {
   "cell_type": "code",
   "execution_count": 4,
   "metadata": {},
   "outputs": [],
   "source": [
    "from sklearn.preprocessing import LabelEncoder\n",
    "from keras.models import Sequential\n",
    "from keras import regularizers\n",
    "from keras.layers import Dense, Softmax, Dropout\n",
    "from keras.metrics import CategoricalCrossentropy, Recall\n",
    "from keras.losses import SparseCategoricalCrossentropy, CategoricalCrossentropy\n",
    "from keras.initializers import RandomNormal\n",
    "from keras import optimizers\n",
    "from keras.callbacks import EarlyStopping\n",
    "import keras_tuner\n",
    "\n",
    "X_val, X_test_2, y_val, y_test_2 = train_test_split(X_test, y_test, test_size=0.33, random_state=2)"
   ]
  },
  {
   "cell_type": "code",
   "execution_count": 43,
   "metadata": {},
   "outputs": [],
   "source": [
    "def cons_modelos(hp):\n",
    "    model = Sequential()\n",
    "    model.add(Dense(features.shape[1], input_dim=features.shape[1], activation='relu', kernel_initializer=RandomNormal(stddev=0.01)))\n",
    "\n",
    "    hp_units = hp.Int(\"units\", min_value = 4, max_value= 512, step=8)\n",
    "    hp_dropout = hp.Choice(\"Dropout\", values = [0.0, 0.2, 0.4, 0.6, 0.8])\n",
    "    hp_kernel_regularizer = hp.Choice(\"kernel_regularizer\", values = [0.0, 1e-2, 1e-3, 1e-4, 1e-5])\n",
    "    hp_learning_rate = hp.Choice(\"learning_rate\", values=[1e-2, 1e-3, 1e-4, 1e-5])\n",
    "\n",
    "    model.add(Dense(hp_units, activation='relu'))\n",
    "    model.add(Dense(hp_units , activation='relu', kernel_regularizer = regularizers.L1(hp_kernel_regularizer)))\n",
    "\n",
    "    model.add(Dropout(hp_dropout))\n",
    "    model.add(Dense(hp_units , activation='relu'))\n",
    "    model.add(Dropout(hp_dropout))\n",
    "    model.add(Dense(hp_units , activation='relu', kernel_regularizer = regularizers.L1(hp_kernel_regularizer)))\n",
    "    model.add(Dense(hp_units , activation='relu', kernel_regularizer = regularizers.L1(hp_kernel_regularizer)))\n",
    "    model.add(Dropout(hp_dropout))\n",
    "    model.add(Dense(hp_units , activation='relu', kernel_regularizer = regularizers.L1(hp_kernel_regularizer)))\n",
    "    model.add(Dropout(hp_dropout))\n",
    "    model.add(Dense(hp_units , activation='relu', kernel_regularizer = regularizers.L1(hp_kernel_regularizer)))\n",
    "    model.add(Dense(hp_units , activation='relu', kernel_regularizer = regularizers.L1(hp_kernel_regularizer)))\n",
    "    model.add(Dropout(hp_dropout))\n",
    "    model.add(Dense(hp_units , activation='relu', kernel_regularizer = regularizers.L1(hp_kernel_regularizer)))\n",
    "    model.add(Dense(5, activation='Softmax'))\n",
    "    \n",
    "    model.compile(loss=\"sparse_categorical_crossentropy\",\n",
    "            optimizer=optimizers.Adam(learning_rate = hp_learning_rate),\n",
    "            metrics = [\"sparse_categorical_accuracy\", \"accuracy\"],\n",
    "            )\n",
    "    return model"
   ]
  },
  {
   "cell_type": "code",
   "execution_count": null,
   "metadata": {},
   "outputs": [],
   "source": [
    "tunner = keras_tuner.Hyperband(\n",
    "    cons_modelos,\n",
    "    objective=\"sparse_categorical_accuracy\",\n",
    "    max_epochs=1000,\n",
    "    factor=3,\n",
    "    directory = \"models/\",\n",
    "    project_name = \"matt-tunner-V5++++++++++++++++\"\n",
    ")\n",
    "\n",
    "tunner.search(\n",
    "    X_train, \n",
    "    y_train,\n",
    "    epochs = 1000,\n",
    "    validation_data = (X_test, y_test)\n",
    ")\n",
    "\n",
    "best_hps = tunner.get_best_hyperparameters(num_trials=1)[0]"
   ]
  },
  {
   "cell_type": "code",

   "execution_count": 36,
   "metadata": {},
   "outputs": [],
   "source": [
    "best_models = tunner.get_best_models(num_models=1)\n",
    "best_model = best_models[0]\n",
    "best_model.save(\"best_model(modelo al 40%).h5\")"
   ]
  },
  {
   "cell_type": "code",
   "execution_count": null,
   "metadata": {},
   "outputs": [],
   "source": [
    "best_model.evaluate(X_train, y_train)\n",
    "best_model.evaluate(X_test, y_test)"
   ]
  },
  {
   "cell_type": "code",
   "execution_count": null,
   "metadata": {},
   "outputs": [],
   "source": [
    "def cons_modelos_2(hp):\n",
    "    model = Sequential()\n",
    "    model.add(Dense(features.shape[1], input_dim=features.shape[1], activation='relu', kernel_initializer=RandomNormal(stddev=0.01)))\n",
    "\n",
    "    hp_units = hp.Int(\"units\", min_value = 8, max_value= 256, step=16)\n",
    "    hp_dropout = hp.Choice(\"Dropout\", values = [0.0, 0.2, 0.4, 0.6, 0.8])\n",
    "    hp_kernel_regularizer = hp.Choice(\"kernel_regularizer\", values = [0.0, 1e-2, 1e-3, 1e-4, 1e-5])\n",
    "    hp_learning_rate = hp.Choice(\"learning_rate\", values=[1e-2, 1e-3, 1e-4, 1e-5])\n",
    "\n",
    "    model.add(Dense(hp_units, activation='relu'))\n",
    "    model.add(Dense(hp_units , activation='relu', kernel_regularizer = regularizers.L1(hp_kernel_regularizer)))\n",
    "\n",
    "    model.add(Dropout(hp_dropout))\n",
    "    model.add(Dense(hp_units , activation='relu'))\n",
    "    model.add(Dropout(hp_dropout))\n",
    "    model.add(Dense(hp_units , activation='relu', kernel_regularizer = regularizers.L1(hp_kernel_regularizer)))\n",
    "    model.add(Dense(hp_units , activation='relu', kernel_regularizer = regularizers.L1(hp_kernel_regularizer)))\n",
    "    model.add(Dense(hp_units , activation='relu', kernel_regularizer = regularizers.L1(hp_kernel_regularizer)))\n",
    "    model.add(Dropout(hp_dropout))\n",
    "    model.add(Dense(hp_units , activation='relu', kernel_regularizer = regularizers.L1(hp_kernel_regularizer)))\n",
    "    model.add(Dense(hp_units , activation='relu', kernel_regularizer = regularizers.L1(hp_kernel_regularizer)))\n",
    "    model.add(Dense(hp_units , activation='relu', kernel_regularizer = regularizers.L1(hp_kernel_regularizer)))\n",
    "    model.add(Dropout(hp_dropout))\n",
    "    model.add(Dense(hp_units , activation='relu', kernel_regularizer = regularizers.L1(hp_kernel_regularizer)))\n",
    "    model.add(Dense(hp_units , activation='relu', kernel_regularizer = regularizers.L1(hp_kernel_regularizer)))\n",
    "    model.add(Dropout(hp_dropout))\n",
    "    model.add(Dense(hp_units , activation='relu', kernel_regularizer = regularizers.L1(hp_kernel_regularizer)))\n",
    "    model.add(Dense(hp_units , activation='relu', kernel_regularizer = regularizers.L1(hp_kernel_regularizer)))\n",
    "    model.add(Dense(5, activation='Softmax'))\n",
    "    \n",
    "    model.compile(loss=\"sparse_categorical_crossentropy\",\n",
    "            optimizer=optimizers.Adam(learning_rate = hp_learning_rate),\n",
    "            metrics = [\"sparse_categorical_accuracy\", \"accuracy\"],\n",
    "            )\n",
    "    return model\n",
    "\n",
    "tunner_2 = keras_tuner.Hyperband(\n",
    "    cons_modelos_2,\n",
    "    objective=\"sparse_categorical_accuracy\",\n",
    "    max_epochs=1000,\n",
    "    factor=3,\n",
    "    directory = \"models/\",\n",
    "    project_name = \"matt-tunner-V4\"\n",
    ")\n",
    "\n",
    "tunner_2.search(\n",
    "    X_train, \n",
    "    y_train,\n",
    "    epochs = 1000,\n",
    "    validation_data = (X_test, y_test)\n",
    ")\n",
    "\n",
    "best_hps = tunner.get_best_hyperparameters(num_trials=1)[0]"

   ]
  },
  {
   "cell_type": "code",

   "execution_count": null,
   "metadata": {},
   "outputs": [],

   "source": [
    "fig, ax = plt.subplots(2, 1)\n",
    "fig.set_figwidth(30)\n",
    "fig.set_figheight(15)\n",
    "\n",
    "ax[0].plot(range(1, len(history.history[\"loss\"])+1), history.history[\"accuracy\"], \"-\", label = \"training\")\n",
    "ax[0].plot(range(1, len(history.history[\"loss\"])+1), history.history[\"val_accuracy\"], \"--\", label = \"val_loss\")\n",
    "ax[0].legend()\n",
    "\n",
    "ax[1].plot(range(1, len(history.history[\"loss\"])+1), history.history[\"loss\"], \"o\", label = \"training\")\n",
    "ax[1].plot(range(1, len(history.history[\"loss\"])+1), history.history[\"val_loss\"], \"--\", label = \"val\")\n",
    "ax[1].legend()"
   ]
  },
  {
   "cell_type": "code",
   "execution_count": null,
   "metadata": {},
   "outputs": [],

   "source": [
    "model.evaluate(X_test, y_test)"
   ]
  },
  {
   "attachments": {},
   "cell_type": "markdown",
   "metadata": {},
   "source": [
    "<h2 style=\"text-align:center;\">Red Neuronal Sklearn</h2>"
   ]
  },
  {
   "cell_type": "code",
   "execution_count": 9,
   "metadata": {},
   "outputs": [
    {
     "name": "stdout",
     "output_type": "stream",
     "text": [
      "El score en el training fue:  0.32142857142857145 \n",
      "El score en el test fue:  0.2755102040816326\n"
     ]
    }
   ],
   "source": [
    "clf = MLPClassifier(solver='adam', alpha=1e-5, activation=\"relu\", early_stopping=True,\n",
    "                    learning_rate=\"adaptive\", hidden_layer_sizes=(3000, 200), random_state=1)\n",
    "clf.fit(X_train, y_train)\n",
    "\n",
    "print(\"El score en el training fue: \", clf.score(X_train, y_train), \"\\nEl score en el test fue: \", clf.score(X_test, y_test))"
   ]
  },
  {
   "cell_type": "code",
   "execution_count": 10,
   "metadata": {},
   "outputs": [
    {
     "name": "stdout",
     "output_type": "stream",
     "text": [
      "El score en el training fue:  0.6275510204081632 \n",
      "El score en el test fue:  0.25510204081632654\n"
     ]
    }
   ],
   "source": [
    "clf = MLPClassifier(solver='adam', alpha=1e-5, activation=\"relu\",\n",
    "                    hidden_layer_sizes=(3000, 200), random_state=1)\n",
    "clf.fit(X_train, y_train)\n",
    "\n",
    "print(\"El score en el training fue: \", clf.score(X_train, y_train), \"\\nEl score en el test fue: \", clf.score(X_test, y_test))"
   ]
  },
  {
   "cell_type": "code",
   "execution_count": 11,
   "metadata": {},
   "outputs": [
    {
     "name": "stdout",
     "output_type": "stream",
     "text": [
      "El score en el training fue:  0.25510204081632654 \n",
      "El score en el test fue:  0.14285714285714285\n"
     ]
    }
   ],
   "source": [
    "clf = MLPClassifier(solver='adam', alpha=1e-5, activation=\"relu\",\n",
    "                    hidden_layer_sizes=(30000, 200), random_state=1)\n",
    "clf.fit(X_train, y_train)\n",
    "\n",
    "print(\"El score en el training fue: \", clf.score(X_train, y_train), \"\\nEl score en el test fue: \", clf.score(X_test, y_test))"
   ]
  },
  {
   "cell_type": "code",
   "execution_count": 12,
   "metadata": {},
   "outputs": [
    {
     "name": "stdout",
     "output_type": "stream",
     "text": [
      "El score en el training fue:  0.6836734693877551 \n",
      "El score en el test fue:  0.25510204081632654\n"
     ]
    }
   ],
   "source": [
    "clf = MLPClassifier(solver='adam', alpha=1e-5, activation=\"relu\",\n",
    "                    hidden_layer_sizes=(50000, 2000), random_state=1)\n",
    "clf.fit(X_train, y_train)\n",
    "\n",
    "print(\"El score en el training fue: \", clf.score(X_train, y_train), \"\\nEl score en el test fue: \", clf.score(X_test, y_test))"
   ]
  },
  {
   "cell_type": "code",
   "execution_count": 45,
   "metadata": {},
   "outputs": [
    {
     "name": "stdout",
     "output_type": "stream",
     "text": [
      "El score en el training fue:  0.3728813559322034 \n",
      "El score en el test fue:  0.36363636363636365\n"
     ]
    }
   ],
   "source": [
    "## Por el momento este es el mejor\n",
    "clf = MLPClassifier(solver='sgd', alpha=1e-5, activation=\"relu\",\n",
    "                    hidden_layer_sizes=(30, 20000), random_state=1)\n",
    "clf.fit(X_train, y_train)\n",
    "\n",
    "print(\"El score en el training fue: \", clf.score(X_train, y_train), \"\\nEl score en el test fue: \", clf.score(X_test, y_test))"
   ]
  },
  {
   "cell_type": "code",
   "execution_count": 7,
   "metadata": {},
   "outputs": [
    {
     "name": "stdout",
     "output_type": "stream",
     "text": [
      "El score en el training fue:  0.43116883116883115 \n",
      "El score en el test fue:  0.39473684210526316\n"
     ]
    }
   ],
   "source": [
    "clf = MLPClassifier(solver='sgd', alpha=1e-5, activation=\"relu\",\n",
    "                    hidden_layer_sizes=(30, 20000), random_state=1)\n",
    "clf.fit(X_train, y_train)\n",
    "\n",
    "print(\"El score en el training fue: \", clf.score(X_train, y_train), \"\\nEl score en el test fue: \", clf.score(X_test, y_test))"
   ]
  },
  {
   "cell_type": "code",
   "execution_count": 11,
   "metadata": {},
   "outputs": [
    {
     "name": "stdout",
     "output_type": "stream",
     "text": [
      "El score en el training fue:  0.3881019830028329 \n",
      "El score en el test fue:  0.332378223495702\n"
     ]
    }
   ],
   "source": [
    "clf = MLPClassifier(solver='sgd', alpha=1e-5, activation=\"relu\",\n",
    "                    hidden_layer_sizes=(30, 20000), random_state=1)\n",
    "clf.fit(X_train, y_train)\n",
    "\n",
    "print(\"El score en el training fue: \", clf.score(X_train, y_train), \"\\nEl score en el test fue: \", clf.score(X_test, y_test))"
   ]
  },
  {
   "cell_type": "code",
   "execution_count": 18,
   "metadata": {},
   "outputs": [
    {
     "name": "stdout",
     "output_type": "stream",
     "text": [
      "El score en el training fue:  0.5714285714285714 \n",
      "El score en el test fue:  0.25510204081632654\n"
     ]
    }
   ],
   "source": [
    "clf = MLPClassifier(solver='lbfgs', alpha=1e-50, activation=\"relu\",\n",
    "                    hidden_layer_sizes=(30, 20000), random_state=1)\n",
    "clf.fit(X_train, y_train)\n",
    "\n",
    "print(\"El score en el training fue: \", clf.score(X_train, y_train), \"\\nEl score en el test fue: \", clf.score(X_test, y_test))"
   ]
  },
  {
   "cell_type": "code",
   "execution_count": 23,
   "metadata": {},
   "outputs": [
    {
     "name": "stdout",
     "output_type": "stream",
     "text": [
      "El score en el training fue:  0.336734693877551 \n",
      "El score en el test fue:  0.29591836734693877\n"
     ]
    }
   ],
   "source": [
    "clf = MLPClassifier(solver='sgd', alpha=1e-50, activation=\"relu\", learning_rate= \"adaptive\",\n",
    "                    hidden_layer_sizes=(30000, 200), random_state=1)\n",
    "clf.fit(X_train, y_train)\n",
    "\n",
    "print(\"El score en el training fue: \", clf.score(X_train, y_train), \"\\nEl score en el test fue: \", clf.score(X_test, y_test))"
   ]
  },
  {
   "cell_type": "code",
   "execution_count": 24,
   "metadata": {},
   "outputs": [
    {
     "name": "stdout",
     "output_type": "stream",
     "text": [
      "El score en el training fue:  0.336734693877551 \n",
      "El score en el test fue:  0.30612244897959184\n"
     ]
    }
   ],
   "source": [
    "clf = MLPClassifier(solver='sgd', alpha=1e-50, activation=\"relu\", learning_rate= \"adaptive\",\n",
    "                    hidden_layer_sizes=(3000, 200), random_state=1)\n",
    "clf.fit(X_train, y_train)\n",
    "\n",
    "print(\"El score en el training fue: \", clf.score(X_train, y_train), \"\\nEl score en el test fue: \", clf.score(X_test, y_test))"
   ]
  },
  {
   "cell_type": "code",
   "execution_count": 49,
   "metadata": {},
   "outputs": [
    {
     "name": "stdout",
     "output_type": "stream",
     "text": [
      "El score en el training fue:  0.30612244897959184 \n",
      "El score en el test fue:  0.25510204081632654\n"
     ]
    }
   ],
   "source": [
    "clf = MLPClassifier(solver='adam', alpha=1e-50, activation=\"tanh\", early_stopping=True, validation_fraction= 0.001,\n",
    "                    hidden_layer_sizes=(30, 20000), random_state=1)\n",
    "clf.fit(X_train, y_train)\n",
    "\n",
    "print(\"El score en el training fue: \", clf.score(X_train, y_train), \"\\nEl score en el test fue: \", clf.score(X_test, y_test))"
   ]
  },
  {
   "cell_type": "code",
   "execution_count": 50,
   "metadata": {},
   "outputs": [
    {
     "name": "stdout",
     "output_type": "stream",
     "text": [
      "El score en el training fue:  0.30612244897959184 \n",
      "El score en el test fue:  0.2755102040816326\n"
     ]
    }
   ],
   "source": [
    "clf = MLPClassifier(solver='sgd', alpha=1e-50, activation=\"tanh\", early_stopping=True, validation_fraction= 0.001,\n",
    "                    hidden_layer_sizes=(30, 20000), random_state=1)\n",
    "clf.fit(X_train, y_train)\n",
    "\n",
    "print(\"El score en el training fue: \", clf.score(X_train, y_train), \"\\nEl score en el test fue: \", clf.score(X_test, y_test))"
   ]
  },
  {
   "cell_type": "code",
   "execution_count": 51,
   "metadata": {},
   "outputs": [
    {
     "name": "stdout",
     "output_type": "stream",
     "text": [
      "El score en el training fue:  0.336734693877551 \n",
      "El score en el test fue:  0.30612244897959184\n"
     ]
    }
   ],
   "source": [
    "clf = MLPClassifier(solver='sgd', activation=\"relu\", learning_rate= \"adaptive\",\n",
    "                    hidden_layer_sizes=(30000, 2000), random_state=1)\n",
    "clf.fit(X_train, y_train)\n",
    "\n",
    "print(\"El score en el training fue: \", clf.score(X_train, y_train), \"\\nEl score en el test fue: \", clf.score(X_test, y_test))"
   ]
  },
  {
   "cell_type": "code",
   "execution_count": 24,
   "metadata": {},
   "outputs": [
    {
     "name": "stdout",
     "output_type": "stream",
     "text": [
      "El score en el training fue:  0.29591836734693877 \n",
      "El score en el test fue:  0.3469387755102041\n"
     ]
    }
   ],
   "source": [
    "clf = MLPClassifier(solver='sgd', alpha=1e-5, activation=\"relu\",\n",
    "                    hidden_layer_sizes=(3000, 2000), random_state=1)\n",
    "clf.fit(X_train, y_train)\n",
    "\n",
    "print(\"El score en el training fue: \", clf.score(X_train, y_train), \"\\nEl score en el test fue: \", clf.score(X_test, y_test))"
   ]
  },
  {
   "attachments": {},
   "cell_type": "markdown",
   "metadata": {},
   "source": [
    "<h2 style=\"text-align:center;\">Kmeans</h2>"
   ]
  },
  {
   "cell_type": "code",
   "execution_count": null,
   "metadata": {},
   "outputs": [],
   "source": [
    "kmeans = KMeans(n_clusters=5)\n",
    "kmeans.fit(features)\n",
    "y_pred = kmeans.predict(features)\n",
    "kmeans.score(features, y_pred)"
   ]
  },
  {
   "cell_type": "code",
   "execution_count": 17,
   "metadata": {},
   "outputs": [
    {
     "data": {
      "text/plain": [
       "-1011.5112867810037"
      ]
     },
     "execution_count": 17,
     "metadata": {},
     "output_type": "execute_result"
    }
   ],
   "source": [
    "kmeans = KMeans(n_clusters=5)\n",
    "kmeans.fit(features)\n",
    "y_pred = kmeans.predict(features)\n",
    "kmeans.score(features, y_pred)"
   ]
  },
  {
   "attachments": {},
   "cell_type": "markdown",
   "metadata": {},
   "source": [
    "<h2 style=\"text-align:center;\">Random forest</h2>"
   ]
  },
  {
   "cell_type": "code",
   "execution_count": 12,
   "metadata": {},
   "outputs": [
    {
     "name": "stdout",
     "output_type": "stream",
     "text": [
      "0.30945558739255014\n"
     ]
    }
   ],
   "source": [
    "from sklearn.ensemble import RandomForestClassifier\n",
    "from sklearn.metrics import accuracy_score\n",
    "\n",
    "clf = RandomForestClassifier()\n",
    "clf.fit(X_train, y_train)\n",
    "y_pred = clf.predict(X_test)\n",
    "print(accuracy_score(y_test, y_pred))\n"
   ]
  },
  {
   "cell_type": "code",
   "execution_count": 15,
   "metadata": {},
   "outputs": [
    {
     "name": "stdout",
     "output_type": "stream",
     "text": [
      "0.3157894736842105\n"
     ]
    }
   ],
   "source": [
    "from sklearn.ensemble import RandomForestClassifier\n",
    "from sklearn.metrics import accuracy_score\n",
    "\n",
    "clf = RandomForestClassifier()\n",
    "clf.fit(X_train, y_train)\n",
    "y_pred = clf.predict(X_test)\n",
    "print(accuracy_score(y_test, y_pred))\n"
   ]
  },
  {
   "cell_type": "code",
   "execution_count": 26,
   "metadata": {},
   "outputs": [
    {
     "name": "stdout",
     "output_type": "stream",
     "text": [
      "0.3131868131868132\n"
     ]
    }
   ],
   "source": [
    "from sklearn.ensemble import RandomForestClassifier\n",
    "from sklearn.metrics import accuracy_score\n",
    "\n",
    "clf = RandomForestClassifier()\n",
    "clf.fit(X_train, y_train)\n",
    "y_pred = clf.predict(X_test)\n",
    "print(accuracy_score(y_test, y_pred))\n"
   ]
  },
  {
   "attachments": {},
   "cell_type": "markdown",
   "metadata": {},
   "source": [
    "<h2 style=\"text-align:center;\">Regresión logistica</h2>"
   ]
  },
  {
   "cell_type": "code",
   "execution_count": 13,
   "metadata": {},
   "outputs": [
    {
     "name": "stdout",
     "output_type": "stream",
     "text": [
      "0.32951289398280803\n"
     ]
    }
   ],
   "source": [
    "from sklearn.linear_model import LogisticRegression\n",
    "from sklearn.metrics import accuracy_score\n",
    "\n",
    "clf = LogisticRegression()\n",
    "clf.fit(X_train, y_train)\n",
    "y_pred = clf.predict(X_test)\n",
    "print(accuracy_score(y_test, y_pred))"
   ]
  },
  {
   "cell_type": "code",
   "execution_count": 14,
   "metadata": {},
   "outputs": [
    {
     "name": "stdout",
     "output_type": "stream",
     "text": [
      "0.39473684210526316\n"
     ]
    }
   ],
   "source": [
    "from sklearn.linear_model import LogisticRegression\n",
    "from sklearn.metrics import accuracy_score\n",
    "\n",
    "clf = LogisticRegression()\n",
    "clf.fit(X_train, y_train)\n",
    "y_pred = clf.predict(X_test)\n",
    "print(accuracy_score(y_test, y_pred))"
   ]
  },
  {
   "cell_type": "code",
   "execution_count": 34,
   "metadata": {},
   "outputs": [
    {
     "name": "stdout",
     "output_type": "stream",
     "text": [
      "0.37362637362637363\n"
     ]
    }
   ],
   "source": [
    "from sklearn.linear_model import LogisticRegression\n",
    "from sklearn.metrics import accuracy_score\n",
    "\n",
    "clf = LogisticRegression()\n",
    "clf.fit(X_train, y_train)\n",
    "y_pred = clf.predict(X_test)\n",
    "print(accuracy_score(y_test, y_pred))"
   ]
  },
  {
   "attachments": {},
   "cell_type": "markdown",
   "metadata": {},
   "source": [
    "<h2 style=\"text-align:center;\">Hierechical clustering</h2>"
   ]
  },
  {
   "cell_type": "code",
   "execution_count": 14,
   "metadata": {},
   "outputs": [
    {
     "name": "stdout",
     "output_type": "stream",
     "text": [
      "0.16905444126074498\n"
     ]
    }
   ],
   "source": [
    "from sklearn.cluster import AgglomerativeClustering\n",
    "\n",
    "cluster = AgglomerativeClustering(n_clusters=5)\n",
    "y_pred = cluster.fit_predict(X_train)\n",
    "y_pred = cluster.fit_predict(X_test)\n",
    "print(accuracy_score(y_test, y_pred))"
   ]
  },
  {
   "cell_type": "code",
   "execution_count": 28,
   "metadata": {},
   "outputs": [
    {
     "name": "stdout",
     "output_type": "stream",
     "text": [
      "0.15934065934065933\n"
     ]
    }
   ],
   "source": [
    "from sklearn.cluster import AgglomerativeClustering\n",
    "\n",
    "cluster = AgglomerativeClustering(n_clusters=5)\n",
    "y_pred = cluster.fit_predict(X_train)\n",
    "y_pred = cluster.fit_predict(X_test)\n",
    "print(accuracy_score(y_test, y_pred))"
   ]
  },
  {
   "cell_type": "code",
   "execution_count": 18,
   "metadata": {},
   "outputs": [
    {
     "name": "stdout",
     "output_type": "stream",
     "text": [
      "0.18181818181818182\n"
     ]
    }
   ],
   "source": [
    "from sklearn.cluster import AgglomerativeClustering\n",
    "\n",
    "cluster = AgglomerativeClustering(n_clusters=5)\n",
    "y_pred = cluster.fit_predict(X_train)\n",
    "y_pred = cluster.fit_predict(X_test)\n",
    "print(accuracy_score(y_test, y_pred))"
   ]
  },
  {
   "attachments": {},
   "cell_type": "markdown",
   "metadata": {},
   "source": [
    "<h2 style=\"text-align:center;\">Arbol de desicion</h2>"
   ]
  },
  {
   "cell_type": "code",
   "execution_count": 48,
   "metadata": {},
   "outputs": [
    {
     "name": "stdout",
     "output_type": "stream",
     "text": [
      "0.29292929292929293\n"
     ]
    }
   ],
   "source": [
    "from sklearn.tree import DecisionTreeClassifier\n",
    "\n",
    "clf = DecisionTreeClassifier()\n",
    "clf.fit(X_train, y_train)\n",
    "y_pred = clf.predict(X_test)\n",
    "print(accuracy_score(y_test, y_pred))\n"
   ]
  },
  {
   "cell_type": "code",
   "execution_count": 15,
   "metadata": {},
   "outputs": [
    {
     "name": "stdout",
     "output_type": "stream",
     "text": [
      "0.30659025787965616\n"
     ]
    }
   ],
   "source": [
    "from sklearn.tree import DecisionTreeClassifier\n",
    "\n",
    "clf = DecisionTreeClassifier()\n",
    "clf.fit(X_train, y_train)\n",
    "y_pred = clf.predict(X_test)\n",
    "print(accuracy_score(y_test, y_pred))\n"
   ]
  },
  {
   "cell_type": "code",
   "execution_count": 44,
   "metadata": {},
   "outputs": [
    {
     "name": "stdout",
     "output_type": "stream",
     "text": [
      "0.2807017543859649\n"
     ]
    }
   ],
   "source": [
    "from sklearn.tree import DecisionTreeClassifier\n",
    "\n",
    "clf = DecisionTreeClassifier()\n",
    "clf.fit(X_train, y_train)\n",
    "y_pred = clf.predict(X_test)\n",
    "print(accuracy_score(y_test, y_pred))"
   ]
  },
  {
   "attachments": {},
   "cell_type": "markdown",
   "metadata": {},
   "source": [
    "<h2 style=\"text-align:center;\">GaussianNB</h2>"
   ]
  },
  {
   "cell_type": "code",
   "execution_count": 4,
   "metadata": {},
   "outputs": [
    {
     "name": "stdout",
     "output_type": "stream",
     "text": [
      "Mejores parámetros encontrados:  {'bagging__n_estimators': 10000, 'bagging__max_features': 0.01}\n",
      "Mejor score:  0.34560982918789335\n",
      "Score en conjunto de pruebas:  0.3237822349570201\n"
     ]
    }
   ],
   "source": [
    "from sklearn.pipeline import Pipeline\n",
    "from sklearn.naive_bayes import GaussianNB\n",
    "from scipy.stats import uniform, norm\n",
    "from sklearn.model_selection import RandomizedSearchCV\n",
    "from sklearn.ensemble import BaggingClassifier, GradientBoostingClassifier\n",
    "\n",
    "pipeline = Pipeline([\n",
    "    (\"bagging\", BaggingClassifier(base_estimator = GaussianNB()))\n",
    "])\n",
    "\n",
    "rand_params = {\n",
    "    #'classifier__var_smoothing': norm(loc=1e-9, scale=1e-3),\n",
    "    #\"classifier__priors\": [None,np.array([0.25,0.75])],\n",
    "    #\"classifier__var_smoothing\": uniform(1e-9, 1e-3),\n",
    "    'bagging__max_features': [0.01, 20],\n",
    "    'bagging__n_estimators': [1, 10000],\n",
    "}\n",
    "\n",
    "rand_search = RandomizedSearchCV(pipeline, rand_params, cv=5, n_iter=100, n_jobs=-1, random_state=0)\n",
    "rand_search.fit(X_train, y_train)\n",
    "\n",
    "print(\"Mejores parámetros encontrados: \", rand_search.best_params_)\n",
    "print(\"Mejor score: \", rand_search.best_score_)\n",
    "print(\"Score en conjunto de pruebas: \", rand_search.score(X_test, y_test))"
   ]
  },
  {
   "cell_type": "code",
   "execution_count": 27,
   "metadata": {},
   "outputs": [
    {
     "name": "stdout",
     "output_type": "stream",
     "text": [
      "Score en conjunto de pruebas:  0.33810888252148996\n"
     ]
    }
   ],
   "source": [
    "bag = BaggingClassifier(base_estimator=GaussianNB(), n_estimators=100)\n",
    "bag.fit(X_train, y_train)\n",
    "print(\"Score en conjunto de pruebas: \", bag.score(X_test, y_test))"
   ]
  },
  {
   "cell_type": "code",
   "execution_count": 5,
   "metadata": {},
   "outputs": [
    {
     "name": "stdout",
     "output_type": "stream",
     "text": [
      "0.3237822349570201\n"
     ]
    }
   ],
   "source": [
    "from sklearn.naive_bayes import GaussianNB\n",
    "from sklearn.model_selection import train_test_split\n",
    "from sklearn.metrics import accuracy_score\n",
    "\n",
    "clf = GaussianNB()\n",
    "clf.fit(X_train, y_train)\n",
    "y_pred = clf.predict(X_test)\n",
    "print(accuracy_score(y_test, y_pred))"
   ]
  },
  {
   "cell_type": "code",
   "execution_count": 8,
   "metadata": {},
   "outputs": [
    {
     "name": "stdout",
     "output_type": "stream",
     "text": [
      "<class 'pandas.core.frame.DataFrame'>\n",
      "Int64Index: 706 entries, 571 to 499\n",
      "Data columns (total 5 columns):\n",
      " #   Column        Non-Null Count  Dtype\n",
      "---  ------        --------------  -----\n",
      " 0   COLOR         706 non-null    int32\n",
      " 1   ESTETICA      706 non-null    int32\n",
      " 2   LARGO         706 non-null    int32\n",
      " 3   SILUETA       706 non-null    int32\n",
      " 4   SUBCATEGORIA  706 non-null    int32\n",
      "dtypes: int32(5)\n",
      "memory usage: 19.3 KB\n"
     ]
    }
   ],
   "source": [
    "X_train.info()"
   ]
  },
  {
   "cell_type": "code",
   "execution_count": 6,
   "metadata": {},
   "outputs": [
    {
     "name": "stdout",
     "output_type": "stream",
     "text": [
      "0.3328611898016997\n"
     ]
    }
   ],
   "source": [
    "y_pred = clf.predict(X_train)\n",
    "print(accuracy_score(y_train, y_pred))"
   ]
  },
  {
   "cell_type": "code",
   "execution_count": 8,
   "metadata": {},
   "outputs": [
    {
     "name": "stdout",
     "output_type": "stream",
     "text": [
      "0.4052631578947368\n"
     ]
    }
   ],
   "source": [
    "from sklearn.naive_bayes import GaussianNB\n",
    "from sklearn.model_selection import train_test_split\n",
    "from sklearn.metrics import accuracy_score\n",
    "\n",
    "clf = GaussianNB()\n",
    "clf.fit(X_train, y_train)\n",
    "y_pred = clf.predict(X_test)\n",
    "print(accuracy_score(y_test, y_pred))"
   ]
  },
  {
   "cell_type": "code",
   "execution_count": 30,
   "metadata": {},
   "outputs": [
    {
     "name": "stdout",
     "output_type": "stream",
     "text": [
      "0.3516483516483517\n"
     ]
    }
   ],
   "source": [
    "from sklearn.naive_bayes import GaussianNB\n",
    "from sklearn.model_selection import train_test_split\n",
    "from sklearn.metrics import accuracy_score\n",
    "\n",
    "clf = GaussianNB()\n",
    "clf.fit(X_train, y_train)\n",
    "y_pred = clf.predict(X_test)\n",
    "print(accuracy_score(y_test, y_pred))"
   ]
  },
  {
   "attachments": {},
   "cell_type": "markdown",
   "metadata": {},
   "source": [
    "<h2 style=\"text-align:center;\">SVM (máquinas de vectores de soporte)</h2>"
   ]
  },
  {
   "cell_type": "code",
   "execution_count": 38,
   "metadata": {},
   "outputs": [
    {
     "name": "stdout",
     "output_type": "stream",
     "text": [
      "0.32460732984293195\n"
     ]
    }
   ],
   "source": [
    "from sklearn.svm import SVC\n",
    "\n",
    "clf = SVC()\n",
    "clf.fit(X_train, y_train)\n",
    "y_pred = clf.predict(X_test)\n",
    "print(accuracy_score(y_test, y_pred))"
   ]
  },
  {
   "cell_type": "code",
   "execution_count": 9,
   "metadata": {},
   "outputs": [
    {
     "name": "stdout",
     "output_type": "stream",
     "text": [
      "0.38421052631578945\n"
     ]
    }
   ],
   "source": [
    "from sklearn.svm import SVC\n",
    "\n",
    "clf = SVC()\n",
    "clf.fit(X_train, y_train)\n",
    "y_pred = clf.predict(X_test)\n",
    "print(accuracy_score(y_test, y_pred))"
   ]
  },
  {
   "cell_type": "code",
   "execution_count": 17,
   "metadata": {},
   "outputs": [
    {
     "name": "stdout",
     "output_type": "stream",
     "text": [
      "0.3037249283667622\n"
     ]
    }
   ],
   "source": [
    "from sklearn.svm import SVC\n",
    "\n",
    "clf = SVC()\n",
    "clf.fit(X_train, y_train)\n",
    "y_pred = clf.predict(X_test)\n",
    "print(accuracy_score(y_test, y_pred))"
   ]
  },
  {
   "attachments": {},
   "cell_type": "markdown",
   "metadata": {},
   "source": [
    "<h2 style=\"text-align:center;\">Gaussian Mixture Model</h2>"
   ]
  },
  {
   "cell_type": "code",
   "execution_count": 18,
   "metadata": {},
   "outputs": [
    {
     "name": "stdout",
     "output_type": "stream",
     "text": [
      "0.15759312320916904\n"
     ]
    }
   ],
   "source": [
    "from sklearn.mixture import GaussianMixture\n",
    "\n",
    "clf = GaussianMixture(n_components=5)\n",
    "clf.fit(X_train, y_train)\n",
    "y_pred = clf.predict(X_test)\n",
    "print(accuracy_score(y_test, y_pred))"
   ]
  },
  {
   "cell_type": "code",
   "execution_count": 16,
   "metadata": {},
   "outputs": [
    {
     "name": "stdout",
     "output_type": "stream",
     "text": [
      "0.24210526315789474\n"
     ]
    }
   ],
   "source": [
    "from sklearn.mixture import GaussianMixture\n",
    "\n",
    "clf = GaussianMixture(n_components=5)\n",
    "clf.fit(X_train, y_train)\n",
    "y_pred = clf.predict(X_test)\n",
    "print(accuracy_score(y_test, y_pred))"
   ]
  },
  {
   "cell_type": "code",
   "execution_count": 10,
   "metadata": {},
   "outputs": [
    {
     "name": "stdout",
     "output_type": "stream",
     "text": [
      "0.23859649122807017\n"
     ]
    }
   ],
   "source": [
    "from sklearn.mixture import GaussianMixture\n",
    "\n",
    "clf = GaussianMixture(n_components=5)\n",
    "clf.fit(X_train, y_train)\n",
    "y_pred = clf.predict(X_test)\n",
    "print(accuracy_score(y_test, y_pred))"
   ]
  },
  {
   "attachments": {},
   "cell_type": "markdown",
   "metadata": {},
   "source": [
    "<h2 style=\"text-align:center;\">Perceptron</h2>"
   ]
  },
  {
   "cell_type": "code",
   "execution_count": 19,
   "metadata": {},
   "outputs": [
    {
     "name": "stdout",
     "output_type": "stream",
     "text": [
      "0.3209169054441261\n"
     ]
    }
   ],
   "source": [
    "from sklearn.linear_model import Perceptron\n",
    "\n",
    "clf = Perceptron()\n",
    "clf.fit(X_train, y_train)\n",
    "y_pred = clf.predict(X_test)\n",
    "print(accuracy_score(y_test, y_pred))"
   ]
  },
  {
   "cell_type": "code",
   "execution_count": 11,
   "metadata": {},
   "outputs": [
    {
     "name": "stdout",
     "output_type": "stream",
     "text": [
      "0.38421052631578945\n"
     ]
    }
   ],
   "source": [
    "from sklearn.linear_model import Perceptron\n",
    "\n",
    "clf = Perceptron()\n",
    "clf.fit(X_train, y_train)\n",
    "y_pred = clf.predict(X_test)\n",
    "print(accuracy_score(y_test, y_pred))"
   ]
  },
  {
   "cell_type": "code",
   "execution_count": 24,
   "metadata": {},
   "outputs": [
    {
     "name": "stdout",
     "output_type": "stream",
     "text": [
      "0.34065934065934067\n"
     ]
    }
   ],
   "source": [
    "from sklearn.linear_model import Perceptron\n",
    "\n",
    "clf = Perceptron()\n",
    "clf.fit(X_train, y_train)\n",
    "y_pred = clf.predict(X_test)\n",
    "print(accuracy_score(y_test, y_pred))"
   ]
  },
  {
   "cell_type": "code",
   "execution_count": 20,
   "metadata": {},
   "outputs": [
    {
     "data": {
      "text/html": [
       "<div>\n",
       "<style scoped>\n",
       "    .dataframe tbody tr th:only-of-type {\n",
       "        vertical-align: middle;\n",
       "    }\n",
       "\n",
       "    .dataframe tbody tr th {\n",
       "        vertical-align: top;\n",
       "    }\n",
       "\n",
       "    .dataframe thead th {\n",
       "        text-align: right;\n",
       "    }\n",
       "</style>\n",
       "<table border=\"1\" class=\"dataframe\">\n",
       "  <thead>\n",
       "    <tr style=\"text-align: right;\">\n",
       "      <th></th>\n",
       "      <th>BASE TELA</th>\n",
       "      <th>COLOR</th>\n",
       "      <th>GENERO</th>\n",
       "      <th>CATEGORIA</th>\n",
       "      <th>ESTETICA</th>\n",
       "      <th>LARGO</th>\n",
       "      <th>SILUETA</th>\n",
       "      <th>TIPO</th>\n",
       "      <th>SUBCATEGORIA</th>\n",
       "      <th>item</th>\n",
       "      <th>calificacion</th>\n",
       "      <th>calif</th>\n",
       "      <th>min</th>\n",
       "    </tr>\n",
       "  </thead>\n",
       "  <tbody>\n",
       "    <tr>\n",
       "      <th>0</th>\n",
       "      <td>PUNTO</td>\n",
       "      <td>ROSADO</td>\n",
       "      <td>HOMBRE</td>\n",
       "      <td>CAMISETA</td>\n",
       "      <td>ILUSTRACIÓN EN PECHO Y ESPALDA</td>\n",
       "      <td>REGULAR</td>\n",
       "      <td>AMPLIO</td>\n",
       "      <td>MANGA CORTA</td>\n",
       "      <td>CAMISETA BOX FIT</td>\n",
       "      <td>55728</td>\n",
       "      <td>A</td>\n",
       "      <td>3</td>\n",
       "      <td>2021_03,2</td>\n",
       "    </tr>\n",
       "    <tr>\n",
       "      <th>1</th>\n",
       "      <td>PUNTO</td>\n",
       "      <td>AZUL OSCURO</td>\n",
       "      <td>HOMBRE</td>\n",
       "      <td>CAMISETA</td>\n",
       "      <td>TEXTO REPUJADO</td>\n",
       "      <td>REGULAR</td>\n",
       "      <td>AMPLIO</td>\n",
       "      <td>MANGA CORTA</td>\n",
       "      <td>CAMISETA</td>\n",
       "      <td>55725</td>\n",
       "      <td>B</td>\n",
       "      <td>4</td>\n",
       "      <td>2021_07,5</td>\n",
       "    </tr>\n",
       "    <tr>\n",
       "      <th>2</th>\n",
       "      <td>PLANO</td>\n",
       "      <td>NEGRO</td>\n",
       "      <td>HOMBRE</td>\n",
       "      <td>CAMISETA</td>\n",
       "      <td>TEXTO Y NÚMEROS CON APLIQUE</td>\n",
       "      <td>OVER</td>\n",
       "      <td>AMPLIO</td>\n",
       "      <td>MANGA CORTA</td>\n",
       "      <td>CAMISETA OVERSIZE</td>\n",
       "      <td>55699</td>\n",
       "      <td>B</td>\n",
       "      <td>4</td>\n",
       "      <td>2021_05,3</td>\n",
       "    </tr>\n",
       "    <tr>\n",
       "      <th>3</th>\n",
       "      <td>PUNTO</td>\n",
       "      <td>ROJO</td>\n",
       "      <td>HOMBRE</td>\n",
       "      <td>CAMISETA</td>\n",
       "      <td>TEXTO REPUJADO</td>\n",
       "      <td>REGULAR</td>\n",
       "      <td>AMPLIO</td>\n",
       "      <td>MANGA CORTA</td>\n",
       "      <td>CAMISETA</td>\n",
       "      <td>55700</td>\n",
       "      <td>A</td>\n",
       "      <td>3</td>\n",
       "      <td>2021_01,2</td>\n",
       "    </tr>\n",
       "    <tr>\n",
       "      <th>4</th>\n",
       "      <td>PUNTO</td>\n",
       "      <td>NEGRO</td>\n",
       "      <td>HOMBRE</td>\n",
       "      <td>CAMISETA</td>\n",
       "      <td>BÁSICO</td>\n",
       "      <td>REGULAR</td>\n",
       "      <td>AMPLIO</td>\n",
       "      <td>MANGA CORTA</td>\n",
       "      <td>CAMISETA BOX FIT</td>\n",
       "      <td>60127</td>\n",
       "      <td>A</td>\n",
       "      <td>3</td>\n",
       "      <td>2021_04,5</td>\n",
       "    </tr>\n",
       "    <tr>\n",
       "      <th>...</th>\n",
       "      <td>...</td>\n",
       "      <td>...</td>\n",
       "      <td>...</td>\n",
       "      <td>...</td>\n",
       "      <td>...</td>\n",
       "      <td>...</td>\n",
       "      <td>...</td>\n",
       "      <td>...</td>\n",
       "      <td>...</td>\n",
       "      <td>...</td>\n",
       "      <td>...</td>\n",
       "      <td>...</td>\n",
       "      <td>...</td>\n",
       "    </tr>\n",
       "    <tr>\n",
       "      <th>1573</th>\n",
       "      <td>PUNTO</td>\n",
       "      <td>ROJO</td>\n",
       "      <td>HOMBRE</td>\n",
       "      <td>CAMISETA</td>\n",
       "      <td>TEXTO</td>\n",
       "      <td>REGULAR</td>\n",
       "      <td>AMPLIO</td>\n",
       "      <td>MANGA CORTA</td>\n",
       "      <td>CAMISETA OVERSIZE</td>\n",
       "      <td>62650</td>\n",
       "      <td>AAA</td>\n",
       "      <td>2</td>\n",
       "      <td>2021_11,4</td>\n",
       "    </tr>\n",
       "    <tr>\n",
       "      <th>1576</th>\n",
       "      <td>PUNTO</td>\n",
       "      <td>ROSADO</td>\n",
       "      <td>HOMBRE</td>\n",
       "      <td>CAMISETA</td>\n",
       "      <td>ILUSTRACIÓN</td>\n",
       "      <td>REGULAR</td>\n",
       "      <td>AMPLIO</td>\n",
       "      <td>NO APLICA</td>\n",
       "      <td>CAMISETA BOX FIT</td>\n",
       "      <td>55735</td>\n",
       "      <td>B-</td>\n",
       "      <td>5</td>\n",
       "      <td>2021_01,4</td>\n",
       "    </tr>\n",
       "    <tr>\n",
       "      <th>1577</th>\n",
       "      <td>PUNTO</td>\n",
       "      <td>NEGRO</td>\n",
       "      <td>HOMBRE</td>\n",
       "      <td>CAMISETA</td>\n",
       "      <td>BÁSICO</td>\n",
       "      <td>REGULAR</td>\n",
       "      <td>AMPLIO</td>\n",
       "      <td>NO APLICA</td>\n",
       "      <td>CAMISETA BOX FIT</td>\n",
       "      <td>55752</td>\n",
       "      <td>B</td>\n",
       "      <td>4</td>\n",
       "      <td>2021_09,2</td>\n",
       "    </tr>\n",
       "    <tr>\n",
       "      <th>1579</th>\n",
       "      <td>PUNTO</td>\n",
       "      <td>MARFIL</td>\n",
       "      <td>HOMBRE</td>\n",
       "      <td>CAMISETA</td>\n",
       "      <td>ILUSTRACIÓN</td>\n",
       "      <td>OVER</td>\n",
       "      <td>AMPLIO</td>\n",
       "      <td>MANGA CORTA</td>\n",
       "      <td>CAMISETA EN BURDA OVERSIZE</td>\n",
       "      <td>63496</td>\n",
       "      <td>AAA+</td>\n",
       "      <td>1</td>\n",
       "      <td>2022_04,2</td>\n",
       "    </tr>\n",
       "    <tr>\n",
       "      <th>1580</th>\n",
       "      <td>PUNTO</td>\n",
       "      <td>NEGRO</td>\n",
       "      <td>HOMBRE</td>\n",
       "      <td>CAMISETA</td>\n",
       "      <td>ILUSTRACIÓN EN RELIEVE</td>\n",
       "      <td>REGULAR</td>\n",
       "      <td>AMPLIO</td>\n",
       "      <td>MANGA CORTA</td>\n",
       "      <td>CAMISETA</td>\n",
       "      <td>53734</td>\n",
       "      <td>AAA</td>\n",
       "      <td>2</td>\n",
       "      <td>2021_04,3</td>\n",
       "    </tr>\n",
       "  </tbody>\n",
       "</table>\n",
       "<p>1055 rows × 13 columns</p>\n",
       "</div>"
      ],
      "text/plain": [
       "     BASE TELA        COLOR  GENERO CATEGORIA                        ESTETICA  \\\n",
       "0        PUNTO       ROSADO  HOMBRE  CAMISETA  ILUSTRACIÓN EN PECHO Y ESPALDA   \n",
       "1        PUNTO  AZUL OSCURO  HOMBRE  CAMISETA                  TEXTO REPUJADO   \n",
       "2        PLANO        NEGRO  HOMBRE  CAMISETA     TEXTO Y NÚMEROS CON APLIQUE   \n",
       "3        PUNTO         ROJO  HOMBRE  CAMISETA                  TEXTO REPUJADO   \n",
       "4        PUNTO        NEGRO  HOMBRE  CAMISETA                          BÁSICO   \n",
       "...        ...          ...     ...       ...                             ...   \n",
       "1573     PUNTO         ROJO  HOMBRE  CAMISETA                           TEXTO   \n",
       "1576     PUNTO       ROSADO  HOMBRE  CAMISETA                     ILUSTRACIÓN   \n",
       "1577     PUNTO        NEGRO  HOMBRE  CAMISETA                          BÁSICO   \n",
       "1579     PUNTO       MARFIL  HOMBRE  CAMISETA                     ILUSTRACIÓN   \n",
       "1580     PUNTO        NEGRO  HOMBRE  CAMISETA          ILUSTRACIÓN EN RELIEVE   \n",
       "\n",
       "        LARGO SILUETA         TIPO                SUBCATEGORIA   item  \\\n",
       "0     REGULAR  AMPLIO  MANGA CORTA            CAMISETA BOX FIT  55728   \n",
       "1     REGULAR  AMPLIO  MANGA CORTA                    CAMISETA  55725   \n",
       "2        OVER  AMPLIO  MANGA CORTA           CAMISETA OVERSIZE  55699   \n",
       "3     REGULAR  AMPLIO  MANGA CORTA                    CAMISETA  55700   \n",
       "4     REGULAR  AMPLIO  MANGA CORTA            CAMISETA BOX FIT  60127   \n",
       "...       ...     ...          ...                         ...    ...   \n",
       "1573  REGULAR  AMPLIO  MANGA CORTA           CAMISETA OVERSIZE  62650   \n",
       "1576  REGULAR  AMPLIO    NO APLICA            CAMISETA BOX FIT  55735   \n",
       "1577  REGULAR  AMPLIO    NO APLICA            CAMISETA BOX FIT  55752   \n",
       "1579     OVER  AMPLIO  MANGA CORTA  CAMISETA EN BURDA OVERSIZE  63496   \n",
       "1580  REGULAR  AMPLIO  MANGA CORTA                    CAMISETA  53734   \n",
       "\n",
       "     calificacion  calif        min  \n",
       "0               A      3  2021_03,2  \n",
       "1               B      4  2021_07,5  \n",
       "2               B      4  2021_05,3  \n",
       "3               A      3  2021_01,2  \n",
       "4               A      3  2021_04,5  \n",
       "...           ...    ...        ...  \n",
       "1573          AAA      2  2021_11,4  \n",
       "1576           B-      5  2021_01,4  \n",
       "1577            B      4  2021_09,2  \n",
       "1579         AAA+      1  2022_04,2  \n",
       "1580          AAA      2  2021_04,3  \n",
       "\n",
       "[1055 rows x 13 columns]"
      ]
     },
     "execution_count": 20,
     "metadata": {},
     "output_type": "execute_result"
    }
   ],
   "source": [
    "maestro"
   ]
  }
 ],
 "metadata": {
  "kernelspec": {
   "display_name": "base",
   "language": "python",
   "name": "python3"
  },
  "language_info": {
   "codemirror_mode": {
    "name": "ipython",
    "version": 3
   },
   "file_extension": ".py",
   "mimetype": "text/x-python",
   "name": "python",
   "nbconvert_exporter": "python",
   "pygments_lexer": "ipython3",
   "version": "3.8.8 (default, Apr 13 2021, 15:08:03) [MSC v.1916 64 bit (AMD64)]"
  },
  "orig_nbformat": 4,
  "vscode": {
   "interpreter": {
    "hash": "ad2bdc8ecc057115af97d19610ffacc2b4e99fae6737bb82f5d7fb13d2f2c186"
   }
  }
 },
 "nbformat": 4,
 "nbformat_minor": 2
}
