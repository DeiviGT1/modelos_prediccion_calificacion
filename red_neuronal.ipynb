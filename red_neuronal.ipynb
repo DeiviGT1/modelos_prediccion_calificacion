{
 "cells": [
  {
   "cell_type": "code",
   "execution_count": 1,
   "metadata": {},
   "outputs": [],
   "source": [
    "from rutas import data_clean\n",
    "maestro = data_clean()\n",
    "maestro = maestro[(maestro[\"min\"].apply(lambda x: x[:4])==\"2022\")|(maestro[\"min\"].apply(lambda x: x[:4])==\"2021\")]"
   ]
  },
  {
   "cell_type": "code",
   "execution_count": 29,
   "metadata": {},
   "outputs": [],
   "source": [
    "import seaborn as sns\n",
    "import matplotlib.pyplot as plt\n",
    "import numpy as np\n",
    "import pandas as pd\n",
    "\n",
    "from sklearn.preprocessing import LabelEncoder, OneHotEncoder\n",
    "from sklearn.model_selection import train_test_split, GridSearchCV\n",
    "from sklearn.compose import make_column_transformer, make_column_selector\n",
    "from sklearn.feature_selection import SelectKBest, f_regression\n",
    "from sklearn.linear_model import LinearRegression\n",
    "from sklearn.pipeline import Pipeline\n",
    "from sklearn.cluster import KMeans\n",
    "from sklearn import preprocessing\n",
    "from sklearn.neural_network import MLPClassifier\n",
    "import warnings\n",
    "\n",
    "warnings.filterwarnings(\"ignore\")\n",
    "\n",
    "y = np.array(maestro[\"calif\"])\n",
    "X = maestro.copy()\n",
    "X.drop([\"calificacion\", \"calif\"], axis=1, inplace=True)\n",
    "\n",
    "X = X[[\"COLOR\", \"ESTETICA\", \"LARGO\", \"SILUETA\"]]\n",
    "\n",
    "categorical_columns = maestro.select_dtypes(include='object').columns\n",
    "df_copy = maestro.copy()\n",
    "label_encoders = {col: LabelEncoder() for col in categorical_columns}\n",
    "for col in categorical_columns:\n",
    "    df_copy[col] = label_encoders[col].fit_transform(df_copy[col])\n",
    "features = df_copy[[\"COLOR\", \"ESTETICA\", \"LARGO\", \"SILUETA\", \"SUBCATEGORIA\"]]\n",
    "target = df_copy['calif']\n",
    "X_train, X_test, y_train, y_test = train_test_split(features, target, test_size=0.33, random_state=1)\n"
   ]
  },
  {
   "attachments": {},
   "cell_type": "markdown",
   "metadata": {},
   "source": [
    "<h2 style=\"text-align:center;\">Regresion lineal multivariada</h2>"
   ]
  },
  {
   "cell_type": "code",
   "execution_count": 126,
   "metadata": {},
   "outputs": [],
   "source": [
    "dict_criterios = {\"HOMBRE\":\n",
    "    {\"BUZO\":[\"COLOR\", \"ESTIICA\", \"TIPO\"], #TIPO PULLOVER - HOODIE\n",
    "    \"CAMISA\": [\"ESTETICA\", \"FIT\", \"COLOR\"],\n",
    "    \"CAMISETA\":[\"COLOR\", \"ESTETICA\", \"FIT\", \"TIPO\"], #TIPO MANGA CORGA - MANGA LARGA\n",
    "    \"CHAQUETA\": [\"COLOR\", \"ESTETICA\"],\n",
    "    \"JEAN\": [\"COLOR\", \"ESTETICA\"],\n",
    "    \"JOGGER\": [\"COLOR\", \"ESTETICA\"],\n",
    "    \"SHORTS\": [\"COLOR\", \"ESTETICA\"],\n",
    "    \"SHORTS PLANO\": [\"COLOR\", \"ESTETICA\"],\n",
    "    \"PANTALON\": [\"COLOR\"],\n",
    "    \"POLO\": [\"COLOR\", \"TEJIDO\", \"PUNTO CORAZON\"],\n",
    "    \"TANK\": [\"COLOR\", \"ESTETICA\", \"TIPO\"] #TIPO CHOMPA\n",
    "    },\n",
    "    \"MUJER\":{\"BUZO\":[\"COLOR\", \"ESTIICA\", \"TIPO\", \"LARGO\", \"BASE TELA\", \"SILUETA\"], #TIPO PULLOVER - HOODIE ## VALIDAR SI TENEMOS SOLUETA\n",
    "    \"CAMISA\": [\"ESTETICA\", \"TIPO\", \"COLOR\", \"LARGO\"], #TIPO MANGA CORGA - MANGA LARGA\n",
    "    \"CAMISETA\":[\"COLOR\", \"ESTETICA\", \"LARGO\", \"SILUETA\"], #TIPO MANGA CORGA - MANGA LARGA\n",
    "    \"CHAQUETA\": [\"COLOR\", \"ESTETICA\", \"TIPO\", \"LARGO\", \"BASE TELA\", \"SILUETA\"],\n",
    "    \"FALDA\": [\"ESTETICA\", \"BASE TELA\", \"LARGO\"],\n",
    "    \"HAREM\" : [\"SILUETA\", \"MOLDE\", \"COLOR\", \"ESTETICA\", \"BASE TELA\"],\n",
    "    \"JEAN\": [\"COLOR\", \"ESTETICA\", \"TIPO\", \"TIRO\"], #TIRO EN LA SUBCATEGORIA\n",
    "    \"JOGGER\": [\"COLOR\", \"ESTETICA\", \"SILUETA\", \"BASE TELA\", \"TIPO\"],\n",
    "    \"PANTALON\": [\"COLOR\", \"ESTETICA\", \"TIRO\", \"TIPO\"], #TIRO EN LA SUBCATEGORIA\n",
    "    \"R DEPORTIVA\": [\"COLOR\", \"ESTETICA\", \"BASE TELA\", \"SILUETA\"],\n",
    "    \"SHORTS\": [\"COLOR\", \"ESTETICA\", \"SILUETA\", \"BASE TELA\"],\n",
    "    \"SHORTS DENIM\": [\"COLOR\", \"ESTETICA\", \"BASE TELA\", \"TIRO\"],\n",
    "    \"TOP\": [\"COLOR\", \"LARGO\", \"SILUETA\", \"ESTETICA\", \"TIPO\"],\n",
    "    \"TOP ML\": [\"COLOR\", \"LARGO\", \"SILUETA\", \"ESTETICA\", \"TIPO\"],\n",
    "    \"VESTIDO\": [\"BASE TELA\", \"SILUETA\", \"LARGO\", \"ESTETICA\", \"COLOR\", \"TIPO\"], \n",
    "    \"VESTIDO DE BAÑO\": [\"COLOR\", \"ESTETICA\", \"MOLDE\"]\n",
    "    }\n",
    "}"
   ]
  },
  {
   "attachments": {},
   "cell_type": "markdown",
   "metadata": {},
   "source": [
    "<h4 style=\"text-align:center;\">Modelo</h4>"
   ]
  },
  {
   "cell_type": "code",
   "execution_count": 41,
   "metadata": {},
   "outputs": [
    {
     "name": "stdout",
     "output_type": "stream",
     "text": [
      "mse train: 1.5 \n",
      "mse tres: 1.73 \n",
      "El R2 es -0.07744033056851274\n",
      "2\n"
     ]
    }
   ],
   "source": [
    "for i in range(1000):\n",
    "    try:\n",
    "        (X_train, X_test, y_train, y_test) = train_test_split(\n",
    "            X,\n",
    "            y,\n",
    "            train_size = 0.7)\n",
    "        pipeline = Pipeline(\n",
    "                steps=[\n",
    "                    (\n",
    "                        \"column_transformer\",\n",
    "                        make_column_transformer(\n",
    "                            (\n",
    "                                OneHotEncoder(),\n",
    "                                make_column_selector(dtype_include=object)\n",
    "                            ), \n",
    "                            remainder = \"passthrough\"\n",
    "                        ),\n",
    "                    ),\n",
    "                    (\n",
    "                        \"selectKBest\",\n",
    "                        SelectKBest(score_func=f_regression),\n",
    "                    ),\n",
    "                    (\n",
    "                        \"linearRegression\",\n",
    "                        LinearRegression(),\n",
    "                    ),\n",
    "                ],\n",
    "            )\n",
    "        param_grid = {\n",
    "                \"selectKBest__k\": range(1, len(X.columns)),\n",
    "            }\n",
    "        gridSearchCV = GridSearchCV(\n",
    "                estimator=pipeline,\n",
    "                param_grid=param_grid,\n",
    "                scoring=\"neg_mean_squared_error\",\n",
    "                refit=True,\n",
    "                return_train_score=False,\n",
    "            )\n",
    "        gridSearchCV.fit(X_train, y_train)\n",
    "        y_train_pred = gridSearchCV.predict(X_train)\n",
    "        y_test_pred = gridSearchCV.predict(X_test)\n",
    "        mse_train = mean_squared_error(\n",
    "            y_train_pred,\n",
    "            y_train,\n",
    "        ).round(2)\n",
    "        mse_test = mean_squared_error(\n",
    "            y_test_pred,\n",
    "            y_test,\n",
    "        ).round(2)\n",
    "\n",
    "        r_2 = r2_score(y_pred = y_test_pred, y_true = y_test)\n",
    "\n",
    "        print(f\"mse train: {mse_train} \\nmse tres: {mse_test} \\nEl R2 es {r_2}\")\n",
    "        break\n",
    "    except: continue \n",
    "print(i)"
   ]
  },
  {
   "attachments": {},
   "cell_type": "markdown",
   "metadata": {},
   "source": [
    "<h2 style=\"text-align:center;\">Red Neuronal TensorFlow</h2>"
   ]
  },
  {
   "cell_type": "code",
   "execution_count": 32,
   "metadata": {},
   "outputs": [],
   "source": [
    "from sklearn.preprocessing import LabelEncoder\n",
    "from keras.models import Sequential\n",
    "from keras.layers import Dense, Softmax, Dropout\n",
    "from keras.metrics import CategoricalCrossentropy, Recall\n",
    "from keras.losses import SparseCategoricalCrossentropy, CategoricalCrossentropy\n",
    "from keras.initializers import RandomNormal\n",
    "from keras import optimizers\n",
    "\n",
    "X_val, X_test_2, y_val, y_test_2 = train_test_split(X_test, y_test, test_size=0.33, random_state=2)\n",
    "# Crear un modelo de redes neuronales con Keras\n",
    "model = Sequential()\n",
    "\n",
    "# Añadir una capa de entrada con la misma cantidad de neuronas que de características\n",
    "model.add(Dense(features.shape[1], input_dim=features.shape[1], activation='relu', kernel_initializer=RandomNormal(stddev=0.01)))\n",
    "\n",
    "# Añadir una capa oculta con 16 neuronas\n",
    "model.add(Dense(24, activation='relu'))\n",
    "model.add(Dense(48, activation='relu'))\n",
    "model.add(Dense(96, activation='relu'))\n",
    "model.add(Dense(128, activation='relu'))\n",
    "model.add(Dense(256, activation='relu'))\n",
    "model.add(Dense(256, activation='relu'))\n",
    "model.add(Dense(128, activation='relu'))\n",
    "model.add(Dense(24, activation='relu'))\n",
    "\n",
    "# Añadir una capa de salida con una sola neurona\n",
    "model.add(Dense(5, activation='Softmax'))"
   ]
  },
  {
   "cell_type": "code",
   "execution_count": 33,
   "metadata": {},
   "outputs": [
    {
     "name": "stdout",
     "output_type": "stream",
     "text": [
      "Model: \"sequential_6\"\n",
      "_________________________________________________________________\n",
      " Layer (type)                Output Shape              Param #   \n",
      "=================================================================\n",
      " dense_54 (Dense)            (None, 5)                 30        \n",
      "                                                                 \n",
      " dense_55 (Dense)            (None, 24)                144       \n",
      "                                                                 \n",
      " dense_56 (Dense)            (None, 48)                1200      \n",
      "                                                                 \n",
      " dense_57 (Dense)            (None, 96)                4704      \n",
      "                                                                 \n",
      " dense_58 (Dense)            (None, 128)               12416     \n",
      "                                                                 \n",
      " dense_59 (Dense)            (None, 256)               33024     \n",
      "                                                                 \n",
      " dense_60 (Dense)            (None, 256)               65792     \n",
      "                                                                 \n",
      " dense_61 (Dense)            (None, 128)               32896     \n",
      "                                                                 \n",
      " dense_62 (Dense)            (None, 24)                3096      \n",
      "                                                                 \n",
      " dense_63 (Dense)            (None, 5)                 125       \n",
      "                                                                 \n",
      "=================================================================\n",
      "Total params: 153,427\n",
      "Trainable params: 153,427\n",
      "Non-trainable params: 0\n",
      "_________________________________________________________________\n"
     ]
    }
   ],
   "source": [
    "model.summary()"
   ]
  },
  {
   "cell_type": "code",
   "execution_count": 34,
   "metadata": {},
   "outputs": [
    {
     "name": "stdout",
     "output_type": "stream",
     "text": [
      "Epoch 1/500\n",
      "15/15 [==============================] - 1s 21ms/step - loss: 1.4902 - sparse_categorical_accuracy: 0.3201 - accuracy: 0.3201 - val_loss: 1.4929 - val_sparse_categorical_accuracy: 0.3262 - val_accuracy: 0.3262\n",
      "Epoch 2/500\n",
      "15/15 [==============================] - 0s 5ms/step - loss: 1.4485 - sparse_categorical_accuracy: 0.3272 - accuracy: 0.3272 - val_loss: 1.4937 - val_sparse_categorical_accuracy: 0.3090 - val_accuracy: 0.3090\n",
      "Epoch 3/500\n",
      "15/15 [==============================] - 0s 6ms/step - loss: 1.4388 - sparse_categorical_accuracy: 0.3031 - accuracy: 0.3031 - val_loss: 1.4754 - val_sparse_categorical_accuracy: 0.3090 - val_accuracy: 0.3090\n",
      "Epoch 4/500\n",
      "15/15 [==============================] - 0s 6ms/step - loss: 1.4380 - sparse_categorical_accuracy: 0.3343 - accuracy: 0.3343 - val_loss: 1.4752 - val_sparse_categorical_accuracy: 0.3090 - val_accuracy: 0.3090\n",
      "Epoch 5/500\n",
      "15/15 [==============================] - 0s 6ms/step - loss: 1.4339 - sparse_categorical_accuracy: 0.3215 - accuracy: 0.3215 - val_loss: 1.4784 - val_sparse_categorical_accuracy: 0.3348 - val_accuracy: 0.3348\n",
      "Epoch 6/500\n",
      "15/15 [==============================] - 0s 5ms/step - loss: 1.4336 - sparse_categorical_accuracy: 0.3371 - accuracy: 0.3371 - val_loss: 1.4724 - val_sparse_categorical_accuracy: 0.3090 - val_accuracy: 0.3090\n",
      "Epoch 7/500\n",
      "15/15 [==============================] - 0s 6ms/step - loss: 1.4313 - sparse_categorical_accuracy: 0.3343 - accuracy: 0.3343 - val_loss: 1.4819 - val_sparse_categorical_accuracy: 0.3090 - val_accuracy: 0.3090\n",
      "Epoch 8/500\n",
      "15/15 [==============================] - 0s 6ms/step - loss: 1.4296 - sparse_categorical_accuracy: 0.2946 - accuracy: 0.2946 - val_loss: 1.4723 - val_sparse_categorical_accuracy: 0.3090 - val_accuracy: 0.3090\n",
      "Epoch 9/500\n",
      "15/15 [==============================] - 0s 6ms/step - loss: 1.4298 - sparse_categorical_accuracy: 0.3343 - accuracy: 0.3343 - val_loss: 1.4676 - val_sparse_categorical_accuracy: 0.3090 - val_accuracy: 0.3090\n",
      "Epoch 10/500\n",
      "15/15 [==============================] - 0s 5ms/step - loss: 1.4235 - sparse_categorical_accuracy: 0.3343 - accuracy: 0.3343 - val_loss: 1.4762 - val_sparse_categorical_accuracy: 0.3090 - val_accuracy: 0.3090\n",
      "Epoch 11/500\n",
      "15/15 [==============================] - 0s 6ms/step - loss: 1.4262 - sparse_categorical_accuracy: 0.3286 - accuracy: 0.3286 - val_loss: 1.4677 - val_sparse_categorical_accuracy: 0.3090 - val_accuracy: 0.3090\n",
      "Epoch 12/500\n",
      "15/15 [==============================] - 0s 5ms/step - loss: 1.4348 - sparse_categorical_accuracy: 0.3343 - accuracy: 0.3343 - val_loss: 1.4735 - val_sparse_categorical_accuracy: 0.3090 - val_accuracy: 0.3090\n",
      "Epoch 13/500\n",
      "15/15 [==============================] - 0s 5ms/step - loss: 1.4313 - sparse_categorical_accuracy: 0.3116 - accuracy: 0.3116 - val_loss: 1.4692 - val_sparse_categorical_accuracy: 0.3004 - val_accuracy: 0.3004\n",
      "Epoch 14/500\n",
      "15/15 [==============================] - 0s 5ms/step - loss: 1.4272 - sparse_categorical_accuracy: 0.3343 - accuracy: 0.3343 - val_loss: 1.4633 - val_sparse_categorical_accuracy: 0.3090 - val_accuracy: 0.3090\n",
      "Epoch 15/500\n",
      "15/15 [==============================] - 0s 5ms/step - loss: 1.4275 - sparse_categorical_accuracy: 0.3343 - accuracy: 0.3343 - val_loss: 1.4729 - val_sparse_categorical_accuracy: 0.3090 - val_accuracy: 0.3090\n",
      "Epoch 16/500\n",
      "15/15 [==============================] - 0s 5ms/step - loss: 1.4262 - sparse_categorical_accuracy: 0.3343 - accuracy: 0.3343 - val_loss: 1.4695 - val_sparse_categorical_accuracy: 0.3090 - val_accuracy: 0.3090\n",
      "Epoch 17/500\n",
      "15/15 [==============================] - 0s 5ms/step - loss: 1.4228 - sparse_categorical_accuracy: 0.3300 - accuracy: 0.3300 - val_loss: 1.4649 - val_sparse_categorical_accuracy: 0.3090 - val_accuracy: 0.3090\n",
      "Epoch 18/500\n",
      "15/15 [==============================] - 0s 5ms/step - loss: 1.4218 - sparse_categorical_accuracy: 0.3300 - accuracy: 0.3300 - val_loss: 1.4606 - val_sparse_categorical_accuracy: 0.3090 - val_accuracy: 0.3090\n",
      "Epoch 19/500\n",
      "15/15 [==============================] - 0s 5ms/step - loss: 1.4259 - sparse_categorical_accuracy: 0.3329 - accuracy: 0.3329 - val_loss: 1.4594 - val_sparse_categorical_accuracy: 0.3176 - val_accuracy: 0.3176\n",
      "Epoch 20/500\n",
      "15/15 [==============================] - 0s 5ms/step - loss: 1.4228 - sparse_categorical_accuracy: 0.3187 - accuracy: 0.3187 - val_loss: 1.4769 - val_sparse_categorical_accuracy: 0.3476 - val_accuracy: 0.3476\n",
      "Epoch 21/500\n",
      "15/15 [==============================] - 0s 5ms/step - loss: 1.4212 - sparse_categorical_accuracy: 0.3159 - accuracy: 0.3159 - val_loss: 1.4594 - val_sparse_categorical_accuracy: 0.3562 - val_accuracy: 0.3562\n",
      "Epoch 22/500\n",
      "15/15 [==============================] - 0s 6ms/step - loss: 1.4230 - sparse_categorical_accuracy: 0.3470 - accuracy: 0.3470 - val_loss: 1.4596 - val_sparse_categorical_accuracy: 0.3133 - val_accuracy: 0.3133\n",
      "Epoch 23/500\n",
      "15/15 [==============================] - 0s 6ms/step - loss: 1.4154 - sparse_categorical_accuracy: 0.3456 - accuracy: 0.3456 - val_loss: 1.4732 - val_sparse_categorical_accuracy: 0.3219 - val_accuracy: 0.3219\n",
      "Epoch 24/500\n",
      "15/15 [==============================] - 0s 5ms/step - loss: 1.4145 - sparse_categorical_accuracy: 0.3399 - accuracy: 0.3399 - val_loss: 1.4724 - val_sparse_categorical_accuracy: 0.3047 - val_accuracy: 0.3047\n",
      "Epoch 25/500\n",
      "15/15 [==============================] - 0s 5ms/step - loss: 1.4137 - sparse_categorical_accuracy: 0.3640 - accuracy: 0.3640 - val_loss: 1.4818 - val_sparse_categorical_accuracy: 0.3176 - val_accuracy: 0.3176\n",
      "Epoch 26/500\n",
      "15/15 [==============================] - 0s 5ms/step - loss: 1.4121 - sparse_categorical_accuracy: 0.3569 - accuracy: 0.3569 - val_loss: 1.4745 - val_sparse_categorical_accuracy: 0.3176 - val_accuracy: 0.3176\n",
      "Epoch 27/500\n",
      "15/15 [==============================] - 0s 5ms/step - loss: 1.4217 - sparse_categorical_accuracy: 0.3513 - accuracy: 0.3513 - val_loss: 1.4763 - val_sparse_categorical_accuracy: 0.3133 - val_accuracy: 0.3133\n",
      "Epoch 28/500\n",
      "15/15 [==============================] - 0s 5ms/step - loss: 1.4204 - sparse_categorical_accuracy: 0.3513 - accuracy: 0.3513 - val_loss: 1.4781 - val_sparse_categorical_accuracy: 0.3176 - val_accuracy: 0.3176\n",
      "Epoch 29/500\n",
      "15/15 [==============================] - 0s 5ms/step - loss: 1.4103 - sparse_categorical_accuracy: 0.3626 - accuracy: 0.3626 - val_loss: 1.4794 - val_sparse_categorical_accuracy: 0.3090 - val_accuracy: 0.3090\n",
      "Epoch 30/500\n",
      "15/15 [==============================] - 0s 5ms/step - loss: 1.4185 - sparse_categorical_accuracy: 0.3144 - accuracy: 0.3144 - val_loss: 1.4624 - val_sparse_categorical_accuracy: 0.3133 - val_accuracy: 0.3133\n",
      "Epoch 31/500\n",
      "15/15 [==============================] - 0s 5ms/step - loss: 1.4083 - sparse_categorical_accuracy: 0.3527 - accuracy: 0.3527 - val_loss: 1.4653 - val_sparse_categorical_accuracy: 0.3176 - val_accuracy: 0.3176\n",
      "Epoch 32/500\n",
      "15/15 [==============================] - 0s 5ms/step - loss: 1.4106 - sparse_categorical_accuracy: 0.3541 - accuracy: 0.3541 - val_loss: 1.5040 - val_sparse_categorical_accuracy: 0.3348 - val_accuracy: 0.3348\n",
      "Epoch 33/500\n",
      "15/15 [==============================] - 0s 5ms/step - loss: 1.4149 - sparse_categorical_accuracy: 0.3499 - accuracy: 0.3499 - val_loss: 1.4703 - val_sparse_categorical_accuracy: 0.3004 - val_accuracy: 0.3004\n",
      "Epoch 34/500\n",
      "15/15 [==============================] - 0s 5ms/step - loss: 1.4168 - sparse_categorical_accuracy: 0.3371 - accuracy: 0.3371 - val_loss: 1.4611 - val_sparse_categorical_accuracy: 0.3090 - val_accuracy: 0.3090\n",
      "Epoch 35/500\n",
      "15/15 [==============================] - 0s 5ms/step - loss: 1.4143 - sparse_categorical_accuracy: 0.3385 - accuracy: 0.3385 - val_loss: 1.4504 - val_sparse_categorical_accuracy: 0.3219 - val_accuracy: 0.3219\n",
      "Epoch 36/500\n",
      "15/15 [==============================] - 0s 5ms/step - loss: 1.4154 - sparse_categorical_accuracy: 0.3470 - accuracy: 0.3470 - val_loss: 1.4563 - val_sparse_categorical_accuracy: 0.3176 - val_accuracy: 0.3176\n",
      "Epoch 37/500\n",
      "15/15 [==============================] - 0s 5ms/step - loss: 1.4128 - sparse_categorical_accuracy: 0.3513 - accuracy: 0.3513 - val_loss: 1.4639 - val_sparse_categorical_accuracy: 0.3176 - val_accuracy: 0.3176\n",
      "Epoch 38/500\n",
      "15/15 [==============================] - 0s 5ms/step - loss: 1.4102 - sparse_categorical_accuracy: 0.3484 - accuracy: 0.3484 - val_loss: 1.4664 - val_sparse_categorical_accuracy: 0.3133 - val_accuracy: 0.3133\n",
      "Epoch 39/500\n",
      "15/15 [==============================] - 0s 4ms/step - loss: 1.4049 - sparse_categorical_accuracy: 0.3555 - accuracy: 0.3555 - val_loss: 1.4721 - val_sparse_categorical_accuracy: 0.3176 - val_accuracy: 0.3176\n",
      "Epoch 40/500\n",
      "15/15 [==============================] - 0s 5ms/step - loss: 1.4100 - sparse_categorical_accuracy: 0.3569 - accuracy: 0.3569 - val_loss: 1.4907 - val_sparse_categorical_accuracy: 0.3090 - val_accuracy: 0.3090\n",
      "Epoch 41/500\n",
      "15/15 [==============================] - 0s 5ms/step - loss: 1.4091 - sparse_categorical_accuracy: 0.3598 - accuracy: 0.3598 - val_loss: 1.4731 - val_sparse_categorical_accuracy: 0.3133 - val_accuracy: 0.3133\n",
      "Epoch 42/500\n",
      "15/15 [==============================] - 0s 5ms/step - loss: 1.4058 - sparse_categorical_accuracy: 0.3584 - accuracy: 0.3584 - val_loss: 1.4755 - val_sparse_categorical_accuracy: 0.3047 - val_accuracy: 0.3047\n",
      "Epoch 43/500\n",
      "15/15 [==============================] - 0s 5ms/step - loss: 1.4037 - sparse_categorical_accuracy: 0.3584 - accuracy: 0.3584 - val_loss: 1.4803 - val_sparse_categorical_accuracy: 0.3133 - val_accuracy: 0.3133\n",
      "Epoch 44/500\n",
      "15/15 [==============================] - 0s 5ms/step - loss: 1.4028 - sparse_categorical_accuracy: 0.3569 - accuracy: 0.3569 - val_loss: 1.4773 - val_sparse_categorical_accuracy: 0.3133 - val_accuracy: 0.3133\n",
      "Epoch 45/500\n",
      "15/15 [==============================] - 0s 5ms/step - loss: 1.4077 - sparse_categorical_accuracy: 0.3555 - accuracy: 0.3555 - val_loss: 1.4878 - val_sparse_categorical_accuracy: 0.3090 - val_accuracy: 0.3090\n",
      "Epoch 46/500\n",
      "15/15 [==============================] - 0s 5ms/step - loss: 1.4036 - sparse_categorical_accuracy: 0.3555 - accuracy: 0.3555 - val_loss: 1.4747 - val_sparse_categorical_accuracy: 0.3090 - val_accuracy: 0.3090\n",
      "Epoch 47/500\n",
      "15/15 [==============================] - 0s 5ms/step - loss: 1.4033 - sparse_categorical_accuracy: 0.3569 - accuracy: 0.3569 - val_loss: 1.4808 - val_sparse_categorical_accuracy: 0.3133 - val_accuracy: 0.3133\n",
      "Epoch 48/500\n",
      "15/15 [==============================] - 0s 5ms/step - loss: 1.3977 - sparse_categorical_accuracy: 0.3541 - accuracy: 0.3541 - val_loss: 1.4915 - val_sparse_categorical_accuracy: 0.3090 - val_accuracy: 0.3090\n",
      "Epoch 49/500\n",
      "15/15 [==============================] - 0s 5ms/step - loss: 1.3944 - sparse_categorical_accuracy: 0.3527 - accuracy: 0.3527 - val_loss: 1.4823 - val_sparse_categorical_accuracy: 0.3262 - val_accuracy: 0.3262\n",
      "Epoch 50/500\n",
      "15/15 [==============================] - 0s 5ms/step - loss: 1.3965 - sparse_categorical_accuracy: 0.3725 - accuracy: 0.3725 - val_loss: 1.5048 - val_sparse_categorical_accuracy: 0.3090 - val_accuracy: 0.3090\n",
      "Epoch 51/500\n",
      "15/15 [==============================] - 0s 5ms/step - loss: 1.3996 - sparse_categorical_accuracy: 0.3555 - accuracy: 0.3555 - val_loss: 1.4716 - val_sparse_categorical_accuracy: 0.3176 - val_accuracy: 0.3176\n",
      "Epoch 52/500\n",
      "15/15 [==============================] - 0s 5ms/step - loss: 1.3948 - sparse_categorical_accuracy: 0.3569 - accuracy: 0.3569 - val_loss: 1.4812 - val_sparse_categorical_accuracy: 0.3133 - val_accuracy: 0.3133\n",
      "Epoch 53/500\n",
      "15/15 [==============================] - 0s 5ms/step - loss: 1.3941 - sparse_categorical_accuracy: 0.3527 - accuracy: 0.3527 - val_loss: 1.4964 - val_sparse_categorical_accuracy: 0.3133 - val_accuracy: 0.3133\n",
      "Epoch 54/500\n",
      "15/15 [==============================] - 0s 5ms/step - loss: 1.3950 - sparse_categorical_accuracy: 0.3598 - accuracy: 0.3598 - val_loss: 1.4735 - val_sparse_categorical_accuracy: 0.3133 - val_accuracy: 0.3133\n",
      "Epoch 55/500\n",
      "15/15 [==============================] - 0s 5ms/step - loss: 1.3950 - sparse_categorical_accuracy: 0.3640 - accuracy: 0.3640 - val_loss: 1.4662 - val_sparse_categorical_accuracy: 0.3262 - val_accuracy: 0.3262\n",
      "Epoch 56/500\n",
      "15/15 [==============================] - 0s 5ms/step - loss: 1.4014 - sparse_categorical_accuracy: 0.3513 - accuracy: 0.3513 - val_loss: 1.4915 - val_sparse_categorical_accuracy: 0.3090 - val_accuracy: 0.3090\n",
      "Epoch 57/500\n",
      "15/15 [==============================] - 0s 5ms/step - loss: 1.3980 - sparse_categorical_accuracy: 0.3569 - accuracy: 0.3569 - val_loss: 1.4729 - val_sparse_categorical_accuracy: 0.3176 - val_accuracy: 0.3176\n",
      "Epoch 58/500\n",
      "15/15 [==============================] - 0s 5ms/step - loss: 1.3908 - sparse_categorical_accuracy: 0.3569 - accuracy: 0.3569 - val_loss: 1.4770 - val_sparse_categorical_accuracy: 0.3176 - val_accuracy: 0.3176\n",
      "Epoch 59/500\n",
      "15/15 [==============================] - 0s 5ms/step - loss: 1.3898 - sparse_categorical_accuracy: 0.3612 - accuracy: 0.3612 - val_loss: 1.4911 - val_sparse_categorical_accuracy: 0.3047 - val_accuracy: 0.3047\n",
      "Epoch 60/500\n",
      "15/15 [==============================] - 0s 5ms/step - loss: 1.3869 - sparse_categorical_accuracy: 0.3612 - accuracy: 0.3612 - val_loss: 1.4756 - val_sparse_categorical_accuracy: 0.3176 - val_accuracy: 0.3176\n",
      "Epoch 61/500\n",
      "15/15 [==============================] - 0s 5ms/step - loss: 1.3931 - sparse_categorical_accuracy: 0.3654 - accuracy: 0.3654 - val_loss: 1.4803 - val_sparse_categorical_accuracy: 0.3133 - val_accuracy: 0.3133\n",
      "Epoch 62/500\n",
      "15/15 [==============================] - 0s 5ms/step - loss: 1.3854 - sparse_categorical_accuracy: 0.3598 - accuracy: 0.3598 - val_loss: 1.4884 - val_sparse_categorical_accuracy: 0.3047 - val_accuracy: 0.3047\n",
      "Epoch 63/500\n",
      "15/15 [==============================] - 0s 5ms/step - loss: 1.3973 - sparse_categorical_accuracy: 0.3640 - accuracy: 0.3640 - val_loss: 1.4978 - val_sparse_categorical_accuracy: 0.3090 - val_accuracy: 0.3090\n",
      "Epoch 64/500\n",
      "15/15 [==============================] - 0s 5ms/step - loss: 1.4039 - sparse_categorical_accuracy: 0.3612 - accuracy: 0.3612 - val_loss: 1.4764 - val_sparse_categorical_accuracy: 0.3004 - val_accuracy: 0.3004\n",
      "Epoch 65/500\n",
      "15/15 [==============================] - 0s 5ms/step - loss: 1.3933 - sparse_categorical_accuracy: 0.3584 - accuracy: 0.3584 - val_loss: 1.5036 - val_sparse_categorical_accuracy: 0.3090 - val_accuracy: 0.3090\n",
      "Epoch 66/500\n",
      "15/15 [==============================] - 0s 5ms/step - loss: 1.3871 - sparse_categorical_accuracy: 0.3640 - accuracy: 0.3640 - val_loss: 1.4765 - val_sparse_categorical_accuracy: 0.3176 - val_accuracy: 0.3176\n",
      "Epoch 67/500\n",
      "15/15 [==============================] - 0s 5ms/step - loss: 1.3882 - sparse_categorical_accuracy: 0.3626 - accuracy: 0.3626 - val_loss: 1.4770 - val_sparse_categorical_accuracy: 0.3133 - val_accuracy: 0.3133\n",
      "Epoch 68/500\n",
      "15/15 [==============================] - 0s 5ms/step - loss: 1.3834 - sparse_categorical_accuracy: 0.3555 - accuracy: 0.3555 - val_loss: 1.4707 - val_sparse_categorical_accuracy: 0.3176 - val_accuracy: 0.3176\n",
      "Epoch 69/500\n",
      "15/15 [==============================] - 0s 5ms/step - loss: 1.3870 - sparse_categorical_accuracy: 0.3541 - accuracy: 0.3541 - val_loss: 1.4682 - val_sparse_categorical_accuracy: 0.3176 - val_accuracy: 0.3176\n",
      "Epoch 70/500\n",
      "15/15 [==============================] - 0s 5ms/step - loss: 1.3800 - sparse_categorical_accuracy: 0.3555 - accuracy: 0.3555 - val_loss: 1.4850 - val_sparse_categorical_accuracy: 0.3133 - val_accuracy: 0.3133\n",
      "Epoch 71/500\n",
      "15/15 [==============================] - 0s 5ms/step - loss: 1.3942 - sparse_categorical_accuracy: 0.3541 - accuracy: 0.3541 - val_loss: 1.4566 - val_sparse_categorical_accuracy: 0.3090 - val_accuracy: 0.3090\n",
      "Epoch 72/500\n",
      "15/15 [==============================] - 0s 5ms/step - loss: 1.3889 - sparse_categorical_accuracy: 0.3654 - accuracy: 0.3654 - val_loss: 1.4788 - val_sparse_categorical_accuracy: 0.3219 - val_accuracy: 0.3219\n",
      "Epoch 73/500\n",
      "15/15 [==============================] - 0s 5ms/step - loss: 1.3869 - sparse_categorical_accuracy: 0.3683 - accuracy: 0.3683 - val_loss: 1.4889 - val_sparse_categorical_accuracy: 0.3176 - val_accuracy: 0.3176\n",
      "Epoch 74/500\n",
      "15/15 [==============================] - 0s 5ms/step - loss: 1.3876 - sparse_categorical_accuracy: 0.3584 - accuracy: 0.3584 - val_loss: 1.4707 - val_sparse_categorical_accuracy: 0.3090 - val_accuracy: 0.3090\n",
      "Epoch 75/500\n",
      "15/15 [==============================] - 0s 5ms/step - loss: 1.3761 - sparse_categorical_accuracy: 0.3555 - accuracy: 0.3555 - val_loss: 1.4685 - val_sparse_categorical_accuracy: 0.3176 - val_accuracy: 0.3176\n",
      "Epoch 76/500\n",
      "15/15 [==============================] - 0s 5ms/step - loss: 1.3825 - sparse_categorical_accuracy: 0.3654 - accuracy: 0.3654 - val_loss: 1.5021 - val_sparse_categorical_accuracy: 0.3176 - val_accuracy: 0.3176\n",
      "Epoch 77/500\n",
      "15/15 [==============================] - 0s 5ms/step - loss: 1.3831 - sparse_categorical_accuracy: 0.3569 - accuracy: 0.3569 - val_loss: 1.4661 - val_sparse_categorical_accuracy: 0.3133 - val_accuracy: 0.3133\n",
      "Epoch 78/500\n",
      "15/15 [==============================] - 0s 5ms/step - loss: 1.3891 - sparse_categorical_accuracy: 0.3669 - accuracy: 0.3669 - val_loss: 1.5050 - val_sparse_categorical_accuracy: 0.3133 - val_accuracy: 0.3133\n",
      "Epoch 79/500\n",
      "15/15 [==============================] - 0s 5ms/step - loss: 1.3950 - sparse_categorical_accuracy: 0.3598 - accuracy: 0.3598 - val_loss: 1.4835 - val_sparse_categorical_accuracy: 0.3219 - val_accuracy: 0.3219\n",
      "Epoch 80/500\n",
      "15/15 [==============================] - 0s 6ms/step - loss: 1.3964 - sparse_categorical_accuracy: 0.3456 - accuracy: 0.3456 - val_loss: 1.4741 - val_sparse_categorical_accuracy: 0.3262 - val_accuracy: 0.3262\n",
      "Epoch 81/500\n",
      "15/15 [==============================] - 0s 5ms/step - loss: 1.3731 - sparse_categorical_accuracy: 0.3598 - accuracy: 0.3598 - val_loss: 1.4634 - val_sparse_categorical_accuracy: 0.3004 - val_accuracy: 0.3004\n",
      "Epoch 82/500\n",
      "15/15 [==============================] - 0s 5ms/step - loss: 1.3727 - sparse_categorical_accuracy: 0.3612 - accuracy: 0.3612 - val_loss: 1.4796 - val_sparse_categorical_accuracy: 0.3176 - val_accuracy: 0.3176\n",
      "Epoch 83/500\n",
      "15/15 [==============================] - 0s 5ms/step - loss: 1.3736 - sparse_categorical_accuracy: 0.3640 - accuracy: 0.3640 - val_loss: 1.4743 - val_sparse_categorical_accuracy: 0.3305 - val_accuracy: 0.3305\n",
      "Epoch 84/500\n",
      "15/15 [==============================] - 0s 5ms/step - loss: 1.3726 - sparse_categorical_accuracy: 0.3442 - accuracy: 0.3442 - val_loss: 1.4774 - val_sparse_categorical_accuracy: 0.3047 - val_accuracy: 0.3047\n",
      "Epoch 85/500\n",
      "15/15 [==============================] - 0s 5ms/step - loss: 1.3761 - sparse_categorical_accuracy: 0.3527 - accuracy: 0.3527 - val_loss: 1.4793 - val_sparse_categorical_accuracy: 0.3176 - val_accuracy: 0.3176\n",
      "Epoch 86/500\n",
      "15/15 [==============================] - 0s 5ms/step - loss: 1.3667 - sparse_categorical_accuracy: 0.3640 - accuracy: 0.3640 - val_loss: 1.4979 - val_sparse_categorical_accuracy: 0.3348 - val_accuracy: 0.3348\n",
      "Epoch 87/500\n",
      "15/15 [==============================] - 0s 5ms/step - loss: 1.3789 - sparse_categorical_accuracy: 0.3739 - accuracy: 0.3739 - val_loss: 1.4668 - val_sparse_categorical_accuracy: 0.3519 - val_accuracy: 0.3519\n",
      "Epoch 88/500\n",
      "15/15 [==============================] - 0s 5ms/step - loss: 1.3782 - sparse_categorical_accuracy: 0.3541 - accuracy: 0.3541 - val_loss: 1.4718 - val_sparse_categorical_accuracy: 0.3433 - val_accuracy: 0.3433\n",
      "Epoch 89/500\n",
      "15/15 [==============================] - 0s 5ms/step - loss: 1.3743 - sparse_categorical_accuracy: 0.3782 - accuracy: 0.3782 - val_loss: 1.4806 - val_sparse_categorical_accuracy: 0.3262 - val_accuracy: 0.3262\n",
      "Epoch 90/500\n",
      "15/15 [==============================] - 0s 5ms/step - loss: 1.3770 - sparse_categorical_accuracy: 0.3584 - accuracy: 0.3584 - val_loss: 1.4679 - val_sparse_categorical_accuracy: 0.3476 - val_accuracy: 0.3476\n",
      "Epoch 91/500\n",
      "15/15 [==============================] - 0s 5ms/step - loss: 1.3684 - sparse_categorical_accuracy: 0.3640 - accuracy: 0.3640 - val_loss: 1.4945 - val_sparse_categorical_accuracy: 0.3262 - val_accuracy: 0.3262\n",
      "Epoch 92/500\n",
      "15/15 [==============================] - 0s 5ms/step - loss: 1.3616 - sparse_categorical_accuracy: 0.3640 - accuracy: 0.3640 - val_loss: 1.4821 - val_sparse_categorical_accuracy: 0.3476 - val_accuracy: 0.3476\n",
      "Epoch 93/500\n",
      "15/15 [==============================] - 0s 5ms/step - loss: 1.3598 - sparse_categorical_accuracy: 0.3669 - accuracy: 0.3669 - val_loss: 1.4773 - val_sparse_categorical_accuracy: 0.3391 - val_accuracy: 0.3391\n",
      "Epoch 94/500\n",
      "15/15 [==============================] - 0s 6ms/step - loss: 1.3635 - sparse_categorical_accuracy: 0.3654 - accuracy: 0.3654 - val_loss: 1.4938 - val_sparse_categorical_accuracy: 0.3391 - val_accuracy: 0.3391\n",
      "Epoch 95/500\n",
      "15/15 [==============================] - 0s 5ms/step - loss: 1.3672 - sparse_categorical_accuracy: 0.3711 - accuracy: 0.3711 - val_loss: 1.4664 - val_sparse_categorical_accuracy: 0.3348 - val_accuracy: 0.3348\n",
      "Epoch 96/500\n",
      "15/15 [==============================] - 0s 5ms/step - loss: 1.3591 - sparse_categorical_accuracy: 0.3654 - accuracy: 0.3654 - val_loss: 1.5102 - val_sparse_categorical_accuracy: 0.3047 - val_accuracy: 0.3047\n",
      "Epoch 97/500\n",
      "15/15 [==============================] - 0s 5ms/step - loss: 1.3568 - sparse_categorical_accuracy: 0.3654 - accuracy: 0.3654 - val_loss: 1.4849 - val_sparse_categorical_accuracy: 0.3391 - val_accuracy: 0.3391\n",
      "Epoch 98/500\n",
      "15/15 [==============================] - 0s 5ms/step - loss: 1.3676 - sparse_categorical_accuracy: 0.3669 - accuracy: 0.3669 - val_loss: 1.5183 - val_sparse_categorical_accuracy: 0.3219 - val_accuracy: 0.3219\n",
      "Epoch 99/500\n",
      "15/15 [==============================] - 0s 5ms/step - loss: 1.3563 - sparse_categorical_accuracy: 0.3768 - accuracy: 0.3768 - val_loss: 1.4827 - val_sparse_categorical_accuracy: 0.3476 - val_accuracy: 0.3476\n",
      "Epoch 100/500\n",
      "15/15 [==============================] - 0s 5ms/step - loss: 1.3539 - sparse_categorical_accuracy: 0.3839 - accuracy: 0.3839 - val_loss: 1.4838 - val_sparse_categorical_accuracy: 0.3348 - val_accuracy: 0.3348\n",
      "Epoch 101/500\n",
      "15/15 [==============================] - 0s 5ms/step - loss: 1.3459 - sparse_categorical_accuracy: 0.3768 - accuracy: 0.3768 - val_loss: 1.4891 - val_sparse_categorical_accuracy: 0.3176 - val_accuracy: 0.3176\n",
      "Epoch 102/500\n",
      "15/15 [==============================] - 0s 5ms/step - loss: 1.3470 - sparse_categorical_accuracy: 0.3938 - accuracy: 0.3938 - val_loss: 1.4964 - val_sparse_categorical_accuracy: 0.3219 - val_accuracy: 0.3219\n",
      "Epoch 103/500\n",
      "15/15 [==============================] - 0s 6ms/step - loss: 1.3680 - sparse_categorical_accuracy: 0.3768 - accuracy: 0.3768 - val_loss: 1.4693 - val_sparse_categorical_accuracy: 0.3133 - val_accuracy: 0.3133\n",
      "Epoch 104/500\n",
      "15/15 [==============================] - 0s 5ms/step - loss: 1.3602 - sparse_categorical_accuracy: 0.3669 - accuracy: 0.3669 - val_loss: 1.4718 - val_sparse_categorical_accuracy: 0.3219 - val_accuracy: 0.3219\n",
      "Epoch 105/500\n",
      "15/15 [==============================] - 0s 5ms/step - loss: 1.3474 - sparse_categorical_accuracy: 0.3782 - accuracy: 0.3782 - val_loss: 1.4788 - val_sparse_categorical_accuracy: 0.3391 - val_accuracy: 0.3391\n",
      "Epoch 106/500\n",
      "15/15 [==============================] - 0s 5ms/step - loss: 1.3469 - sparse_categorical_accuracy: 0.3697 - accuracy: 0.3697 - val_loss: 1.4657 - val_sparse_categorical_accuracy: 0.3433 - val_accuracy: 0.3433\n",
      "Epoch 107/500\n",
      "15/15 [==============================] - 0s 5ms/step - loss: 1.3473 - sparse_categorical_accuracy: 0.3697 - accuracy: 0.3697 - val_loss: 1.4967 - val_sparse_categorical_accuracy: 0.3348 - val_accuracy: 0.3348\n",
      "Epoch 108/500\n",
      "15/15 [==============================] - 0s 6ms/step - loss: 1.3380 - sparse_categorical_accuracy: 0.3867 - accuracy: 0.3867 - val_loss: 1.4875 - val_sparse_categorical_accuracy: 0.3133 - val_accuracy: 0.3133\n",
      "Epoch 109/500\n",
      "15/15 [==============================] - 0s 5ms/step - loss: 1.3492 - sparse_categorical_accuracy: 0.3867 - accuracy: 0.3867 - val_loss: 1.5366 - val_sparse_categorical_accuracy: 0.3305 - val_accuracy: 0.3305\n",
      "Epoch 110/500\n",
      "15/15 [==============================] - 0s 5ms/step - loss: 1.3515 - sparse_categorical_accuracy: 0.3839 - accuracy: 0.3839 - val_loss: 1.4872 - val_sparse_categorical_accuracy: 0.3348 - val_accuracy: 0.3348\n",
      "Epoch 111/500\n",
      "15/15 [==============================] - 0s 5ms/step - loss: 1.3466 - sparse_categorical_accuracy: 0.3810 - accuracy: 0.3810 - val_loss: 1.4951 - val_sparse_categorical_accuracy: 0.3176 - val_accuracy: 0.3176\n",
      "Epoch 112/500\n",
      "15/15 [==============================] - 0s 5ms/step - loss: 1.3320 - sparse_categorical_accuracy: 0.3909 - accuracy: 0.3909 - val_loss: 1.5041 - val_sparse_categorical_accuracy: 0.3348 - val_accuracy: 0.3348\n",
      "Epoch 113/500\n",
      "15/15 [==============================] - 0s 5ms/step - loss: 1.3344 - sparse_categorical_accuracy: 0.3796 - accuracy: 0.3796 - val_loss: 1.5160 - val_sparse_categorical_accuracy: 0.3219 - val_accuracy: 0.3219\n",
      "Epoch 114/500\n",
      "15/15 [==============================] - 0s 5ms/step - loss: 1.3368 - sparse_categorical_accuracy: 0.3796 - accuracy: 0.3796 - val_loss: 1.4891 - val_sparse_categorical_accuracy: 0.3133 - val_accuracy: 0.3133\n",
      "Epoch 115/500\n",
      "15/15 [==============================] - 0s 5ms/step - loss: 1.3314 - sparse_categorical_accuracy: 0.3980 - accuracy: 0.3980 - val_loss: 1.5484 - val_sparse_categorical_accuracy: 0.3133 - val_accuracy: 0.3133\n",
      "Epoch 116/500\n",
      "15/15 [==============================] - 0s 5ms/step - loss: 1.3400 - sparse_categorical_accuracy: 0.3924 - accuracy: 0.3924 - val_loss: 1.4828 - val_sparse_categorical_accuracy: 0.3176 - val_accuracy: 0.3176\n",
      "Epoch 117/500\n",
      "15/15 [==============================] - 0s 5ms/step - loss: 1.3349 - sparse_categorical_accuracy: 0.3881 - accuracy: 0.3881 - val_loss: 1.5377 - val_sparse_categorical_accuracy: 0.3305 - val_accuracy: 0.3305\n",
      "Epoch 118/500\n",
      "15/15 [==============================] - 0s 5ms/step - loss: 1.3272 - sparse_categorical_accuracy: 0.3980 - accuracy: 0.3980 - val_loss: 1.4966 - val_sparse_categorical_accuracy: 0.3305 - val_accuracy: 0.3305\n",
      "Epoch 119/500\n",
      "15/15 [==============================] - 0s 5ms/step - loss: 1.3231 - sparse_categorical_accuracy: 0.4051 - accuracy: 0.4051 - val_loss: 1.5013 - val_sparse_categorical_accuracy: 0.3219 - val_accuracy: 0.3219\n",
      "Epoch 120/500\n",
      "15/15 [==============================] - 0s 5ms/step - loss: 1.3110 - sparse_categorical_accuracy: 0.4235 - accuracy: 0.4235 - val_loss: 1.5503 - val_sparse_categorical_accuracy: 0.3476 - val_accuracy: 0.3476\n",
      "Epoch 121/500\n",
      "15/15 [==============================] - 0s 5ms/step - loss: 1.3432 - sparse_categorical_accuracy: 0.3810 - accuracy: 0.3810 - val_loss: 1.5338 - val_sparse_categorical_accuracy: 0.3219 - val_accuracy: 0.3219\n",
      "Epoch 122/500\n",
      "15/15 [==============================] - 0s 5ms/step - loss: 1.3312 - sparse_categorical_accuracy: 0.3881 - accuracy: 0.3881 - val_loss: 1.4970 - val_sparse_categorical_accuracy: 0.3433 - val_accuracy: 0.3433\n",
      "Epoch 123/500\n",
      "15/15 [==============================] - 0s 5ms/step - loss: 1.3196 - sparse_categorical_accuracy: 0.3938 - accuracy: 0.3938 - val_loss: 1.5766 - val_sparse_categorical_accuracy: 0.3219 - val_accuracy: 0.3219\n",
      "Epoch 124/500\n",
      "15/15 [==============================] - 0s 5ms/step - loss: 1.3421 - sparse_categorical_accuracy: 0.3810 - accuracy: 0.3810 - val_loss: 1.5230 - val_sparse_categorical_accuracy: 0.3433 - val_accuracy: 0.3433\n",
      "Epoch 125/500\n",
      "15/15 [==============================] - 0s 5ms/step - loss: 1.3077 - sparse_categorical_accuracy: 0.4079 - accuracy: 0.4079 - val_loss: 1.5140 - val_sparse_categorical_accuracy: 0.3176 - val_accuracy: 0.3176\n",
      "Epoch 126/500\n",
      "15/15 [==============================] - 0s 5ms/step - loss: 1.3142 - sparse_categorical_accuracy: 0.4037 - accuracy: 0.4037 - val_loss: 1.5235 - val_sparse_categorical_accuracy: 0.3348 - val_accuracy: 0.3348\n",
      "Epoch 127/500\n",
      "15/15 [==============================] - 0s 5ms/step - loss: 1.3025 - sparse_categorical_accuracy: 0.4051 - accuracy: 0.4051 - val_loss: 1.5955 - val_sparse_categorical_accuracy: 0.3133 - val_accuracy: 0.3133\n",
      "Epoch 128/500\n",
      "15/15 [==============================] - 0s 5ms/step - loss: 1.3034 - sparse_categorical_accuracy: 0.4122 - accuracy: 0.4122 - val_loss: 1.5401 - val_sparse_categorical_accuracy: 0.3305 - val_accuracy: 0.3305\n",
      "Epoch 129/500\n",
      "15/15 [==============================] - 0s 5ms/step - loss: 1.3110 - sparse_categorical_accuracy: 0.4136 - accuracy: 0.4136 - val_loss: 1.5610 - val_sparse_categorical_accuracy: 0.3219 - val_accuracy: 0.3219\n",
      "Epoch 130/500\n",
      "15/15 [==============================] - 0s 5ms/step - loss: 1.2991 - sparse_categorical_accuracy: 0.4150 - accuracy: 0.4150 - val_loss: 1.5841 - val_sparse_categorical_accuracy: 0.3176 - val_accuracy: 0.3176\n",
      "Epoch 131/500\n",
      "15/15 [==============================] - 0s 5ms/step - loss: 1.3204 - sparse_categorical_accuracy: 0.4023 - accuracy: 0.4023 - val_loss: 1.5335 - val_sparse_categorical_accuracy: 0.3262 - val_accuracy: 0.3262\n",
      "Epoch 132/500\n",
      "15/15 [==============================] - 0s 5ms/step - loss: 1.3489 - sparse_categorical_accuracy: 0.3952 - accuracy: 0.3952 - val_loss: 1.5054 - val_sparse_categorical_accuracy: 0.3433 - val_accuracy: 0.3433\n",
      "Epoch 133/500\n",
      "15/15 [==============================] - 0s 5ms/step - loss: 1.3019 - sparse_categorical_accuracy: 0.3980 - accuracy: 0.3980 - val_loss: 1.5764 - val_sparse_categorical_accuracy: 0.3219 - val_accuracy: 0.3219\n",
      "Epoch 134/500\n",
      "15/15 [==============================] - 0s 5ms/step - loss: 1.2993 - sparse_categorical_accuracy: 0.3980 - accuracy: 0.3980 - val_loss: 1.5372 - val_sparse_categorical_accuracy: 0.3262 - val_accuracy: 0.3262\n",
      "Epoch 135/500\n",
      "15/15 [==============================] - 0s 5ms/step - loss: 1.2855 - sparse_categorical_accuracy: 0.4079 - accuracy: 0.4079 - val_loss: 1.5637 - val_sparse_categorical_accuracy: 0.3305 - val_accuracy: 0.3305\n",
      "Epoch 136/500\n",
      "15/15 [==============================] - 0s 5ms/step - loss: 1.2808 - sparse_categorical_accuracy: 0.4108 - accuracy: 0.4108 - val_loss: 1.5477 - val_sparse_categorical_accuracy: 0.3133 - val_accuracy: 0.3133\n",
      "Epoch 137/500\n",
      "15/15 [==============================] - 0s 5ms/step - loss: 1.2844 - sparse_categorical_accuracy: 0.4108 - accuracy: 0.4108 - val_loss: 1.5912 - val_sparse_categorical_accuracy: 0.3090 - val_accuracy: 0.3090\n",
      "Epoch 138/500\n",
      "15/15 [==============================] - 0s 5ms/step - loss: 1.2773 - sparse_categorical_accuracy: 0.4150 - accuracy: 0.4150 - val_loss: 1.6109 - val_sparse_categorical_accuracy: 0.3090 - val_accuracy: 0.3090\n",
      "Epoch 139/500\n",
      "15/15 [==============================] - 0s 5ms/step - loss: 1.3119 - sparse_categorical_accuracy: 0.4150 - accuracy: 0.4150 - val_loss: 1.5378 - val_sparse_categorical_accuracy: 0.3047 - val_accuracy: 0.3047\n",
      "Epoch 140/500\n",
      "15/15 [==============================] - 0s 5ms/step - loss: 1.3105 - sparse_categorical_accuracy: 0.4122 - accuracy: 0.4122 - val_loss: 1.5592 - val_sparse_categorical_accuracy: 0.3305 - val_accuracy: 0.3305\n",
      "Epoch 141/500\n",
      "15/15 [==============================] - 0s 5ms/step - loss: 1.3130 - sparse_categorical_accuracy: 0.3952 - accuracy: 0.3952 - val_loss: 1.5616 - val_sparse_categorical_accuracy: 0.3348 - val_accuracy: 0.3348\n",
      "Epoch 142/500\n",
      "15/15 [==============================] - 0s 5ms/step - loss: 1.2995 - sparse_categorical_accuracy: 0.4164 - accuracy: 0.4164 - val_loss: 1.5228 - val_sparse_categorical_accuracy: 0.3305 - val_accuracy: 0.3305\n",
      "Epoch 143/500\n",
      "15/15 [==============================] - 0s 5ms/step - loss: 1.2802 - sparse_categorical_accuracy: 0.4292 - accuracy: 0.4292 - val_loss: 1.5690 - val_sparse_categorical_accuracy: 0.3562 - val_accuracy: 0.3562\n",
      "Epoch 144/500\n",
      "15/15 [==============================] - 0s 5ms/step - loss: 1.2919 - sparse_categorical_accuracy: 0.4108 - accuracy: 0.4108 - val_loss: 1.5902 - val_sparse_categorical_accuracy: 0.3348 - val_accuracy: 0.3348\n",
      "Epoch 145/500\n",
      "15/15 [==============================] - 0s 5ms/step - loss: 1.2737 - sparse_categorical_accuracy: 0.4193 - accuracy: 0.4193 - val_loss: 1.5647 - val_sparse_categorical_accuracy: 0.3219 - val_accuracy: 0.3219\n",
      "Epoch 146/500\n",
      "15/15 [==============================] - 0s 5ms/step - loss: 1.2811 - sparse_categorical_accuracy: 0.4164 - accuracy: 0.4164 - val_loss: 1.5947 - val_sparse_categorical_accuracy: 0.3133 - val_accuracy: 0.3133\n",
      "Epoch 147/500\n",
      "15/15 [==============================] - 0s 5ms/step - loss: 1.2813 - sparse_categorical_accuracy: 0.4278 - accuracy: 0.4278 - val_loss: 1.5522 - val_sparse_categorical_accuracy: 0.3133 - val_accuracy: 0.3133\n",
      "Epoch 148/500\n",
      "15/15 [==============================] - 0s 5ms/step - loss: 1.3086 - sparse_categorical_accuracy: 0.4363 - accuracy: 0.4363 - val_loss: 1.5492 - val_sparse_categorical_accuracy: 0.3305 - val_accuracy: 0.3305\n",
      "Epoch 149/500\n",
      "15/15 [==============================] - 0s 5ms/step - loss: 1.3026 - sparse_categorical_accuracy: 0.4150 - accuracy: 0.4150 - val_loss: 1.5503 - val_sparse_categorical_accuracy: 0.3391 - val_accuracy: 0.3391\n",
      "Epoch 150/500\n",
      "15/15 [==============================] - 0s 5ms/step - loss: 1.2952 - sparse_categorical_accuracy: 0.4178 - accuracy: 0.4178 - val_loss: 1.5524 - val_sparse_categorical_accuracy: 0.3391 - val_accuracy: 0.3391\n",
      "Epoch 151/500\n",
      "15/15 [==============================] - 0s 5ms/step - loss: 1.2604 - sparse_categorical_accuracy: 0.4334 - accuracy: 0.4334 - val_loss: 1.5810 - val_sparse_categorical_accuracy: 0.3348 - val_accuracy: 0.3348\n",
      "Epoch 152/500\n",
      "15/15 [==============================] - 0s 5ms/step - loss: 1.2583 - sparse_categorical_accuracy: 0.4235 - accuracy: 0.4235 - val_loss: 1.5940 - val_sparse_categorical_accuracy: 0.3176 - val_accuracy: 0.3176\n",
      "Epoch 153/500\n",
      "15/15 [==============================] - 0s 5ms/step - loss: 1.2661 - sparse_categorical_accuracy: 0.4377 - accuracy: 0.4377 - val_loss: 1.5948 - val_sparse_categorical_accuracy: 0.3391 - val_accuracy: 0.3391\n",
      "Epoch 154/500\n",
      "15/15 [==============================] - 0s 5ms/step - loss: 1.2649 - sparse_categorical_accuracy: 0.4221 - accuracy: 0.4221 - val_loss: 1.6033 - val_sparse_categorical_accuracy: 0.3133 - val_accuracy: 0.3133\n",
      "Epoch 155/500\n",
      "15/15 [==============================] - 0s 5ms/step - loss: 1.2532 - sparse_categorical_accuracy: 0.4193 - accuracy: 0.4193 - val_loss: 1.6383 - val_sparse_categorical_accuracy: 0.3262 - val_accuracy: 0.3262\n",
      "Epoch 156/500\n",
      "15/15 [==============================] - 0s 5ms/step - loss: 1.2615 - sparse_categorical_accuracy: 0.4235 - accuracy: 0.4235 - val_loss: 1.5869 - val_sparse_categorical_accuracy: 0.3219 - val_accuracy: 0.3219\n",
      "Epoch 157/500\n",
      "15/15 [==============================] - 0s 5ms/step - loss: 1.2439 - sparse_categorical_accuracy: 0.4249 - accuracy: 0.4249 - val_loss: 1.5976 - val_sparse_categorical_accuracy: 0.3305 - val_accuracy: 0.3305\n",
      "Epoch 158/500\n",
      "15/15 [==============================] - 0s 5ms/step - loss: 1.2268 - sparse_categorical_accuracy: 0.4108 - accuracy: 0.4108 - val_loss: 1.6248 - val_sparse_categorical_accuracy: 0.3391 - val_accuracy: 0.3391\n",
      "Epoch 159/500\n",
      "15/15 [==============================] - 0s 5ms/step - loss: 1.2591 - sparse_categorical_accuracy: 0.4348 - accuracy: 0.4348 - val_loss: 1.6885 - val_sparse_categorical_accuracy: 0.3519 - val_accuracy: 0.3519\n",
      "Epoch 160/500\n",
      "15/15 [==============================] - 0s 5ms/step - loss: 1.2969 - sparse_categorical_accuracy: 0.3980 - accuracy: 0.3980 - val_loss: 1.5969 - val_sparse_categorical_accuracy: 0.3305 - val_accuracy: 0.3305\n",
      "Epoch 161/500\n",
      "15/15 [==============================] - 0s 5ms/step - loss: 1.2553 - sparse_categorical_accuracy: 0.4249 - accuracy: 0.4249 - val_loss: 1.5983 - val_sparse_categorical_accuracy: 0.3348 - val_accuracy: 0.3348\n",
      "Epoch 162/500\n",
      "15/15 [==============================] - 0s 7ms/step - loss: 1.2497 - sparse_categorical_accuracy: 0.4193 - accuracy: 0.4193 - val_loss: 1.6404 - val_sparse_categorical_accuracy: 0.3133 - val_accuracy: 0.3133\n",
      "Epoch 163/500\n",
      "15/15 [==============================] - 0s 4ms/step - loss: 1.2337 - sparse_categorical_accuracy: 0.4490 - accuracy: 0.4490 - val_loss: 1.6686 - val_sparse_categorical_accuracy: 0.3133 - val_accuracy: 0.3133\n",
      "Epoch 164/500\n",
      "15/15 [==============================] - 0s 5ms/step - loss: 1.2494 - sparse_categorical_accuracy: 0.4462 - accuracy: 0.4462 - val_loss: 1.6579 - val_sparse_categorical_accuracy: 0.3476 - val_accuracy: 0.3476\n",
      "Epoch 165/500\n",
      "15/15 [==============================] - 0s 5ms/step - loss: 1.2347 - sparse_categorical_accuracy: 0.4278 - accuracy: 0.4278 - val_loss: 1.6377 - val_sparse_categorical_accuracy: 0.3219 - val_accuracy: 0.3219\n",
      "Epoch 166/500\n",
      "15/15 [==============================] - 0s 5ms/step - loss: 1.2303 - sparse_categorical_accuracy: 0.4306 - accuracy: 0.4306 - val_loss: 1.6800 - val_sparse_categorical_accuracy: 0.3305 - val_accuracy: 0.3305\n",
      "Epoch 167/500\n",
      "15/15 [==============================] - 0s 5ms/step - loss: 1.2219 - sparse_categorical_accuracy: 0.4306 - accuracy: 0.4306 - val_loss: 1.6691 - val_sparse_categorical_accuracy: 0.3219 - val_accuracy: 0.3219\n",
      "Epoch 168/500\n",
      "15/15 [==============================] - 0s 5ms/step - loss: 1.2121 - sparse_categorical_accuracy: 0.4405 - accuracy: 0.4405 - val_loss: 1.6884 - val_sparse_categorical_accuracy: 0.3262 - val_accuracy: 0.3262\n",
      "Epoch 169/500\n",
      "15/15 [==============================] - 0s 5ms/step - loss: 1.2295 - sparse_categorical_accuracy: 0.4448 - accuracy: 0.4448 - val_loss: 1.6651 - val_sparse_categorical_accuracy: 0.3433 - val_accuracy: 0.3433\n",
      "Epoch 170/500\n",
      "15/15 [==============================] - 0s 5ms/step - loss: 1.2126 - sparse_categorical_accuracy: 0.4490 - accuracy: 0.4490 - val_loss: 1.6972 - val_sparse_categorical_accuracy: 0.3133 - val_accuracy: 0.3133\n",
      "Epoch 171/500\n",
      "15/15 [==============================] - 0s 5ms/step - loss: 1.2410 - sparse_categorical_accuracy: 0.4235 - accuracy: 0.4235 - val_loss: 1.7109 - val_sparse_categorical_accuracy: 0.3004 - val_accuracy: 0.3004\n",
      "Epoch 172/500\n",
      "15/15 [==============================] - 0s 5ms/step - loss: 1.2304 - sparse_categorical_accuracy: 0.4575 - accuracy: 0.4575 - val_loss: 1.6576 - val_sparse_categorical_accuracy: 0.3262 - val_accuracy: 0.3262\n",
      "Epoch 173/500\n",
      "15/15 [==============================] - 0s 5ms/step - loss: 1.2298 - sparse_categorical_accuracy: 0.4306 - accuracy: 0.4306 - val_loss: 1.6473 - val_sparse_categorical_accuracy: 0.3090 - val_accuracy: 0.3090\n",
      "Epoch 174/500\n",
      "15/15 [==============================] - 0s 5ms/step - loss: 1.2251 - sparse_categorical_accuracy: 0.4391 - accuracy: 0.4391 - val_loss: 1.6908 - val_sparse_categorical_accuracy: 0.3305 - val_accuracy: 0.3305\n",
      "Epoch 175/500\n",
      "15/15 [==============================] - 0s 5ms/step - loss: 1.2530 - sparse_categorical_accuracy: 0.4164 - accuracy: 0.4164 - val_loss: 1.7046 - val_sparse_categorical_accuracy: 0.3133 - val_accuracy: 0.3133\n",
      "Epoch 176/500\n",
      "15/15 [==============================] - 0s 5ms/step - loss: 1.2283 - sparse_categorical_accuracy: 0.4433 - accuracy: 0.4433 - val_loss: 1.6595 - val_sparse_categorical_accuracy: 0.3090 - val_accuracy: 0.3090\n",
      "Epoch 177/500\n",
      "15/15 [==============================] - 0s 5ms/step - loss: 1.2310 - sparse_categorical_accuracy: 0.4348 - accuracy: 0.4348 - val_loss: 1.6869 - val_sparse_categorical_accuracy: 0.3004 - val_accuracy: 0.3004\n",
      "Epoch 178/500\n",
      "15/15 [==============================] - 0s 5ms/step - loss: 1.2169 - sparse_categorical_accuracy: 0.4419 - accuracy: 0.4419 - val_loss: 1.7536 - val_sparse_categorical_accuracy: 0.3047 - val_accuracy: 0.3047\n",
      "Epoch 179/500\n",
      "15/15 [==============================] - 0s 5ms/step - loss: 1.2201 - sparse_categorical_accuracy: 0.4589 - accuracy: 0.4589 - val_loss: 1.7035 - val_sparse_categorical_accuracy: 0.3047 - val_accuracy: 0.3047\n",
      "Epoch 180/500\n",
      "15/15 [==============================] - 0s 5ms/step - loss: 1.2200 - sparse_categorical_accuracy: 0.4334 - accuracy: 0.4334 - val_loss: 1.6314 - val_sparse_categorical_accuracy: 0.3219 - val_accuracy: 0.3219\n",
      "Epoch 181/500\n",
      "15/15 [==============================] - 0s 5ms/step - loss: 1.2079 - sparse_categorical_accuracy: 0.4462 - accuracy: 0.4462 - val_loss: 1.7725 - val_sparse_categorical_accuracy: 0.3176 - val_accuracy: 0.3176\n",
      "Epoch 182/500\n",
      "15/15 [==============================] - 0s 5ms/step - loss: 1.2109 - sparse_categorical_accuracy: 0.4547 - accuracy: 0.4547 - val_loss: 1.7025 - val_sparse_categorical_accuracy: 0.3004 - val_accuracy: 0.3004\n",
      "Epoch 183/500\n",
      "15/15 [==============================] - 0s 5ms/step - loss: 1.1915 - sparse_categorical_accuracy: 0.4589 - accuracy: 0.4589 - val_loss: 1.7670 - val_sparse_categorical_accuracy: 0.3219 - val_accuracy: 0.3219\n",
      "Epoch 184/500\n",
      "15/15 [==============================] - 0s 5ms/step - loss: 1.1663 - sparse_categorical_accuracy: 0.4660 - accuracy: 0.4660 - val_loss: 1.7574 - val_sparse_categorical_accuracy: 0.3133 - val_accuracy: 0.3133\n",
      "Epoch 185/500\n",
      "15/15 [==============================] - 0s 5ms/step - loss: 1.1854 - sparse_categorical_accuracy: 0.4674 - accuracy: 0.4674 - val_loss: 1.7482 - val_sparse_categorical_accuracy: 0.2961 - val_accuracy: 0.2961\n",
      "Epoch 186/500\n",
      "15/15 [==============================] - 0s 5ms/step - loss: 1.2153 - sparse_categorical_accuracy: 0.4490 - accuracy: 0.4490 - val_loss: 1.6828 - val_sparse_categorical_accuracy: 0.3433 - val_accuracy: 0.3433\n",
      "Epoch 187/500\n",
      "15/15 [==============================] - 0s 5ms/step - loss: 1.1758 - sparse_categorical_accuracy: 0.4603 - accuracy: 0.4603 - val_loss: 1.7470 - val_sparse_categorical_accuracy: 0.3090 - val_accuracy: 0.3090\n",
      "Epoch 188/500\n",
      "15/15 [==============================] - 0s 5ms/step - loss: 1.1692 - sparse_categorical_accuracy: 0.4589 - accuracy: 0.4589 - val_loss: 1.7675 - val_sparse_categorical_accuracy: 0.3090 - val_accuracy: 0.3090\n",
      "Epoch 189/500\n",
      "15/15 [==============================] - 0s 5ms/step - loss: 1.1821 - sparse_categorical_accuracy: 0.4561 - accuracy: 0.4561 - val_loss: 1.7344 - val_sparse_categorical_accuracy: 0.3305 - val_accuracy: 0.3305\n",
      "Epoch 190/500\n",
      "15/15 [==============================] - 0s 5ms/step - loss: 1.1531 - sparse_categorical_accuracy: 0.4788 - accuracy: 0.4788 - val_loss: 1.7968 - val_sparse_categorical_accuracy: 0.3391 - val_accuracy: 0.3391\n",
      "Epoch 191/500\n",
      "15/15 [==============================] - 0s 5ms/step - loss: 1.1679 - sparse_categorical_accuracy: 0.4674 - accuracy: 0.4674 - val_loss: 1.8376 - val_sparse_categorical_accuracy: 0.3305 - val_accuracy: 0.3305\n",
      "Epoch 192/500\n",
      "15/15 [==============================] - 0s 5ms/step - loss: 1.1901 - sparse_categorical_accuracy: 0.4589 - accuracy: 0.4589 - val_loss: 1.7173 - val_sparse_categorical_accuracy: 0.3348 - val_accuracy: 0.3348\n",
      "Epoch 193/500\n",
      "15/15 [==============================] - 0s 5ms/step - loss: 1.2024 - sparse_categorical_accuracy: 0.4632 - accuracy: 0.4632 - val_loss: 1.7306 - val_sparse_categorical_accuracy: 0.3391 - val_accuracy: 0.3391\n",
      "Epoch 194/500\n",
      "15/15 [==============================] - 0s 5ms/step - loss: 1.1858 - sparse_categorical_accuracy: 0.4603 - accuracy: 0.4603 - val_loss: 1.7434 - val_sparse_categorical_accuracy: 0.3047 - val_accuracy: 0.3047\n",
      "Epoch 195/500\n",
      "15/15 [==============================] - 0s 5ms/step - loss: 1.1979 - sparse_categorical_accuracy: 0.4533 - accuracy: 0.4533 - val_loss: 1.7526 - val_sparse_categorical_accuracy: 0.3219 - val_accuracy: 0.3219\n",
      "Epoch 196/500\n",
      "15/15 [==============================] - 0s 5ms/step - loss: 1.1821 - sparse_categorical_accuracy: 0.4618 - accuracy: 0.4618 - val_loss: 1.7906 - val_sparse_categorical_accuracy: 0.3047 - val_accuracy: 0.3047\n",
      "Epoch 197/500\n",
      "15/15 [==============================] - 0s 5ms/step - loss: 1.1800 - sparse_categorical_accuracy: 0.4547 - accuracy: 0.4547 - val_loss: 1.6921 - val_sparse_categorical_accuracy: 0.3262 - val_accuracy: 0.3262\n",
      "Epoch 198/500\n",
      "15/15 [==============================] - 0s 5ms/step - loss: 1.1555 - sparse_categorical_accuracy: 0.4603 - accuracy: 0.4603 - val_loss: 1.8064 - val_sparse_categorical_accuracy: 0.3176 - val_accuracy: 0.3176\n",
      "Epoch 199/500\n",
      "15/15 [==============================] - 0s 5ms/step - loss: 1.1724 - sparse_categorical_accuracy: 0.4688 - accuracy: 0.4688 - val_loss: 1.7539 - val_sparse_categorical_accuracy: 0.3348 - val_accuracy: 0.3348\n",
      "Epoch 200/500\n",
      "15/15 [==============================] - 0s 5ms/step - loss: 1.1767 - sparse_categorical_accuracy: 0.4632 - accuracy: 0.4632 - val_loss: 1.8438 - val_sparse_categorical_accuracy: 0.3133 - val_accuracy: 0.3133\n",
      "Epoch 201/500\n",
      "15/15 [==============================] - 0s 5ms/step - loss: 1.1375 - sparse_categorical_accuracy: 0.4788 - accuracy: 0.4788 - val_loss: 1.8255 - val_sparse_categorical_accuracy: 0.3262 - val_accuracy: 0.3262\n",
      "Epoch 202/500\n",
      "15/15 [==============================] - 0s 5ms/step - loss: 1.1397 - sparse_categorical_accuracy: 0.4773 - accuracy: 0.4773 - val_loss: 1.8316 - val_sparse_categorical_accuracy: 0.2918 - val_accuracy: 0.2918\n",
      "Epoch 203/500\n",
      "15/15 [==============================] - 0s 5ms/step - loss: 1.1486 - sparse_categorical_accuracy: 0.4575 - accuracy: 0.4575 - val_loss: 1.8836 - val_sparse_categorical_accuracy: 0.3219 - val_accuracy: 0.3219\n",
      "Epoch 204/500\n",
      "15/15 [==============================] - 0s 6ms/step - loss: 1.1543 - sparse_categorical_accuracy: 0.4759 - accuracy: 0.4759 - val_loss: 1.8406 - val_sparse_categorical_accuracy: 0.3090 - val_accuracy: 0.3090\n",
      "Epoch 205/500\n",
      "15/15 [==============================] - 0s 5ms/step - loss: 1.1571 - sparse_categorical_accuracy: 0.4759 - accuracy: 0.4759 - val_loss: 1.8002 - val_sparse_categorical_accuracy: 0.3090 - val_accuracy: 0.3090\n",
      "Epoch 206/500\n",
      "15/15 [==============================] - 0s 5ms/step - loss: 1.1533 - sparse_categorical_accuracy: 0.4632 - accuracy: 0.4632 - val_loss: 1.9260 - val_sparse_categorical_accuracy: 0.3176 - val_accuracy: 0.3176\n",
      "Epoch 207/500\n",
      "15/15 [==============================] - 0s 4ms/step - loss: 1.1462 - sparse_categorical_accuracy: 0.4830 - accuracy: 0.4830 - val_loss: 1.8500 - val_sparse_categorical_accuracy: 0.3176 - val_accuracy: 0.3176\n",
      "Epoch 208/500\n",
      "15/15 [==============================] - 0s 5ms/step - loss: 1.1283 - sparse_categorical_accuracy: 0.4773 - accuracy: 0.4773 - val_loss: 1.9439 - val_sparse_categorical_accuracy: 0.3262 - val_accuracy: 0.3262\n",
      "Epoch 209/500\n",
      "15/15 [==============================] - 0s 5ms/step - loss: 1.1572 - sparse_categorical_accuracy: 0.4632 - accuracy: 0.4632 - val_loss: 1.8791 - val_sparse_categorical_accuracy: 0.3133 - val_accuracy: 0.3133\n",
      "Epoch 210/500\n",
      "15/15 [==============================] - 0s 5ms/step - loss: 1.1740 - sparse_categorical_accuracy: 0.4589 - accuracy: 0.4589 - val_loss: 1.8704 - val_sparse_categorical_accuracy: 0.2876 - val_accuracy: 0.2876\n",
      "Epoch 211/500\n",
      "15/15 [==============================] - 0s 5ms/step - loss: 1.1597 - sparse_categorical_accuracy: 0.4618 - accuracy: 0.4618 - val_loss: 1.8751 - val_sparse_categorical_accuracy: 0.3262 - val_accuracy: 0.3262\n",
      "Epoch 212/500\n",
      "15/15 [==============================] - 0s 5ms/step - loss: 1.1728 - sparse_categorical_accuracy: 0.4674 - accuracy: 0.4674 - val_loss: 1.8969 - val_sparse_categorical_accuracy: 0.3047 - val_accuracy: 0.3047\n",
      "Epoch 213/500\n",
      "15/15 [==============================] - 0s 5ms/step - loss: 1.1929 - sparse_categorical_accuracy: 0.4490 - accuracy: 0.4490 - val_loss: 1.7667 - val_sparse_categorical_accuracy: 0.3348 - val_accuracy: 0.3348\n",
      "Epoch 214/500\n",
      "15/15 [==============================] - 0s 5ms/step - loss: 1.1932 - sparse_categorical_accuracy: 0.4589 - accuracy: 0.4589 - val_loss: 1.8228 - val_sparse_categorical_accuracy: 0.3133 - val_accuracy: 0.3133\n",
      "Epoch 215/500\n",
      "15/15 [==============================] - 0s 5ms/step - loss: 1.1566 - sparse_categorical_accuracy: 0.4688 - accuracy: 0.4688 - val_loss: 1.8276 - val_sparse_categorical_accuracy: 0.3219 - val_accuracy: 0.3219\n",
      "Epoch 216/500\n",
      "15/15 [==============================] - 0s 5ms/step - loss: 1.1313 - sparse_categorical_accuracy: 0.4816 - accuracy: 0.4816 - val_loss: 1.8733 - val_sparse_categorical_accuracy: 0.3219 - val_accuracy: 0.3219\n",
      "Epoch 217/500\n",
      "15/15 [==============================] - 0s 5ms/step - loss: 1.1374 - sparse_categorical_accuracy: 0.4703 - accuracy: 0.4703 - val_loss: 1.9276 - val_sparse_categorical_accuracy: 0.3219 - val_accuracy: 0.3219\n",
      "Epoch 218/500\n",
      "15/15 [==============================] - 0s 5ms/step - loss: 1.1459 - sparse_categorical_accuracy: 0.4717 - accuracy: 0.4717 - val_loss: 1.9131 - val_sparse_categorical_accuracy: 0.3047 - val_accuracy: 0.3047\n",
      "Epoch 219/500\n",
      "15/15 [==============================] - 0s 5ms/step - loss: 1.1329 - sparse_categorical_accuracy: 0.4816 - accuracy: 0.4816 - val_loss: 1.9591 - val_sparse_categorical_accuracy: 0.2961 - val_accuracy: 0.2961\n",
      "Epoch 220/500\n",
      "15/15 [==============================] - 0s 5ms/step - loss: 1.1203 - sparse_categorical_accuracy: 0.4873 - accuracy: 0.4873 - val_loss: 1.9710 - val_sparse_categorical_accuracy: 0.3004 - val_accuracy: 0.3004\n",
      "Epoch 221/500\n",
      "15/15 [==============================] - 0s 5ms/step - loss: 1.1274 - sparse_categorical_accuracy: 0.4745 - accuracy: 0.4745 - val_loss: 1.9602 - val_sparse_categorical_accuracy: 0.3047 - val_accuracy: 0.3047\n",
      "Epoch 222/500\n",
      "15/15 [==============================] - 0s 6ms/step - loss: 1.1200 - sparse_categorical_accuracy: 0.4802 - accuracy: 0.4802 - val_loss: 1.9462 - val_sparse_categorical_accuracy: 0.2961 - val_accuracy: 0.2961\n",
      "Epoch 223/500\n",
      "15/15 [==============================] - 0s 5ms/step - loss: 1.1011 - sparse_categorical_accuracy: 0.4901 - accuracy: 0.4901 - val_loss: 2.0157 - val_sparse_categorical_accuracy: 0.3305 - val_accuracy: 0.3305\n",
      "Epoch 224/500\n",
      "15/15 [==============================] - 0s 5ms/step - loss: 1.1295 - sparse_categorical_accuracy: 0.4901 - accuracy: 0.4901 - val_loss: 1.9377 - val_sparse_categorical_accuracy: 0.3047 - val_accuracy: 0.3047\n",
      "Epoch 225/500\n",
      "15/15 [==============================] - 0s 5ms/step - loss: 1.1312 - sparse_categorical_accuracy: 0.4745 - accuracy: 0.4745 - val_loss: 1.9423 - val_sparse_categorical_accuracy: 0.3090 - val_accuracy: 0.3090\n",
      "Epoch 226/500\n",
      "15/15 [==============================] - 0s 5ms/step - loss: 1.1700 - sparse_categorical_accuracy: 0.4731 - accuracy: 0.4731 - val_loss: 1.9263 - val_sparse_categorical_accuracy: 0.3391 - val_accuracy: 0.3391\n",
      "Epoch 227/500\n",
      "15/15 [==============================] - 0s 5ms/step - loss: 1.1536 - sparse_categorical_accuracy: 0.4717 - accuracy: 0.4717 - val_loss: 1.8543 - val_sparse_categorical_accuracy: 0.3133 - val_accuracy: 0.3133\n",
      "Epoch 228/500\n",
      "15/15 [==============================] - 0s 5ms/step - loss: 1.1149 - sparse_categorical_accuracy: 0.4816 - accuracy: 0.4816 - val_loss: 1.9469 - val_sparse_categorical_accuracy: 0.3047 - val_accuracy: 0.3047\n",
      "Epoch 229/500\n",
      "15/15 [==============================] - 0s 5ms/step - loss: 1.1079 - sparse_categorical_accuracy: 0.4844 - accuracy: 0.4844 - val_loss: 1.9527 - val_sparse_categorical_accuracy: 0.3090 - val_accuracy: 0.3090\n",
      "Epoch 230/500\n",
      "15/15 [==============================] - 0s 5ms/step - loss: 1.0905 - sparse_categorical_accuracy: 0.4901 - accuracy: 0.4901 - val_loss: 2.0677 - val_sparse_categorical_accuracy: 0.3262 - val_accuracy: 0.3262\n",
      "Epoch 231/500\n",
      "15/15 [==============================] - 0s 5ms/step - loss: 1.0919 - sparse_categorical_accuracy: 0.4986 - accuracy: 0.4986 - val_loss: 2.0718 - val_sparse_categorical_accuracy: 0.3133 - val_accuracy: 0.3133\n",
      "Epoch 232/500\n",
      "15/15 [==============================] - 0s 5ms/step - loss: 1.1147 - sparse_categorical_accuracy: 0.4958 - accuracy: 0.4958 - val_loss: 2.0741 - val_sparse_categorical_accuracy: 0.3090 - val_accuracy: 0.3090\n",
      "Epoch 233/500\n",
      "15/15 [==============================] - 0s 5ms/step - loss: 1.1171 - sparse_categorical_accuracy: 0.4830 - accuracy: 0.4830 - val_loss: 2.0764 - val_sparse_categorical_accuracy: 0.2961 - val_accuracy: 0.2961\n",
      "Epoch 234/500\n",
      "15/15 [==============================] - 0s 5ms/step - loss: 1.1671 - sparse_categorical_accuracy: 0.4844 - accuracy: 0.4844 - val_loss: 2.0197 - val_sparse_categorical_accuracy: 0.3090 - val_accuracy: 0.3090\n",
      "Epoch 235/500\n",
      "15/15 [==============================] - 0s 5ms/step - loss: 1.1474 - sparse_categorical_accuracy: 0.4674 - accuracy: 0.4674 - val_loss: 1.8890 - val_sparse_categorical_accuracy: 0.2876 - val_accuracy: 0.2876\n",
      "Epoch 236/500\n",
      "15/15 [==============================] - 0s 5ms/step - loss: 1.1081 - sparse_categorical_accuracy: 0.4958 - accuracy: 0.4958 - val_loss: 1.9506 - val_sparse_categorical_accuracy: 0.3176 - val_accuracy: 0.3176\n",
      "Epoch 237/500\n",
      "15/15 [==============================] - 0s 5ms/step - loss: 1.1483 - sparse_categorical_accuracy: 0.4703 - accuracy: 0.4703 - val_loss: 1.8618 - val_sparse_categorical_accuracy: 0.3176 - val_accuracy: 0.3176\n",
      "Epoch 238/500\n",
      "15/15 [==============================] - 0s 5ms/step - loss: 1.1830 - sparse_categorical_accuracy: 0.4533 - accuracy: 0.4533 - val_loss: 1.9376 - val_sparse_categorical_accuracy: 0.3219 - val_accuracy: 0.3219\n",
      "Epoch 239/500\n",
      "15/15 [==============================] - 0s 5ms/step - loss: 1.1755 - sparse_categorical_accuracy: 0.4504 - accuracy: 0.4504 - val_loss: 1.8832 - val_sparse_categorical_accuracy: 0.3090 - val_accuracy: 0.3090\n",
      "Epoch 240/500\n",
      "15/15 [==============================] - 0s 5ms/step - loss: 1.1610 - sparse_categorical_accuracy: 0.4589 - accuracy: 0.4589 - val_loss: 1.9078 - val_sparse_categorical_accuracy: 0.3133 - val_accuracy: 0.3133\n",
      "Epoch 241/500\n",
      "15/15 [==============================] - 0s 4ms/step - loss: 1.1228 - sparse_categorical_accuracy: 0.4901 - accuracy: 0.4901 - val_loss: 1.9749 - val_sparse_categorical_accuracy: 0.2918 - val_accuracy: 0.2918\n",
      "Epoch 242/500\n",
      "15/15 [==============================] - 0s 5ms/step - loss: 1.1345 - sparse_categorical_accuracy: 0.4830 - accuracy: 0.4830 - val_loss: 1.9761 - val_sparse_categorical_accuracy: 0.3004 - val_accuracy: 0.3004\n",
      "Epoch 243/500\n",
      "15/15 [==============================] - 0s 5ms/step - loss: 1.1198 - sparse_categorical_accuracy: 0.5099 - accuracy: 0.5099 - val_loss: 1.8928 - val_sparse_categorical_accuracy: 0.3176 - val_accuracy: 0.3176\n",
      "Epoch 244/500\n",
      "15/15 [==============================] - 0s 5ms/step - loss: 1.1224 - sparse_categorical_accuracy: 0.4830 - accuracy: 0.4830 - val_loss: 1.9889 - val_sparse_categorical_accuracy: 0.3133 - val_accuracy: 0.3133\n",
      "Epoch 245/500\n",
      "15/15 [==============================] - 0s 5ms/step - loss: 1.1546 - sparse_categorical_accuracy: 0.4745 - accuracy: 0.4745 - val_loss: 1.9363 - val_sparse_categorical_accuracy: 0.3176 - val_accuracy: 0.3176\n",
      "Epoch 246/500\n",
      "15/15 [==============================] - 0s 4ms/step - loss: 1.1250 - sparse_categorical_accuracy: 0.4901 - accuracy: 0.4901 - val_loss: 1.9249 - val_sparse_categorical_accuracy: 0.3133 - val_accuracy: 0.3133\n",
      "Epoch 247/500\n",
      "15/15 [==============================] - 0s 5ms/step - loss: 1.1018 - sparse_categorical_accuracy: 0.4958 - accuracy: 0.4958 - val_loss: 2.0265 - val_sparse_categorical_accuracy: 0.3133 - val_accuracy: 0.3133\n",
      "Epoch 248/500\n",
      "15/15 [==============================] - 0s 5ms/step - loss: 1.0957 - sparse_categorical_accuracy: 0.4929 - accuracy: 0.4929 - val_loss: 2.0663 - val_sparse_categorical_accuracy: 0.3090 - val_accuracy: 0.3090\n",
      "Epoch 249/500\n",
      "15/15 [==============================] - 0s 5ms/step - loss: 1.0891 - sparse_categorical_accuracy: 0.5057 - accuracy: 0.5057 - val_loss: 2.0371 - val_sparse_categorical_accuracy: 0.2833 - val_accuracy: 0.2833\n",
      "Epoch 250/500\n",
      "15/15 [==============================] - 0s 6ms/step - loss: 1.1033 - sparse_categorical_accuracy: 0.4972 - accuracy: 0.4972 - val_loss: 2.1604 - val_sparse_categorical_accuracy: 0.2918 - val_accuracy: 0.2918\n",
      "Epoch 251/500\n",
      "15/15 [==============================] - 0s 5ms/step - loss: 1.1335 - sparse_categorical_accuracy: 0.4816 - accuracy: 0.4816 - val_loss: 2.0255 - val_sparse_categorical_accuracy: 0.3305 - val_accuracy: 0.3305\n",
      "Epoch 252/500\n",
      "15/15 [==============================] - 0s 5ms/step - loss: 1.1088 - sparse_categorical_accuracy: 0.4844 - accuracy: 0.4844 - val_loss: 2.0124 - val_sparse_categorical_accuracy: 0.3090 - val_accuracy: 0.3090\n",
      "Epoch 253/500\n",
      "15/15 [==============================] - 0s 5ms/step - loss: 1.0948 - sparse_categorical_accuracy: 0.5000 - accuracy: 0.5000 - val_loss: 2.0681 - val_sparse_categorical_accuracy: 0.3133 - val_accuracy: 0.3133\n",
      "Epoch 254/500\n",
      "15/15 [==============================] - 0s 5ms/step - loss: 1.0902 - sparse_categorical_accuracy: 0.5042 - accuracy: 0.5042 - val_loss: 2.0789 - val_sparse_categorical_accuracy: 0.2918 - val_accuracy: 0.2918\n",
      "Epoch 255/500\n",
      "15/15 [==============================] - 0s 5ms/step - loss: 1.0960 - sparse_categorical_accuracy: 0.4986 - accuracy: 0.4986 - val_loss: 2.1081 - val_sparse_categorical_accuracy: 0.3133 - val_accuracy: 0.3133\n",
      "Epoch 256/500\n",
      "15/15 [==============================] - 0s 5ms/step - loss: 1.1011 - sparse_categorical_accuracy: 0.5000 - accuracy: 0.5000 - val_loss: 2.1027 - val_sparse_categorical_accuracy: 0.3004 - val_accuracy: 0.3004\n",
      "Epoch 257/500\n",
      "15/15 [==============================] - 0s 5ms/step - loss: 1.0982 - sparse_categorical_accuracy: 0.4986 - accuracy: 0.4986 - val_loss: 2.0494 - val_sparse_categorical_accuracy: 0.3047 - val_accuracy: 0.3047\n",
      "Epoch 258/500\n",
      "15/15 [==============================] - 0s 5ms/step - loss: 1.0958 - sparse_categorical_accuracy: 0.4873 - accuracy: 0.4873 - val_loss: 2.0075 - val_sparse_categorical_accuracy: 0.3133 - val_accuracy: 0.3133\n",
      "Epoch 259/500\n",
      "15/15 [==============================] - 0s 5ms/step - loss: 1.1292 - sparse_categorical_accuracy: 0.4972 - accuracy: 0.4972 - val_loss: 2.1161 - val_sparse_categorical_accuracy: 0.2918 - val_accuracy: 0.2918\n",
      "Epoch 260/500\n",
      "15/15 [==============================] - 0s 5ms/step - loss: 1.1053 - sparse_categorical_accuracy: 0.4830 - accuracy: 0.4830 - val_loss: 2.0134 - val_sparse_categorical_accuracy: 0.2876 - val_accuracy: 0.2876\n",
      "Epoch 261/500\n",
      "15/15 [==============================] - 0s 5ms/step - loss: 1.0916 - sparse_categorical_accuracy: 0.4943 - accuracy: 0.4943 - val_loss: 2.0635 - val_sparse_categorical_accuracy: 0.3219 - val_accuracy: 0.3219\n",
      "Epoch 262/500\n",
      "15/15 [==============================] - 0s 5ms/step - loss: 1.0819 - sparse_categorical_accuracy: 0.4972 - accuracy: 0.4972 - val_loss: 2.1003 - val_sparse_categorical_accuracy: 0.2961 - val_accuracy: 0.2961\n",
      "Epoch 263/500\n",
      "15/15 [==============================] - 0s 5ms/step - loss: 1.1065 - sparse_categorical_accuracy: 0.4958 - accuracy: 0.4958 - val_loss: 1.9933 - val_sparse_categorical_accuracy: 0.3004 - val_accuracy: 0.3004\n",
      "Epoch 264/500\n",
      "15/15 [==============================] - 0s 5ms/step - loss: 1.1002 - sparse_categorical_accuracy: 0.5000 - accuracy: 0.5000 - val_loss: 2.2275 - val_sparse_categorical_accuracy: 0.2833 - val_accuracy: 0.2833\n",
      "Epoch 265/500\n",
      "15/15 [==============================] - 0s 5ms/step - loss: 1.1027 - sparse_categorical_accuracy: 0.4844 - accuracy: 0.4844 - val_loss: 2.1425 - val_sparse_categorical_accuracy: 0.3090 - val_accuracy: 0.3090\n",
      "Epoch 266/500\n",
      "15/15 [==============================] - 0s 5ms/step - loss: 1.1200 - sparse_categorical_accuracy: 0.4915 - accuracy: 0.4915 - val_loss: 2.0362 - val_sparse_categorical_accuracy: 0.3176 - val_accuracy: 0.3176\n",
      "Epoch 267/500\n",
      "15/15 [==============================] - 0s 5ms/step - loss: 1.0888 - sparse_categorical_accuracy: 0.4873 - accuracy: 0.4873 - val_loss: 2.1130 - val_sparse_categorical_accuracy: 0.3176 - val_accuracy: 0.3176\n",
      "Epoch 268/500\n",
      "15/15 [==============================] - 0s 6ms/step - loss: 1.1016 - sparse_categorical_accuracy: 0.4915 - accuracy: 0.4915 - val_loss: 1.9227 - val_sparse_categorical_accuracy: 0.3133 - val_accuracy: 0.3133\n",
      "Epoch 269/500\n",
      "15/15 [==============================] - 0s 5ms/step - loss: 1.0982 - sparse_categorical_accuracy: 0.4901 - accuracy: 0.4901 - val_loss: 2.0576 - val_sparse_categorical_accuracy: 0.3047 - val_accuracy: 0.3047\n",
      "Epoch 270/500\n",
      "15/15 [==============================] - 0s 5ms/step - loss: 1.0899 - sparse_categorical_accuracy: 0.4915 - accuracy: 0.4915 - val_loss: 2.1104 - val_sparse_categorical_accuracy: 0.2961 - val_accuracy: 0.2961\n",
      "Epoch 271/500\n",
      "15/15 [==============================] - 0s 5ms/step - loss: 1.0689 - sparse_categorical_accuracy: 0.5113 - accuracy: 0.5113 - val_loss: 2.1650 - val_sparse_categorical_accuracy: 0.3176 - val_accuracy: 0.3176\n",
      "Epoch 272/500\n",
      "15/15 [==============================] - 0s 6ms/step - loss: 1.0993 - sparse_categorical_accuracy: 0.4887 - accuracy: 0.4887 - val_loss: 2.1314 - val_sparse_categorical_accuracy: 0.3176 - val_accuracy: 0.3176\n",
      "Epoch 273/500\n",
      "15/15 [==============================] - 0s 6ms/step - loss: 1.0901 - sparse_categorical_accuracy: 0.5014 - accuracy: 0.5014 - val_loss: 2.1587 - val_sparse_categorical_accuracy: 0.3176 - val_accuracy: 0.3176\n",
      "Epoch 274/500\n",
      "15/15 [==============================] - 0s 5ms/step - loss: 1.0816 - sparse_categorical_accuracy: 0.5071 - accuracy: 0.5071 - val_loss: 2.0601 - val_sparse_categorical_accuracy: 0.3090 - val_accuracy: 0.3090\n",
      "Epoch 275/500\n",
      "15/15 [==============================] - 0s 6ms/step - loss: 1.0671 - sparse_categorical_accuracy: 0.5071 - accuracy: 0.5071 - val_loss: 2.2264 - val_sparse_categorical_accuracy: 0.3262 - val_accuracy: 0.3262\n",
      "Epoch 276/500\n",
      "15/15 [==============================] - 0s 5ms/step - loss: 1.0600 - sparse_categorical_accuracy: 0.5014 - accuracy: 0.5014 - val_loss: 2.1958 - val_sparse_categorical_accuracy: 0.3133 - val_accuracy: 0.3133\n",
      "Epoch 277/500\n",
      "15/15 [==============================] - 0s 5ms/step - loss: 1.0566 - sparse_categorical_accuracy: 0.5198 - accuracy: 0.5198 - val_loss: 2.1389 - val_sparse_categorical_accuracy: 0.3004 - val_accuracy: 0.3004\n",
      "Epoch 278/500\n",
      "15/15 [==============================] - 0s 5ms/step - loss: 1.0763 - sparse_categorical_accuracy: 0.5014 - accuracy: 0.5014 - val_loss: 2.1443 - val_sparse_categorical_accuracy: 0.3176 - val_accuracy: 0.3176\n",
      "Epoch 279/500\n",
      "15/15 [==============================] - 0s 5ms/step - loss: 1.0895 - sparse_categorical_accuracy: 0.5127 - accuracy: 0.5127 - val_loss: 2.1530 - val_sparse_categorical_accuracy: 0.3219 - val_accuracy: 0.3219\n",
      "Epoch 280/500\n",
      "15/15 [==============================] - 0s 5ms/step - loss: 1.0785 - sparse_categorical_accuracy: 0.5028 - accuracy: 0.5028 - val_loss: 2.2652 - val_sparse_categorical_accuracy: 0.3391 - val_accuracy: 0.3391\n",
      "Epoch 281/500\n",
      "15/15 [==============================] - 0s 5ms/step - loss: 1.0998 - sparse_categorical_accuracy: 0.4958 - accuracy: 0.4958 - val_loss: 2.1272 - val_sparse_categorical_accuracy: 0.2833 - val_accuracy: 0.2833\n",
      "Epoch 282/500\n",
      "15/15 [==============================] - 0s 5ms/step - loss: 1.0840 - sparse_categorical_accuracy: 0.4958 - accuracy: 0.4958 - val_loss: 2.1146 - val_sparse_categorical_accuracy: 0.3176 - val_accuracy: 0.3176\n",
      "Epoch 283/500\n",
      "15/15 [==============================] - 0s 5ms/step - loss: 1.0935 - sparse_categorical_accuracy: 0.4943 - accuracy: 0.4943 - val_loss: 2.2345 - val_sparse_categorical_accuracy: 0.2961 - val_accuracy: 0.2961\n",
      "Epoch 284/500\n",
      "15/15 [==============================] - 0s 6ms/step - loss: 1.1211 - sparse_categorical_accuracy: 0.4603 - accuracy: 0.4603 - val_loss: 2.1424 - val_sparse_categorical_accuracy: 0.3133 - val_accuracy: 0.3133\n",
      "Epoch 285/500\n",
      "15/15 [==============================] - 0s 5ms/step - loss: 1.0683 - sparse_categorical_accuracy: 0.4972 - accuracy: 0.4972 - val_loss: 2.1635 - val_sparse_categorical_accuracy: 0.3047 - val_accuracy: 0.3047\n",
      "Epoch 286/500\n",
      "15/15 [==============================] - 0s 5ms/step - loss: 1.0761 - sparse_categorical_accuracy: 0.5099 - accuracy: 0.5099 - val_loss: 2.1153 - val_sparse_categorical_accuracy: 0.3391 - val_accuracy: 0.3391\n",
      "Epoch 287/500\n",
      "15/15 [==============================] - 0s 5ms/step - loss: 1.0636 - sparse_categorical_accuracy: 0.5057 - accuracy: 0.5057 - val_loss: 2.1260 - val_sparse_categorical_accuracy: 0.3047 - val_accuracy: 0.3047\n",
      "Epoch 288/500\n",
      "15/15 [==============================] - 0s 5ms/step - loss: 1.0755 - sparse_categorical_accuracy: 0.5170 - accuracy: 0.5170 - val_loss: 2.1488 - val_sparse_categorical_accuracy: 0.3133 - val_accuracy: 0.3133\n",
      "Epoch 289/500\n",
      "15/15 [==============================] - 0s 5ms/step - loss: 1.0723 - sparse_categorical_accuracy: 0.4986 - accuracy: 0.4986 - val_loss: 2.2614 - val_sparse_categorical_accuracy: 0.3219 - val_accuracy: 0.3219\n",
      "Epoch 290/500\n",
      "15/15 [==============================] - 0s 5ms/step - loss: 1.0618 - sparse_categorical_accuracy: 0.4972 - accuracy: 0.4972 - val_loss: 2.2475 - val_sparse_categorical_accuracy: 0.2747 - val_accuracy: 0.2747\n",
      "Epoch 291/500\n",
      "15/15 [==============================] - 0s 5ms/step - loss: 1.0617 - sparse_categorical_accuracy: 0.5184 - accuracy: 0.5184 - val_loss: 2.2417 - val_sparse_categorical_accuracy: 0.3262 - val_accuracy: 0.3262\n",
      "Epoch 292/500\n",
      "15/15 [==============================] - 0s 7ms/step - loss: 1.0552 - sparse_categorical_accuracy: 0.4943 - accuracy: 0.4943 - val_loss: 2.2637 - val_sparse_categorical_accuracy: 0.3090 - val_accuracy: 0.3090\n",
      "Epoch 293/500\n",
      "15/15 [==============================] - 0s 5ms/step - loss: 1.0511 - sparse_categorical_accuracy: 0.5099 - accuracy: 0.5099 - val_loss: 2.3122 - val_sparse_categorical_accuracy: 0.3262 - val_accuracy: 0.3262\n",
      "Epoch 294/500\n",
      "15/15 [==============================] - 0s 5ms/step - loss: 1.0751 - sparse_categorical_accuracy: 0.5042 - accuracy: 0.5042 - val_loss: 2.3737 - val_sparse_categorical_accuracy: 0.2961 - val_accuracy: 0.2961\n",
      "Epoch 295/500\n",
      "15/15 [==============================] - 0s 5ms/step - loss: 1.0901 - sparse_categorical_accuracy: 0.5113 - accuracy: 0.5113 - val_loss: 2.0991 - val_sparse_categorical_accuracy: 0.3176 - val_accuracy: 0.3176\n",
      "Epoch 296/500\n",
      "15/15 [==============================] - 0s 5ms/step - loss: 1.0682 - sparse_categorical_accuracy: 0.5028 - accuracy: 0.5028 - val_loss: 2.2111 - val_sparse_categorical_accuracy: 0.2961 - val_accuracy: 0.2961\n",
      "Epoch 297/500\n",
      "15/15 [==============================] - 0s 5ms/step - loss: 1.0800 - sparse_categorical_accuracy: 0.5085 - accuracy: 0.5085 - val_loss: 2.2979 - val_sparse_categorical_accuracy: 0.2961 - val_accuracy: 0.2961\n",
      "Epoch 298/500\n",
      "15/15 [==============================] - 0s 5ms/step - loss: 1.0694 - sparse_categorical_accuracy: 0.5057 - accuracy: 0.5057 - val_loss: 2.2258 - val_sparse_categorical_accuracy: 0.3004 - val_accuracy: 0.3004\n",
      "Epoch 299/500\n",
      "15/15 [==============================] - 0s 5ms/step - loss: 1.0652 - sparse_categorical_accuracy: 0.5014 - accuracy: 0.5014 - val_loss: 2.2314 - val_sparse_categorical_accuracy: 0.2918 - val_accuracy: 0.2918\n",
      "Epoch 300/500\n",
      "15/15 [==============================] - 0s 5ms/step - loss: 1.0603 - sparse_categorical_accuracy: 0.5071 - accuracy: 0.5071 - val_loss: 2.3733 - val_sparse_categorical_accuracy: 0.3176 - val_accuracy: 0.3176\n",
      "Epoch 301/500\n",
      "15/15 [==============================] - 0s 4ms/step - loss: 1.0570 - sparse_categorical_accuracy: 0.5014 - accuracy: 0.5014 - val_loss: 2.2469 - val_sparse_categorical_accuracy: 0.3133 - val_accuracy: 0.3133\n",
      "Epoch 302/500\n",
      "15/15 [==============================] - 0s 5ms/step - loss: 1.0490 - sparse_categorical_accuracy: 0.5042 - accuracy: 0.5042 - val_loss: 2.3278 - val_sparse_categorical_accuracy: 0.3133 - val_accuracy: 0.3133\n",
      "Epoch 303/500\n",
      "15/15 [==============================] - 0s 5ms/step - loss: 1.0885 - sparse_categorical_accuracy: 0.4887 - accuracy: 0.4887 - val_loss: 2.3424 - val_sparse_categorical_accuracy: 0.2961 - val_accuracy: 0.2961\n",
      "Epoch 304/500\n",
      "15/15 [==============================] - 0s 5ms/step - loss: 1.0799 - sparse_categorical_accuracy: 0.5142 - accuracy: 0.5142 - val_loss: 2.2310 - val_sparse_categorical_accuracy: 0.3262 - val_accuracy: 0.3262\n",
      "Epoch 305/500\n",
      "15/15 [==============================] - 0s 5ms/step - loss: 1.0788 - sparse_categorical_accuracy: 0.4972 - accuracy: 0.4972 - val_loss: 2.2918 - val_sparse_categorical_accuracy: 0.3047 - val_accuracy: 0.3047\n",
      "Epoch 306/500\n",
      "15/15 [==============================] - 0s 5ms/step - loss: 1.0523 - sparse_categorical_accuracy: 0.5198 - accuracy: 0.5198 - val_loss: 2.3029 - val_sparse_categorical_accuracy: 0.3133 - val_accuracy: 0.3133\n",
      "Epoch 307/500\n",
      "15/15 [==============================] - 0s 5ms/step - loss: 1.0317 - sparse_categorical_accuracy: 0.5255 - accuracy: 0.5255 - val_loss: 2.4987 - val_sparse_categorical_accuracy: 0.3047 - val_accuracy: 0.3047\n",
      "Epoch 308/500\n",
      "15/15 [==============================] - 0s 5ms/step - loss: 1.0329 - sparse_categorical_accuracy: 0.5255 - accuracy: 0.5255 - val_loss: 2.3191 - val_sparse_categorical_accuracy: 0.3004 - val_accuracy: 0.3004\n",
      "Epoch 309/500\n",
      "15/15 [==============================] - 0s 5ms/step - loss: 1.0535 - sparse_categorical_accuracy: 0.5127 - accuracy: 0.5127 - val_loss: 2.5360 - val_sparse_categorical_accuracy: 0.3219 - val_accuracy: 0.3219\n",
      "Epoch 310/500\n",
      "15/15 [==============================] - 0s 5ms/step - loss: 1.1249 - sparse_categorical_accuracy: 0.4929 - accuracy: 0.4929 - val_loss: 2.2107 - val_sparse_categorical_accuracy: 0.2790 - val_accuracy: 0.2790\n",
      "Epoch 311/500\n",
      "15/15 [==============================] - 0s 5ms/step - loss: 1.1327 - sparse_categorical_accuracy: 0.4717 - accuracy: 0.4717 - val_loss: 2.2534 - val_sparse_categorical_accuracy: 0.3133 - val_accuracy: 0.3133\n",
      "Epoch 312/500\n",
      "15/15 [==============================] - 0s 5ms/step - loss: 1.1046 - sparse_categorical_accuracy: 0.4901 - accuracy: 0.4901 - val_loss: 2.1260 - val_sparse_categorical_accuracy: 0.3047 - val_accuracy: 0.3047\n",
      "Epoch 313/500\n",
      "15/15 [==============================] - 0s 5ms/step - loss: 1.0967 - sparse_categorical_accuracy: 0.4858 - accuracy: 0.4858 - val_loss: 2.2781 - val_sparse_categorical_accuracy: 0.3176 - val_accuracy: 0.3176\n",
      "Epoch 314/500\n",
      "15/15 [==============================] - 0s 6ms/step - loss: 1.1125 - sparse_categorical_accuracy: 0.4873 - accuracy: 0.4873 - val_loss: 2.1904 - val_sparse_categorical_accuracy: 0.3090 - val_accuracy: 0.3090\n",
      "Epoch 315/500\n",
      "15/15 [==============================] - 0s 5ms/step - loss: 1.0927 - sparse_categorical_accuracy: 0.4915 - accuracy: 0.4915 - val_loss: 2.1775 - val_sparse_categorical_accuracy: 0.3047 - val_accuracy: 0.3047\n",
      "Epoch 316/500\n",
      "15/15 [==============================] - 0s 5ms/step - loss: 1.0580 - sparse_categorical_accuracy: 0.5113 - accuracy: 0.5113 - val_loss: 2.1321 - val_sparse_categorical_accuracy: 0.3004 - val_accuracy: 0.3004\n",
      "Epoch 317/500\n",
      "15/15 [==============================] - 0s 5ms/step - loss: 1.0508 - sparse_categorical_accuracy: 0.5042 - accuracy: 0.5042 - val_loss: 2.3387 - val_sparse_categorical_accuracy: 0.3262 - val_accuracy: 0.3262\n",
      "Epoch 318/500\n",
      "15/15 [==============================] - 0s 5ms/step - loss: 1.0458 - sparse_categorical_accuracy: 0.5099 - accuracy: 0.5099 - val_loss: 2.2139 - val_sparse_categorical_accuracy: 0.3004 - val_accuracy: 0.3004\n",
      "Epoch 319/500\n",
      "15/15 [==============================] - 0s 5ms/step - loss: 1.0342 - sparse_categorical_accuracy: 0.5057 - accuracy: 0.5057 - val_loss: 2.2582 - val_sparse_categorical_accuracy: 0.3090 - val_accuracy: 0.3090\n",
      "Epoch 320/500\n",
      "15/15 [==============================] - 0s 5ms/step - loss: 1.0140 - sparse_categorical_accuracy: 0.5142 - accuracy: 0.5142 - val_loss: 2.4028 - val_sparse_categorical_accuracy: 0.3047 - val_accuracy: 0.3047\n",
      "Epoch 321/500\n",
      "15/15 [==============================] - 0s 5ms/step - loss: 1.0085 - sparse_categorical_accuracy: 0.5241 - accuracy: 0.5241 - val_loss: 2.3762 - val_sparse_categorical_accuracy: 0.3176 - val_accuracy: 0.3176\n",
      "Epoch 322/500\n",
      "15/15 [==============================] - 0s 5ms/step - loss: 1.0220 - sparse_categorical_accuracy: 0.5099 - accuracy: 0.5099 - val_loss: 2.5327 - val_sparse_categorical_accuracy: 0.3004 - val_accuracy: 0.3004\n",
      "Epoch 323/500\n",
      "15/15 [==============================] - 0s 6ms/step - loss: 1.0455 - sparse_categorical_accuracy: 0.5085 - accuracy: 0.5085 - val_loss: 2.4709 - val_sparse_categorical_accuracy: 0.3090 - val_accuracy: 0.3090\n",
      "Epoch 324/500\n",
      "15/15 [==============================] - 0s 5ms/step - loss: 1.0369 - sparse_categorical_accuracy: 0.5113 - accuracy: 0.5113 - val_loss: 2.4042 - val_sparse_categorical_accuracy: 0.2833 - val_accuracy: 0.2833\n",
      "Epoch 325/500\n",
      "15/15 [==============================] - 0s 5ms/step - loss: 1.0266 - sparse_categorical_accuracy: 0.5099 - accuracy: 0.5099 - val_loss: 2.4204 - val_sparse_categorical_accuracy: 0.3219 - val_accuracy: 0.3219\n",
      "Epoch 326/500\n",
      "15/15 [==============================] - 0s 5ms/step - loss: 1.0132 - sparse_categorical_accuracy: 0.5184 - accuracy: 0.5184 - val_loss: 2.6349 - val_sparse_categorical_accuracy: 0.3133 - val_accuracy: 0.3133\n",
      "Epoch 327/500\n",
      "15/15 [==============================] - 0s 5ms/step - loss: 1.0366 - sparse_categorical_accuracy: 0.4958 - accuracy: 0.4958 - val_loss: 2.4770 - val_sparse_categorical_accuracy: 0.2833 - val_accuracy: 0.2833\n",
      "Epoch 328/500\n",
      "15/15 [==============================] - 0s 5ms/step - loss: 1.0239 - sparse_categorical_accuracy: 0.5127 - accuracy: 0.5127 - val_loss: 2.3945 - val_sparse_categorical_accuracy: 0.3176 - val_accuracy: 0.3176\n",
      "Epoch 329/500\n",
      "15/15 [==============================] - 0s 5ms/step - loss: 1.0221 - sparse_categorical_accuracy: 0.5212 - accuracy: 0.5212 - val_loss: 2.6117 - val_sparse_categorical_accuracy: 0.2833 - val_accuracy: 0.2833\n",
      "Epoch 330/500\n",
      "15/15 [==============================] - 0s 5ms/step - loss: 1.0351 - sparse_categorical_accuracy: 0.5227 - accuracy: 0.5227 - val_loss: 2.3907 - val_sparse_categorical_accuracy: 0.2747 - val_accuracy: 0.2747\n",
      "Epoch 331/500\n",
      "15/15 [==============================] - 0s 5ms/step - loss: 1.0520 - sparse_categorical_accuracy: 0.5014 - accuracy: 0.5014 - val_loss: 2.4216 - val_sparse_categorical_accuracy: 0.2961 - val_accuracy: 0.2961\n",
      "Epoch 332/500\n",
      "15/15 [==============================] - 0s 5ms/step - loss: 1.0676 - sparse_categorical_accuracy: 0.5198 - accuracy: 0.5198 - val_loss: 2.3453 - val_sparse_categorical_accuracy: 0.3219 - val_accuracy: 0.3219\n",
      "Epoch 333/500\n",
      "15/15 [==============================] - 0s 5ms/step - loss: 1.0357 - sparse_categorical_accuracy: 0.5198 - accuracy: 0.5198 - val_loss: 2.5117 - val_sparse_categorical_accuracy: 0.3219 - val_accuracy: 0.3219\n",
      "Epoch 334/500\n",
      "15/15 [==============================] - 0s 5ms/step - loss: 1.0391 - sparse_categorical_accuracy: 0.5057 - accuracy: 0.5057 - val_loss: 2.4078 - val_sparse_categorical_accuracy: 0.2876 - val_accuracy: 0.2876\n",
      "Epoch 335/500\n",
      "15/15 [==============================] - 0s 5ms/step - loss: 1.0379 - sparse_categorical_accuracy: 0.5071 - accuracy: 0.5071 - val_loss: 2.4355 - val_sparse_categorical_accuracy: 0.3262 - val_accuracy: 0.3262\n",
      "Epoch 336/500\n",
      "15/15 [==============================] - 0s 7ms/step - loss: 1.0295 - sparse_categorical_accuracy: 0.5227 - accuracy: 0.5227 - val_loss: 2.3739 - val_sparse_categorical_accuracy: 0.2833 - val_accuracy: 0.2833\n",
      "Epoch 337/500\n",
      "15/15 [==============================] - 0s 5ms/step - loss: 1.0112 - sparse_categorical_accuracy: 0.5099 - accuracy: 0.5099 - val_loss: 2.5094 - val_sparse_categorical_accuracy: 0.3047 - val_accuracy: 0.3047\n",
      "Epoch 338/500\n",
      "15/15 [==============================] - 0s 5ms/step - loss: 1.0099 - sparse_categorical_accuracy: 0.5312 - accuracy: 0.5312 - val_loss: 2.5515 - val_sparse_categorical_accuracy: 0.3176 - val_accuracy: 0.3176\n",
      "Epoch 339/500\n",
      "15/15 [==============================] - 0s 5ms/step - loss: 1.0437 - sparse_categorical_accuracy: 0.5099 - accuracy: 0.5099 - val_loss: 2.4483 - val_sparse_categorical_accuracy: 0.2961 - val_accuracy: 0.2961\n",
      "Epoch 340/500\n",
      "15/15 [==============================] - 0s 5ms/step - loss: 1.0712 - sparse_categorical_accuracy: 0.5085 - accuracy: 0.5085 - val_loss: 2.3714 - val_sparse_categorical_accuracy: 0.3090 - val_accuracy: 0.3090\n",
      "Epoch 341/500\n",
      "15/15 [==============================] - 0s 5ms/step - loss: 1.0320 - sparse_categorical_accuracy: 0.5113 - accuracy: 0.5113 - val_loss: 2.3922 - val_sparse_categorical_accuracy: 0.3047 - val_accuracy: 0.3047\n",
      "Epoch 342/500\n",
      "15/15 [==============================] - 0s 5ms/step - loss: 1.0163 - sparse_categorical_accuracy: 0.5312 - accuracy: 0.5312 - val_loss: 2.4764 - val_sparse_categorical_accuracy: 0.3133 - val_accuracy: 0.3133\n",
      "Epoch 343/500\n",
      "15/15 [==============================] - 0s 5ms/step - loss: 1.0087 - sparse_categorical_accuracy: 0.5127 - accuracy: 0.5127 - val_loss: 2.4460 - val_sparse_categorical_accuracy: 0.3133 - val_accuracy: 0.3133\n",
      "Epoch 344/500\n",
      "15/15 [==============================] - 0s 5ms/step - loss: 1.0194 - sparse_categorical_accuracy: 0.5127 - accuracy: 0.5127 - val_loss: 2.4998 - val_sparse_categorical_accuracy: 0.3133 - val_accuracy: 0.3133\n",
      "Epoch 345/500\n",
      "15/15 [==============================] - 0s 5ms/step - loss: 1.0315 - sparse_categorical_accuracy: 0.5099 - accuracy: 0.5099 - val_loss: 2.6147 - val_sparse_categorical_accuracy: 0.2618 - val_accuracy: 0.2618\n",
      "Epoch 346/500\n",
      "15/15 [==============================] - 0s 5ms/step - loss: 1.0416 - sparse_categorical_accuracy: 0.5113 - accuracy: 0.5113 - val_loss: 2.5139 - val_sparse_categorical_accuracy: 0.2747 - val_accuracy: 0.2747\n",
      "Epoch 347/500\n",
      "15/15 [==============================] - 0s 5ms/step - loss: 1.0373 - sparse_categorical_accuracy: 0.5269 - accuracy: 0.5269 - val_loss: 2.4617 - val_sparse_categorical_accuracy: 0.3305 - val_accuracy: 0.3305\n",
      "Epoch 348/500\n",
      "15/15 [==============================] - 0s 5ms/step - loss: 1.0912 - sparse_categorical_accuracy: 0.5057 - accuracy: 0.5057 - val_loss: 2.4201 - val_sparse_categorical_accuracy: 0.2961 - val_accuracy: 0.2961\n",
      "Epoch 349/500\n",
      "15/15 [==============================] - 0s 5ms/step - loss: 1.1510 - sparse_categorical_accuracy: 0.4844 - accuracy: 0.4844 - val_loss: 2.3017 - val_sparse_categorical_accuracy: 0.2876 - val_accuracy: 0.2876\n",
      "Epoch 350/500\n",
      "15/15 [==============================] - 0s 5ms/step - loss: 1.1093 - sparse_categorical_accuracy: 0.4915 - accuracy: 0.4915 - val_loss: 2.2679 - val_sparse_categorical_accuracy: 0.2961 - val_accuracy: 0.2961\n",
      "Epoch 351/500\n",
      "15/15 [==============================] - 0s 5ms/step - loss: 1.0632 - sparse_categorical_accuracy: 0.4958 - accuracy: 0.4958 - val_loss: 2.1596 - val_sparse_categorical_accuracy: 0.3090 - val_accuracy: 0.3090\n",
      "Epoch 352/500\n",
      "15/15 [==============================] - 0s 5ms/step - loss: 1.0652 - sparse_categorical_accuracy: 0.5142 - accuracy: 0.5142 - val_loss: 2.3213 - val_sparse_categorical_accuracy: 0.3004 - val_accuracy: 0.3004\n",
      "Epoch 353/500\n",
      "15/15 [==============================] - 0s 5ms/step - loss: 1.0352 - sparse_categorical_accuracy: 0.5099 - accuracy: 0.5099 - val_loss: 2.3299 - val_sparse_categorical_accuracy: 0.2918 - val_accuracy: 0.2918\n",
      "Epoch 354/500\n",
      "15/15 [==============================] - 0s 5ms/step - loss: 1.0012 - sparse_categorical_accuracy: 0.5198 - accuracy: 0.5198 - val_loss: 2.3649 - val_sparse_categorical_accuracy: 0.3133 - val_accuracy: 0.3133\n",
      "Epoch 355/500\n",
      "15/15 [==============================] - 0s 5ms/step - loss: 1.0059 - sparse_categorical_accuracy: 0.5340 - accuracy: 0.5340 - val_loss: 2.4130 - val_sparse_categorical_accuracy: 0.2918 - val_accuracy: 0.2918\n",
      "Epoch 356/500\n",
      "15/15 [==============================] - 0s 5ms/step - loss: 1.0037 - sparse_categorical_accuracy: 0.5198 - accuracy: 0.5198 - val_loss: 2.4563 - val_sparse_categorical_accuracy: 0.2833 - val_accuracy: 0.2833\n",
      "Epoch 357/500\n",
      "15/15 [==============================] - 0s 5ms/step - loss: 1.0013 - sparse_categorical_accuracy: 0.5382 - accuracy: 0.5382 - val_loss: 2.6473 - val_sparse_categorical_accuracy: 0.2961 - val_accuracy: 0.2961\n",
      "Epoch 358/500\n",
      "15/15 [==============================] - 0s 5ms/step - loss: 1.0044 - sparse_categorical_accuracy: 0.5312 - accuracy: 0.5312 - val_loss: 2.5570 - val_sparse_categorical_accuracy: 0.2961 - val_accuracy: 0.2961\n",
      "Epoch 359/500\n",
      "15/15 [==============================] - 0s 5ms/step - loss: 1.0072 - sparse_categorical_accuracy: 0.5212 - accuracy: 0.5212 - val_loss: 2.6496 - val_sparse_categorical_accuracy: 0.3047 - val_accuracy: 0.3047\n",
      "Epoch 360/500\n",
      "15/15 [==============================] - 0s 5ms/step - loss: 1.0044 - sparse_categorical_accuracy: 0.5439 - accuracy: 0.5439 - val_loss: 2.5724 - val_sparse_categorical_accuracy: 0.3004 - val_accuracy: 0.3004\n",
      "Epoch 361/500\n",
      "15/15 [==============================] - 0s 6ms/step - loss: 1.0027 - sparse_categorical_accuracy: 0.5212 - accuracy: 0.5212 - val_loss: 2.5559 - val_sparse_categorical_accuracy: 0.3176 - val_accuracy: 0.3176\n",
      "Epoch 362/500\n",
      "15/15 [==============================] - 0s 5ms/step - loss: 0.9910 - sparse_categorical_accuracy: 0.5269 - accuracy: 0.5269 - val_loss: 2.5837 - val_sparse_categorical_accuracy: 0.3047 - val_accuracy: 0.3047\n",
      "Epoch 363/500\n",
      "15/15 [==============================] - 0s 5ms/step - loss: 1.0186 - sparse_categorical_accuracy: 0.5071 - accuracy: 0.5071 - val_loss: 2.5109 - val_sparse_categorical_accuracy: 0.3090 - val_accuracy: 0.3090\n",
      "Epoch 364/500\n",
      "15/15 [==============================] - 0s 5ms/step - loss: 1.0242 - sparse_categorical_accuracy: 0.5227 - accuracy: 0.5227 - val_loss: 2.4996 - val_sparse_categorical_accuracy: 0.3047 - val_accuracy: 0.3047\n",
      "Epoch 365/500\n",
      "15/15 [==============================] - 0s 5ms/step - loss: 1.0026 - sparse_categorical_accuracy: 0.5340 - accuracy: 0.5340 - val_loss: 2.6415 - val_sparse_categorical_accuracy: 0.3433 - val_accuracy: 0.3433\n",
      "Epoch 366/500\n",
      "15/15 [==============================] - 0s 5ms/step - loss: 0.9893 - sparse_categorical_accuracy: 0.5113 - accuracy: 0.5113 - val_loss: 2.6346 - val_sparse_categorical_accuracy: 0.2961 - val_accuracy: 0.2961\n",
      "Epoch 367/500\n",
      "15/15 [==============================] - 0s 5ms/step - loss: 0.9941 - sparse_categorical_accuracy: 0.5212 - accuracy: 0.5212 - val_loss: 2.5801 - val_sparse_categorical_accuracy: 0.3133 - val_accuracy: 0.3133\n",
      "Epoch 368/500\n",
      "15/15 [==============================] - 0s 5ms/step - loss: 1.0566 - sparse_categorical_accuracy: 0.5099 - accuracy: 0.5099 - val_loss: 2.6338 - val_sparse_categorical_accuracy: 0.2918 - val_accuracy: 0.2918\n",
      "Epoch 369/500\n",
      "15/15 [==============================] - 0s 5ms/step - loss: 1.0316 - sparse_categorical_accuracy: 0.5184 - accuracy: 0.5184 - val_loss: 2.4751 - val_sparse_categorical_accuracy: 0.3219 - val_accuracy: 0.3219\n",
      "Epoch 370/500\n",
      "15/15 [==============================] - 0s 5ms/step - loss: 1.0033 - sparse_categorical_accuracy: 0.5411 - accuracy: 0.5411 - val_loss: 2.5837 - val_sparse_categorical_accuracy: 0.3262 - val_accuracy: 0.3262\n",
      "Epoch 371/500\n",
      "15/15 [==============================] - 0s 5ms/step - loss: 0.9822 - sparse_categorical_accuracy: 0.5439 - accuracy: 0.5439 - val_loss: 2.6362 - val_sparse_categorical_accuracy: 0.3090 - val_accuracy: 0.3090\n",
      "Epoch 372/500\n",
      "15/15 [==============================] - 0s 5ms/step - loss: 0.9951 - sparse_categorical_accuracy: 0.5453 - accuracy: 0.5453 - val_loss: 2.6590 - val_sparse_categorical_accuracy: 0.2918 - val_accuracy: 0.2918\n",
      "Epoch 373/500\n",
      "15/15 [==============================] - 0s 5ms/step - loss: 0.9869 - sparse_categorical_accuracy: 0.5425 - accuracy: 0.5425 - val_loss: 2.6200 - val_sparse_categorical_accuracy: 0.3176 - val_accuracy: 0.3176\n",
      "Epoch 374/500\n",
      "15/15 [==============================] - 0s 5ms/step - loss: 1.0196 - sparse_categorical_accuracy: 0.5269 - accuracy: 0.5269 - val_loss: 2.6628 - val_sparse_categorical_accuracy: 0.2918 - val_accuracy: 0.2918\n",
      "Epoch 375/500\n",
      "15/15 [==============================] - 0s 5ms/step - loss: 1.0020 - sparse_categorical_accuracy: 0.5142 - accuracy: 0.5142 - val_loss: 2.5280 - val_sparse_categorical_accuracy: 0.2833 - val_accuracy: 0.2833\n",
      "Epoch 376/500\n",
      "15/15 [==============================] - 0s 5ms/step - loss: 0.9953 - sparse_categorical_accuracy: 0.5283 - accuracy: 0.5283 - val_loss: 2.5159 - val_sparse_categorical_accuracy: 0.2961 - val_accuracy: 0.2961\n",
      "Epoch 377/500\n",
      "15/15 [==============================] - 0s 5ms/step - loss: 0.9905 - sparse_categorical_accuracy: 0.5326 - accuracy: 0.5326 - val_loss: 2.5806 - val_sparse_categorical_accuracy: 0.3090 - val_accuracy: 0.3090\n",
      "Epoch 378/500\n",
      "15/15 [==============================] - 0s 5ms/step - loss: 0.9940 - sparse_categorical_accuracy: 0.5297 - accuracy: 0.5297 - val_loss: 2.5154 - val_sparse_categorical_accuracy: 0.3047 - val_accuracy: 0.3047\n",
      "Epoch 379/500\n",
      "15/15 [==============================] - 0s 5ms/step - loss: 0.9910 - sparse_categorical_accuracy: 0.5297 - accuracy: 0.5297 - val_loss: 2.6724 - val_sparse_categorical_accuracy: 0.3391 - val_accuracy: 0.3391\n",
      "Epoch 380/500\n",
      "15/15 [==============================] - 0s 5ms/step - loss: 0.9670 - sparse_categorical_accuracy: 0.5425 - accuracy: 0.5425 - val_loss: 2.6507 - val_sparse_categorical_accuracy: 0.3133 - val_accuracy: 0.3133\n",
      "Epoch 381/500\n",
      "15/15 [==============================] - 0s 5ms/step - loss: 0.9760 - sparse_categorical_accuracy: 0.5411 - accuracy: 0.5411 - val_loss: 2.6410 - val_sparse_categorical_accuracy: 0.3262 - val_accuracy: 0.3262\n",
      "Epoch 382/500\n",
      "15/15 [==============================] - 0s 5ms/step - loss: 0.9837 - sparse_categorical_accuracy: 0.5326 - accuracy: 0.5326 - val_loss: 2.7449 - val_sparse_categorical_accuracy: 0.3262 - val_accuracy: 0.3262\n",
      "Epoch 383/500\n",
      "15/15 [==============================] - 0s 5ms/step - loss: 0.9825 - sparse_categorical_accuracy: 0.5425 - accuracy: 0.5425 - val_loss: 2.7495 - val_sparse_categorical_accuracy: 0.3047 - val_accuracy: 0.3047\n",
      "Epoch 384/500\n",
      "15/15 [==============================] - 0s 6ms/step - loss: 1.0424 - sparse_categorical_accuracy: 0.5099 - accuracy: 0.5099 - val_loss: 2.6838 - val_sparse_categorical_accuracy: 0.3219 - val_accuracy: 0.3219\n",
      "Epoch 385/500\n",
      "15/15 [==============================] - 0s 5ms/step - loss: 1.0290 - sparse_categorical_accuracy: 0.5142 - accuracy: 0.5142 - val_loss: 2.4776 - val_sparse_categorical_accuracy: 0.3176 - val_accuracy: 0.3176\n",
      "Epoch 386/500\n",
      "15/15 [==============================] - 0s 5ms/step - loss: 1.0135 - sparse_categorical_accuracy: 0.5227 - accuracy: 0.5227 - val_loss: 2.6287 - val_sparse_categorical_accuracy: 0.3004 - val_accuracy: 0.3004\n",
      "Epoch 387/500\n",
      "15/15 [==============================] - 0s 5ms/step - loss: 1.0254 - sparse_categorical_accuracy: 0.5326 - accuracy: 0.5326 - val_loss: 2.6809 - val_sparse_categorical_accuracy: 0.3090 - val_accuracy: 0.3090\n",
      "Epoch 388/500\n",
      "15/15 [==============================] - 0s 5ms/step - loss: 0.9896 - sparse_categorical_accuracy: 0.5297 - accuracy: 0.5297 - val_loss: 2.7905 - val_sparse_categorical_accuracy: 0.3262 - val_accuracy: 0.3262\n",
      "Epoch 389/500\n",
      "15/15 [==============================] - 0s 5ms/step - loss: 1.0077 - sparse_categorical_accuracy: 0.5269 - accuracy: 0.5269 - val_loss: 2.6475 - val_sparse_categorical_accuracy: 0.3133 - val_accuracy: 0.3133\n",
      "Epoch 390/500\n",
      "15/15 [==============================] - 0s 6ms/step - loss: 1.0149 - sparse_categorical_accuracy: 0.5368 - accuracy: 0.5368 - val_loss: 2.6688 - val_sparse_categorical_accuracy: 0.3047 - val_accuracy: 0.3047\n",
      "Epoch 391/500\n",
      "15/15 [==============================] - 0s 5ms/step - loss: 1.0160 - sparse_categorical_accuracy: 0.5269 - accuracy: 0.5269 - val_loss: 2.6379 - val_sparse_categorical_accuracy: 0.3047 - val_accuracy: 0.3047\n",
      "Epoch 392/500\n",
      "15/15 [==============================] - 0s 5ms/step - loss: 0.9936 - sparse_categorical_accuracy: 0.5467 - accuracy: 0.5467 - val_loss: 2.6836 - val_sparse_categorical_accuracy: 0.3176 - val_accuracy: 0.3176\n",
      "Epoch 393/500\n",
      "15/15 [==============================] - 0s 5ms/step - loss: 0.9783 - sparse_categorical_accuracy: 0.5411 - accuracy: 0.5411 - val_loss: 2.5653 - val_sparse_categorical_accuracy: 0.2961 - val_accuracy: 0.2961\n",
      "Epoch 394/500\n",
      "15/15 [==============================] - 0s 5ms/step - loss: 0.9906 - sparse_categorical_accuracy: 0.5411 - accuracy: 0.5411 - val_loss: 2.5155 - val_sparse_categorical_accuracy: 0.2961 - val_accuracy: 0.2961\n",
      "Epoch 395/500\n",
      "15/15 [==============================] - 0s 5ms/step - loss: 0.9869 - sparse_categorical_accuracy: 0.5467 - accuracy: 0.5467 - val_loss: 2.7227 - val_sparse_categorical_accuracy: 0.3047 - val_accuracy: 0.3047\n",
      "Epoch 396/500\n",
      "15/15 [==============================] - 0s 5ms/step - loss: 0.9726 - sparse_categorical_accuracy: 0.5524 - accuracy: 0.5524 - val_loss: 2.6338 - val_sparse_categorical_accuracy: 0.3176 - val_accuracy: 0.3176\n",
      "Epoch 397/500\n",
      "15/15 [==============================] - 0s 5ms/step - loss: 0.9605 - sparse_categorical_accuracy: 0.5510 - accuracy: 0.5510 - val_loss: 2.7828 - val_sparse_categorical_accuracy: 0.3305 - val_accuracy: 0.3305\n",
      "Epoch 398/500\n",
      "15/15 [==============================] - 0s 5ms/step - loss: 0.9471 - sparse_categorical_accuracy: 0.5496 - accuracy: 0.5496 - val_loss: 2.7593 - val_sparse_categorical_accuracy: 0.3004 - val_accuracy: 0.3004\n",
      "Epoch 399/500\n",
      "15/15 [==============================] - 0s 5ms/step - loss: 0.9798 - sparse_categorical_accuracy: 0.5439 - accuracy: 0.5439 - val_loss: 2.7978 - val_sparse_categorical_accuracy: 0.3090 - val_accuracy: 0.3090\n",
      "Epoch 400/500\n",
      "15/15 [==============================] - 0s 5ms/step - loss: 0.9491 - sparse_categorical_accuracy: 0.5482 - accuracy: 0.5482 - val_loss: 2.7564 - val_sparse_categorical_accuracy: 0.3133 - val_accuracy: 0.3133\n",
      "Epoch 401/500\n",
      "15/15 [==============================] - 0s 5ms/step - loss: 0.9978 - sparse_categorical_accuracy: 0.5312 - accuracy: 0.5312 - val_loss: 2.8726 - val_sparse_categorical_accuracy: 0.3262 - val_accuracy: 0.3262\n",
      "Epoch 402/500\n",
      "15/15 [==============================] - 0s 6ms/step - loss: 0.9914 - sparse_categorical_accuracy: 0.5524 - accuracy: 0.5524 - val_loss: 2.7560 - val_sparse_categorical_accuracy: 0.3133 - val_accuracy: 0.3133\n",
      "Epoch 403/500\n",
      "15/15 [==============================] - 0s 5ms/step - loss: 1.0242 - sparse_categorical_accuracy: 0.5326 - accuracy: 0.5326 - val_loss: 2.7494 - val_sparse_categorical_accuracy: 0.2876 - val_accuracy: 0.2876\n",
      "Epoch 404/500\n",
      "15/15 [==============================] - 0s 5ms/step - loss: 0.9632 - sparse_categorical_accuracy: 0.5439 - accuracy: 0.5439 - val_loss: 2.7368 - val_sparse_categorical_accuracy: 0.3004 - val_accuracy: 0.3004\n",
      "Epoch 405/500\n",
      "15/15 [==============================] - 0s 5ms/step - loss: 0.9624 - sparse_categorical_accuracy: 0.5467 - accuracy: 0.5467 - val_loss: 2.7579 - val_sparse_categorical_accuracy: 0.3004 - val_accuracy: 0.3004\n",
      "Epoch 406/500\n",
      "15/15 [==============================] - 0s 5ms/step - loss: 0.9405 - sparse_categorical_accuracy: 0.5666 - accuracy: 0.5666 - val_loss: 2.8902 - val_sparse_categorical_accuracy: 0.3004 - val_accuracy: 0.3004\n",
      "Epoch 407/500\n",
      "15/15 [==============================] - 0s 5ms/step - loss: 0.9518 - sparse_categorical_accuracy: 0.5439 - accuracy: 0.5439 - val_loss: 2.7962 - val_sparse_categorical_accuracy: 0.3133 - val_accuracy: 0.3133\n",
      "Epoch 408/500\n",
      "15/15 [==============================] - 0s 5ms/step - loss: 0.9525 - sparse_categorical_accuracy: 0.5397 - accuracy: 0.5397 - val_loss: 2.8323 - val_sparse_categorical_accuracy: 0.2833 - val_accuracy: 0.2833\n",
      "Epoch 409/500\n",
      "15/15 [==============================] - 0s 5ms/step - loss: 0.9887 - sparse_categorical_accuracy: 0.5326 - accuracy: 0.5326 - val_loss: 2.8371 - val_sparse_categorical_accuracy: 0.3047 - val_accuracy: 0.3047\n",
      "Epoch 410/500\n",
      "15/15 [==============================] - 0s 5ms/step - loss: 0.9938 - sparse_categorical_accuracy: 0.5255 - accuracy: 0.5255 - val_loss: 2.6890 - val_sparse_categorical_accuracy: 0.2876 - val_accuracy: 0.2876\n",
      "Epoch 411/500\n",
      "15/15 [==============================] - 0s 5ms/step - loss: 0.9947 - sparse_categorical_accuracy: 0.5439 - accuracy: 0.5439 - val_loss: 2.7949 - val_sparse_categorical_accuracy: 0.3004 - val_accuracy: 0.3004\n",
      "Epoch 412/500\n",
      "15/15 [==============================] - 0s 5ms/step - loss: 0.9878 - sparse_categorical_accuracy: 0.5453 - accuracy: 0.5453 - val_loss: 2.6324 - val_sparse_categorical_accuracy: 0.3348 - val_accuracy: 0.3348\n",
      "Epoch 413/500\n",
      "15/15 [==============================] - 0s 5ms/step - loss: 0.9801 - sparse_categorical_accuracy: 0.5453 - accuracy: 0.5453 - val_loss: 2.7069 - val_sparse_categorical_accuracy: 0.3090 - val_accuracy: 0.3090\n",
      "Epoch 414/500\n",
      "15/15 [==============================] - 0s 5ms/step - loss: 0.9687 - sparse_categorical_accuracy: 0.5637 - accuracy: 0.5637 - val_loss: 2.8082 - val_sparse_categorical_accuracy: 0.3305 - val_accuracy: 0.3305\n",
      "Epoch 415/500\n",
      "15/15 [==============================] - 0s 6ms/step - loss: 0.9683 - sparse_categorical_accuracy: 0.5510 - accuracy: 0.5510 - val_loss: 2.7081 - val_sparse_categorical_accuracy: 0.3262 - val_accuracy: 0.3262\n",
      "Epoch 416/500\n",
      "15/15 [==============================] - 0s 5ms/step - loss: 0.9717 - sparse_categorical_accuracy: 0.5439 - accuracy: 0.5439 - val_loss: 2.8211 - val_sparse_categorical_accuracy: 0.2918 - val_accuracy: 0.2918\n",
      "Epoch 417/500\n",
      "15/15 [==============================] - 0s 6ms/step - loss: 0.9838 - sparse_categorical_accuracy: 0.5312 - accuracy: 0.5312 - val_loss: 2.6968 - val_sparse_categorical_accuracy: 0.3047 - val_accuracy: 0.3047\n",
      "Epoch 418/500\n",
      "15/15 [==============================] - 0s 5ms/step - loss: 1.0030 - sparse_categorical_accuracy: 0.5354 - accuracy: 0.5354 - val_loss: 2.7186 - val_sparse_categorical_accuracy: 0.2790 - val_accuracy: 0.2790\n",
      "Epoch 419/500\n",
      "15/15 [==============================] - 0s 6ms/step - loss: 1.0111 - sparse_categorical_accuracy: 0.5326 - accuracy: 0.5326 - val_loss: 2.6195 - val_sparse_categorical_accuracy: 0.3262 - val_accuracy: 0.3262\n",
      "Epoch 420/500\n",
      "15/15 [==============================] - 0s 5ms/step - loss: 1.0061 - sparse_categorical_accuracy: 0.5184 - accuracy: 0.5184 - val_loss: 2.6961 - val_sparse_categorical_accuracy: 0.3133 - val_accuracy: 0.3133\n",
      "Epoch 421/500\n",
      "15/15 [==============================] - 0s 5ms/step - loss: 1.0334 - sparse_categorical_accuracy: 0.5255 - accuracy: 0.5255 - val_loss: 2.5614 - val_sparse_categorical_accuracy: 0.3219 - val_accuracy: 0.3219\n",
      "Epoch 422/500\n",
      "15/15 [==============================] - 0s 5ms/step - loss: 1.0135 - sparse_categorical_accuracy: 0.5170 - accuracy: 0.5170 - val_loss: 2.5080 - val_sparse_categorical_accuracy: 0.2747 - val_accuracy: 0.2747\n",
      "Epoch 423/500\n",
      "15/15 [==============================] - 0s 5ms/step - loss: 1.0123 - sparse_categorical_accuracy: 0.5354 - accuracy: 0.5354 - val_loss: 2.5550 - val_sparse_categorical_accuracy: 0.2833 - val_accuracy: 0.2833\n",
      "Epoch 424/500\n",
      "15/15 [==============================] - 0s 5ms/step - loss: 1.0521 - sparse_categorical_accuracy: 0.5071 - accuracy: 0.5071 - val_loss: 2.4926 - val_sparse_categorical_accuracy: 0.3219 - val_accuracy: 0.3219\n",
      "Epoch 425/500\n",
      "15/15 [==============================] - 0s 5ms/step - loss: 0.9853 - sparse_categorical_accuracy: 0.5312 - accuracy: 0.5312 - val_loss: 2.6134 - val_sparse_categorical_accuracy: 0.3219 - val_accuracy: 0.3219\n",
      "Epoch 426/500\n",
      "15/15 [==============================] - 0s 5ms/step - loss: 0.9550 - sparse_categorical_accuracy: 0.5609 - accuracy: 0.5609 - val_loss: 2.7221 - val_sparse_categorical_accuracy: 0.3176 - val_accuracy: 0.3176\n",
      "Epoch 427/500\n",
      "15/15 [==============================] - 0s 5ms/step - loss: 0.9480 - sparse_categorical_accuracy: 0.5538 - accuracy: 0.5538 - val_loss: 2.7332 - val_sparse_categorical_accuracy: 0.3133 - val_accuracy: 0.3133\n",
      "Epoch 428/500\n",
      "15/15 [==============================] - 0s 5ms/step - loss: 0.9363 - sparse_categorical_accuracy: 0.5652 - accuracy: 0.5652 - val_loss: 2.7822 - val_sparse_categorical_accuracy: 0.3047 - val_accuracy: 0.3047\n",
      "Epoch 429/500\n",
      "15/15 [==============================] - 0s 5ms/step - loss: 0.9386 - sparse_categorical_accuracy: 0.5666 - accuracy: 0.5666 - val_loss: 2.8408 - val_sparse_categorical_accuracy: 0.2918 - val_accuracy: 0.2918\n",
      "Epoch 430/500\n",
      "15/15 [==============================] - 0s 5ms/step - loss: 0.9428 - sparse_categorical_accuracy: 0.5694 - accuracy: 0.5694 - val_loss: 2.7263 - val_sparse_categorical_accuracy: 0.3176 - val_accuracy: 0.3176\n",
      "Epoch 431/500\n",
      "15/15 [==============================] - 0s 5ms/step - loss: 0.9335 - sparse_categorical_accuracy: 0.5666 - accuracy: 0.5666 - val_loss: 2.8347 - val_sparse_categorical_accuracy: 0.3348 - val_accuracy: 0.3348\n",
      "Epoch 432/500\n",
      "15/15 [==============================] - 0s 5ms/step - loss: 0.9610 - sparse_categorical_accuracy: 0.5524 - accuracy: 0.5524 - val_loss: 2.8058 - val_sparse_categorical_accuracy: 0.3262 - val_accuracy: 0.3262\n",
      "Epoch 433/500\n",
      "15/15 [==============================] - 0s 5ms/step - loss: 0.9483 - sparse_categorical_accuracy: 0.5637 - accuracy: 0.5637 - val_loss: 2.9214 - val_sparse_categorical_accuracy: 0.3047 - val_accuracy: 0.3047\n",
      "Epoch 434/500\n",
      "15/15 [==============================] - 0s 5ms/step - loss: 0.9778 - sparse_categorical_accuracy: 0.5439 - accuracy: 0.5439 - val_loss: 2.8023 - val_sparse_categorical_accuracy: 0.3004 - val_accuracy: 0.3004\n",
      "Epoch 435/500\n",
      "15/15 [==============================] - 0s 6ms/step - loss: 0.9680 - sparse_categorical_accuracy: 0.5439 - accuracy: 0.5439 - val_loss: 2.8363 - val_sparse_categorical_accuracy: 0.2876 - val_accuracy: 0.2876\n",
      "Epoch 436/500\n",
      "15/15 [==============================] - 0s 5ms/step - loss: 0.9745 - sparse_categorical_accuracy: 0.5496 - accuracy: 0.5496 - val_loss: 2.8171 - val_sparse_categorical_accuracy: 0.3004 - val_accuracy: 0.3004\n",
      "Epoch 437/500\n",
      "15/15 [==============================] - 0s 5ms/step - loss: 0.9664 - sparse_categorical_accuracy: 0.5411 - accuracy: 0.5411 - val_loss: 2.8431 - val_sparse_categorical_accuracy: 0.3133 - val_accuracy: 0.3133\n",
      "Epoch 438/500\n",
      "15/15 [==============================] - 0s 5ms/step - loss: 0.9369 - sparse_categorical_accuracy: 0.5708 - accuracy: 0.5708 - val_loss: 2.8698 - val_sparse_categorical_accuracy: 0.3090 - val_accuracy: 0.3090\n",
      "Epoch 439/500\n",
      "15/15 [==============================] - 0s 5ms/step - loss: 0.9387 - sparse_categorical_accuracy: 0.5510 - accuracy: 0.5510 - val_loss: 2.9541 - val_sparse_categorical_accuracy: 0.3176 - val_accuracy: 0.3176\n",
      "Epoch 440/500\n",
      "15/15 [==============================] - 0s 5ms/step - loss: 0.9405 - sparse_categorical_accuracy: 0.5595 - accuracy: 0.5595 - val_loss: 2.9634 - val_sparse_categorical_accuracy: 0.3004 - val_accuracy: 0.3004\n",
      "Epoch 441/500\n",
      "15/15 [==============================] - 0s 5ms/step - loss: 0.9869 - sparse_categorical_accuracy: 0.5467 - accuracy: 0.5467 - val_loss: 2.7968 - val_sparse_categorical_accuracy: 0.3047 - val_accuracy: 0.3047\n",
      "Epoch 442/500\n",
      "15/15 [==============================] - 0s 5ms/step - loss: 0.9926 - sparse_categorical_accuracy: 0.5368 - accuracy: 0.5368 - val_loss: 2.8042 - val_sparse_categorical_accuracy: 0.3133 - val_accuracy: 0.3133\n",
      "Epoch 443/500\n",
      "15/15 [==============================] - 0s 5ms/step - loss: 1.0051 - sparse_categorical_accuracy: 0.5057 - accuracy: 0.5057 - val_loss: 2.7682 - val_sparse_categorical_accuracy: 0.3176 - val_accuracy: 0.3176\n",
      "Epoch 444/500\n",
      "15/15 [==============================] - 0s 5ms/step - loss: 0.9716 - sparse_categorical_accuracy: 0.5510 - accuracy: 0.5510 - val_loss: 2.8474 - val_sparse_categorical_accuracy: 0.3219 - val_accuracy: 0.3219\n",
      "Epoch 445/500\n",
      "15/15 [==============================] - 0s 5ms/step - loss: 0.9553 - sparse_categorical_accuracy: 0.5453 - accuracy: 0.5453 - val_loss: 2.8298 - val_sparse_categorical_accuracy: 0.3133 - val_accuracy: 0.3133\n",
      "Epoch 446/500\n",
      "15/15 [==============================] - 0s 5ms/step - loss: 0.9441 - sparse_categorical_accuracy: 0.5581 - accuracy: 0.5581 - val_loss: 2.8970 - val_sparse_categorical_accuracy: 0.3047 - val_accuracy: 0.3047\n",
      "Epoch 447/500\n",
      "15/15 [==============================] - 0s 5ms/step - loss: 0.9301 - sparse_categorical_accuracy: 0.5567 - accuracy: 0.5567 - val_loss: 2.9292 - val_sparse_categorical_accuracy: 0.3219 - val_accuracy: 0.3219\n",
      "Epoch 448/500\n",
      "15/15 [==============================] - 0s 5ms/step - loss: 0.9414 - sparse_categorical_accuracy: 0.5652 - accuracy: 0.5652 - val_loss: 3.0235 - val_sparse_categorical_accuracy: 0.3090 - val_accuracy: 0.3090\n",
      "Epoch 449/500\n",
      "15/15 [==============================] - 0s 5ms/step - loss: 0.9340 - sparse_categorical_accuracy: 0.5751 - accuracy: 0.5751 - val_loss: 3.0171 - val_sparse_categorical_accuracy: 0.3219 - val_accuracy: 0.3219\n",
      "Epoch 450/500\n",
      "15/15 [==============================] - 0s 5ms/step - loss: 0.9261 - sparse_categorical_accuracy: 0.5779 - accuracy: 0.5779 - val_loss: 2.9919 - val_sparse_categorical_accuracy: 0.3262 - val_accuracy: 0.3262\n",
      "Epoch 451/500\n",
      "15/15 [==============================] - 0s 6ms/step - loss: 0.9243 - sparse_categorical_accuracy: 0.5467 - accuracy: 0.5467 - val_loss: 3.0195 - val_sparse_categorical_accuracy: 0.3176 - val_accuracy: 0.3176\n",
      "Epoch 452/500\n",
      "15/15 [==============================] - 0s 5ms/step - loss: 0.9208 - sparse_categorical_accuracy: 0.5666 - accuracy: 0.5666 - val_loss: 3.1033 - val_sparse_categorical_accuracy: 0.2961 - val_accuracy: 0.2961\n",
      "Epoch 453/500\n",
      "15/15 [==============================] - 0s 5ms/step - loss: 0.9580 - sparse_categorical_accuracy: 0.5524 - accuracy: 0.5524 - val_loss: 3.1124 - val_sparse_categorical_accuracy: 0.2961 - val_accuracy: 0.2961\n",
      "Epoch 454/500\n",
      "15/15 [==============================] - 0s 4ms/step - loss: 0.9619 - sparse_categorical_accuracy: 0.5368 - accuracy: 0.5368 - val_loss: 3.0083 - val_sparse_categorical_accuracy: 0.3133 - val_accuracy: 0.3133\n",
      "Epoch 455/500\n",
      "15/15 [==============================] - 0s 5ms/step - loss: 0.9476 - sparse_categorical_accuracy: 0.5567 - accuracy: 0.5567 - val_loss: 3.1152 - val_sparse_categorical_accuracy: 0.3262 - val_accuracy: 0.3262\n",
      "Epoch 456/500\n",
      "15/15 [==============================] - 0s 5ms/step - loss: 0.9572 - sparse_categorical_accuracy: 0.5467 - accuracy: 0.5467 - val_loss: 2.9849 - val_sparse_categorical_accuracy: 0.3219 - val_accuracy: 0.3219\n",
      "Epoch 457/500\n",
      "15/15 [==============================] - 0s 5ms/step - loss: 0.9580 - sparse_categorical_accuracy: 0.5453 - accuracy: 0.5453 - val_loss: 3.1292 - val_sparse_categorical_accuracy: 0.3090 - val_accuracy: 0.3090\n",
      "Epoch 458/500\n",
      "15/15 [==============================] - 0s 5ms/step - loss: 0.9342 - sparse_categorical_accuracy: 0.5482 - accuracy: 0.5482 - val_loss: 3.0847 - val_sparse_categorical_accuracy: 0.3262 - val_accuracy: 0.3262\n",
      "Epoch 459/500\n",
      "15/15 [==============================] - 0s 5ms/step - loss: 0.9273 - sparse_categorical_accuracy: 0.5822 - accuracy: 0.5822 - val_loss: 3.0779 - val_sparse_categorical_accuracy: 0.3133 - val_accuracy: 0.3133\n",
      "Epoch 460/500\n",
      "15/15 [==============================] - 0s 5ms/step - loss: 0.9544 - sparse_categorical_accuracy: 0.5439 - accuracy: 0.5439 - val_loss: 3.1140 - val_sparse_categorical_accuracy: 0.3176 - val_accuracy: 0.3176\n",
      "Epoch 461/500\n",
      "15/15 [==============================] - 0s 5ms/step - loss: 0.9747 - sparse_categorical_accuracy: 0.5552 - accuracy: 0.5552 - val_loss: 2.9712 - val_sparse_categorical_accuracy: 0.3004 - val_accuracy: 0.3004\n",
      "Epoch 462/500\n",
      "15/15 [==============================] - 0s 5ms/step - loss: 0.9576 - sparse_categorical_accuracy: 0.5467 - accuracy: 0.5467 - val_loss: 2.9784 - val_sparse_categorical_accuracy: 0.3133 - val_accuracy: 0.3133\n",
      "Epoch 463/500\n",
      "15/15 [==============================] - 0s 5ms/step - loss: 0.9401 - sparse_categorical_accuracy: 0.5637 - accuracy: 0.5637 - val_loss: 2.9247 - val_sparse_categorical_accuracy: 0.2833 - val_accuracy: 0.2833\n",
      "Epoch 464/500\n",
      "15/15 [==============================] - 0s 5ms/step - loss: 0.9146 - sparse_categorical_accuracy: 0.5680 - accuracy: 0.5680 - val_loss: 3.1084 - val_sparse_categorical_accuracy: 0.3090 - val_accuracy: 0.3090\n",
      "Epoch 465/500\n",
      "15/15 [==============================] - 0s 4ms/step - loss: 0.9147 - sparse_categorical_accuracy: 0.5751 - accuracy: 0.5751 - val_loss: 3.0221 - val_sparse_categorical_accuracy: 0.3133 - val_accuracy: 0.3133\n",
      "Epoch 466/500\n",
      "15/15 [==============================] - 0s 4ms/step - loss: 0.9479 - sparse_categorical_accuracy: 0.5609 - accuracy: 0.5609 - val_loss: 3.0476 - val_sparse_categorical_accuracy: 0.3262 - val_accuracy: 0.3262\n",
      "Epoch 467/500\n",
      "15/15 [==============================] - 0s 4ms/step - loss: 0.9199 - sparse_categorical_accuracy: 0.5680 - accuracy: 0.5680 - val_loss: 3.0590 - val_sparse_categorical_accuracy: 0.3176 - val_accuracy: 0.3176\n",
      "Epoch 468/500\n",
      "15/15 [==============================] - 0s 5ms/step - loss: 0.9320 - sparse_categorical_accuracy: 0.5552 - accuracy: 0.5552 - val_loss: 3.1054 - val_sparse_categorical_accuracy: 0.3305 - val_accuracy: 0.3305\n",
      "Epoch 469/500\n",
      "15/15 [==============================] - 0s 5ms/step - loss: 0.9749 - sparse_categorical_accuracy: 0.5269 - accuracy: 0.5269 - val_loss: 3.1493 - val_sparse_categorical_accuracy: 0.2790 - val_accuracy: 0.2790\n",
      "Epoch 470/500\n",
      "15/15 [==============================] - 0s 5ms/step - loss: 0.9706 - sparse_categorical_accuracy: 0.5411 - accuracy: 0.5411 - val_loss: 3.0510 - val_sparse_categorical_accuracy: 0.2833 - val_accuracy: 0.2833\n",
      "Epoch 471/500\n",
      "15/15 [==============================] - 0s 4ms/step - loss: 0.9795 - sparse_categorical_accuracy: 0.5340 - accuracy: 0.5340 - val_loss: 3.0336 - val_sparse_categorical_accuracy: 0.3348 - val_accuracy: 0.3348\n",
      "Epoch 472/500\n",
      "15/15 [==============================] - 0s 5ms/step - loss: 0.9666 - sparse_categorical_accuracy: 0.5496 - accuracy: 0.5496 - val_loss: 2.9041 - val_sparse_categorical_accuracy: 0.3133 - val_accuracy: 0.3133\n",
      "Epoch 473/500\n",
      "15/15 [==============================] - 0s 5ms/step - loss: 0.9776 - sparse_categorical_accuracy: 0.5340 - accuracy: 0.5340 - val_loss: 2.9889 - val_sparse_categorical_accuracy: 0.3090 - val_accuracy: 0.3090\n",
      "Epoch 474/500\n",
      "15/15 [==============================] - 0s 5ms/step - loss: 0.9378 - sparse_categorical_accuracy: 0.5708 - accuracy: 0.5708 - val_loss: 2.9320 - val_sparse_categorical_accuracy: 0.3176 - val_accuracy: 0.3176\n",
      "Epoch 475/500\n",
      "15/15 [==============================] - 0s 5ms/step - loss: 0.9427 - sparse_categorical_accuracy: 0.5482 - accuracy: 0.5482 - val_loss: 2.9915 - val_sparse_categorical_accuracy: 0.3176 - val_accuracy: 0.3176\n",
      "Epoch 476/500\n",
      "15/15 [==============================] - 0s 5ms/step - loss: 0.9185 - sparse_categorical_accuracy: 0.5722 - accuracy: 0.5722 - val_loss: 2.9733 - val_sparse_categorical_accuracy: 0.3219 - val_accuracy: 0.3219\n",
      "Epoch 477/500\n",
      "15/15 [==============================] - 0s 5ms/step - loss: 0.9002 - sparse_categorical_accuracy: 0.5680 - accuracy: 0.5680 - val_loss: 3.1813 - val_sparse_categorical_accuracy: 0.3090 - val_accuracy: 0.3090\n",
      "Epoch 478/500\n",
      "15/15 [==============================] - 0s 5ms/step - loss: 0.8933 - sparse_categorical_accuracy: 0.5623 - accuracy: 0.5623 - val_loss: 3.2199 - val_sparse_categorical_accuracy: 0.3348 - val_accuracy: 0.3348\n",
      "Epoch 479/500\n",
      "15/15 [==============================] - 0s 5ms/step - loss: 0.9225 - sparse_categorical_accuracy: 0.5722 - accuracy: 0.5722 - val_loss: 3.0860 - val_sparse_categorical_accuracy: 0.3047 - val_accuracy: 0.3047\n",
      "Epoch 480/500\n",
      "15/15 [==============================] - 0s 5ms/step - loss: 0.9765 - sparse_categorical_accuracy: 0.5241 - accuracy: 0.5241 - val_loss: 3.0748 - val_sparse_categorical_accuracy: 0.2961 - val_accuracy: 0.2961\n",
      "Epoch 481/500\n",
      "15/15 [==============================] - 0s 5ms/step - loss: 1.0356 - sparse_categorical_accuracy: 0.5340 - accuracy: 0.5340 - val_loss: 2.8940 - val_sparse_categorical_accuracy: 0.2918 - val_accuracy: 0.2918\n",
      "Epoch 482/500\n",
      "15/15 [==============================] - 0s 5ms/step - loss: 1.0153 - sparse_categorical_accuracy: 0.5297 - accuracy: 0.5297 - val_loss: 2.8756 - val_sparse_categorical_accuracy: 0.2961 - val_accuracy: 0.2961\n",
      "Epoch 483/500\n",
      "15/15 [==============================] - 0s 5ms/step - loss: 0.9820 - sparse_categorical_accuracy: 0.5382 - accuracy: 0.5382 - val_loss: 2.7622 - val_sparse_categorical_accuracy: 0.3090 - val_accuracy: 0.3090\n",
      "Epoch 484/500\n",
      "15/15 [==============================] - 0s 5ms/step - loss: 0.9462 - sparse_categorical_accuracy: 0.5552 - accuracy: 0.5552 - val_loss: 2.9329 - val_sparse_categorical_accuracy: 0.2961 - val_accuracy: 0.2961\n",
      "Epoch 485/500\n",
      "15/15 [==============================] - 0s 6ms/step - loss: 0.9123 - sparse_categorical_accuracy: 0.5680 - accuracy: 0.5680 - val_loss: 2.9617 - val_sparse_categorical_accuracy: 0.3133 - val_accuracy: 0.3133\n",
      "Epoch 486/500\n",
      "15/15 [==============================] - 0s 5ms/step - loss: 0.9245 - sparse_categorical_accuracy: 0.5765 - accuracy: 0.5765 - val_loss: 2.9797 - val_sparse_categorical_accuracy: 0.3047 - val_accuracy: 0.3047\n",
      "Epoch 487/500\n",
      "15/15 [==============================] - 0s 5ms/step - loss: 0.9177 - sparse_categorical_accuracy: 0.5637 - accuracy: 0.5637 - val_loss: 3.0007 - val_sparse_categorical_accuracy: 0.3047 - val_accuracy: 0.3047\n",
      "Epoch 488/500\n",
      "15/15 [==============================] - 0s 5ms/step - loss: 0.8956 - sparse_categorical_accuracy: 0.5765 - accuracy: 0.5765 - val_loss: 3.1101 - val_sparse_categorical_accuracy: 0.3090 - val_accuracy: 0.3090\n",
      "Epoch 489/500\n",
      "15/15 [==============================] - 0s 5ms/step - loss: 0.8931 - sparse_categorical_accuracy: 0.5878 - accuracy: 0.5878 - val_loss: 3.1380 - val_sparse_categorical_accuracy: 0.3176 - val_accuracy: 0.3176\n",
      "Epoch 490/500\n",
      "15/15 [==============================] - 0s 5ms/step - loss: 0.8895 - sparse_categorical_accuracy: 0.5708 - accuracy: 0.5708 - val_loss: 3.2108 - val_sparse_categorical_accuracy: 0.3090 - val_accuracy: 0.3090\n",
      "Epoch 491/500\n",
      "15/15 [==============================] - 0s 5ms/step - loss: 0.9177 - sparse_categorical_accuracy: 0.5708 - accuracy: 0.5708 - val_loss: 3.1854 - val_sparse_categorical_accuracy: 0.3004 - val_accuracy: 0.3004\n",
      "Epoch 492/500\n",
      "15/15 [==============================] - 0s 5ms/step - loss: 0.9224 - sparse_categorical_accuracy: 0.5623 - accuracy: 0.5623 - val_loss: 3.2078 - val_sparse_categorical_accuracy: 0.2918 - val_accuracy: 0.2918\n",
      "Epoch 493/500\n",
      "15/15 [==============================] - 0s 5ms/step - loss: 0.9455 - sparse_categorical_accuracy: 0.5694 - accuracy: 0.5694 - val_loss: 3.1606 - val_sparse_categorical_accuracy: 0.3133 - val_accuracy: 0.3133\n",
      "Epoch 494/500\n",
      "15/15 [==============================] - 0s 5ms/step - loss: 0.9837 - sparse_categorical_accuracy: 0.5297 - accuracy: 0.5297 - val_loss: 3.0557 - val_sparse_categorical_accuracy: 0.3176 - val_accuracy: 0.3176\n",
      "Epoch 495/500\n",
      "15/15 [==============================] - 0s 5ms/step - loss: 0.9769 - sparse_categorical_accuracy: 0.5496 - accuracy: 0.5496 - val_loss: 3.0800 - val_sparse_categorical_accuracy: 0.3004 - val_accuracy: 0.3004\n",
      "Epoch 496/500\n",
      "15/15 [==============================] - 0s 5ms/step - loss: 0.9337 - sparse_categorical_accuracy: 0.5822 - accuracy: 0.5822 - val_loss: 3.2189 - val_sparse_categorical_accuracy: 0.3476 - val_accuracy: 0.3476\n",
      "Epoch 497/500\n",
      "15/15 [==============================] - 0s 5ms/step - loss: 0.9431 - sparse_categorical_accuracy: 0.5439 - accuracy: 0.5439 - val_loss: 3.0578 - val_sparse_categorical_accuracy: 0.2961 - val_accuracy: 0.2961\n",
      "Epoch 498/500\n",
      "15/15 [==============================] - 0s 5ms/step - loss: 0.9294 - sparse_categorical_accuracy: 0.5567 - accuracy: 0.5567 - val_loss: 3.0934 - val_sparse_categorical_accuracy: 0.3176 - val_accuracy: 0.3176\n",
      "Epoch 499/500\n",
      "15/15 [==============================] - 0s 5ms/step - loss: 0.9122 - sparse_categorical_accuracy: 0.5907 - accuracy: 0.5907 - val_loss: 3.2230 - val_sparse_categorical_accuracy: 0.3004 - val_accuracy: 0.3004\n",
      "Epoch 500/500\n",
      "15/15 [==============================] - 0s 5ms/step - loss: 0.9314 - sparse_categorical_accuracy: 0.5666 - accuracy: 0.5666 - val_loss: 3.2152 - val_sparse_categorical_accuracy: 0.3348 - val_accuracy: 0.3348\n"
     ]
    }
   ],
   "source": [
    "model.compile(loss=\"sparse_categorical_crossentropy\",\n",
    "            optimizer='adam',\n",
    "            metrics = [\"sparse_categorical_accuracy\", \"accuracy\"],\n",
    "            )\n",
    "history = model.fit(X_train, \n",
    "                y_train,   \n",
    "                epochs=500,\n",
    "                batch_size=48,\n",
    "                validation_data = (X_val, y_val)\n",
    "                )"
   ]
  },
  {
   "cell_type": "code",
   "execution_count": 35,
   "metadata": {},
   "outputs": [
    {
     "data": {
      "image/png": "[encoded data removed]",
      "text/plain": [
       "<Figure size 2160x1296 with 2 Axes>"
      ]
     },
     "metadata": {
      "needs_background": "light"
     },
     "output_type": "display_data"
    }
   ],
   "source": [
    "fig, ax = plt.subplots(2, 1)\n",
    "fig.set_figwidth(30)\n",
    "fig.set_figheight(18)\n",
    "\n",
    "ax[0].plot(history.history['accuracy'])\n",
    "ax[0].set_title((\"accuracy\"))\n",
    "ax[1].plot(history.history['loss'])\n",
    "ax[1].set_title((\"Loss\"))\n",
    "plt.show()\n"
   ]
  },
  {
   "attachments": {},
   "cell_type": "markdown",
   "metadata": {},
   "source": [
    "<h2 style=\"text-align:center;\">Red Neuronal Sklearn</h2>"
   ]
  },
  {
   "cell_type": "code",
   "execution_count": 9,
   "metadata": {},
   "outputs": [
    {
     "name": "stdout",
     "output_type": "stream",
     "text": [
      "El score en el training fue:  0.32142857142857145 \n",
      "El score en el test fue:  0.2755102040816326\n"
     ]
    }
   ],
   "source": [
    "clf = MLPClassifier(solver='adam', alpha=1e-5, activation=\"relu\", early_stopping=True,\n",
    "                    learning_rate=\"adaptive\", hidden_layer_sizes=(3000, 200), random_state=1)\n",
    "clf.fit(X_train, y_train)\n",
    "\n",
    "print(\"El score en el training fue: \", clf.score(X_train, y_train), \"\\nEl score en el test fue: \", clf.score(X_test, y_test))"
   ]
  },
  {
   "cell_type": "code",
   "execution_count": 10,
   "metadata": {},
   "outputs": [
    {
     "name": "stdout",
     "output_type": "stream",
     "text": [
      "El score en el training fue:  0.6275510204081632 \n",
      "El score en el test fue:  0.25510204081632654\n"
     ]
    }
   ],
   "source": [
    "clf = MLPClassifier(solver='adam', alpha=1e-5, activation=\"relu\",\n",
    "                    hidden_layer_sizes=(3000, 200), random_state=1)\n",
    "clf.fit(X_train, y_train)\n",
    "\n",
    "print(\"El score en el training fue: \", clf.score(X_train, y_train), \"\\nEl score en el test fue: \", clf.score(X_test, y_test))"
   ]
  },
  {
   "cell_type": "code",
   "execution_count": 11,
   "metadata": {},
   "outputs": [
    {
     "name": "stdout",
     "output_type": "stream",
     "text": [
      "El score en el training fue:  0.25510204081632654 \n",
      "El score en el test fue:  0.14285714285714285\n"
     ]
    }
   ],
   "source": [
    "clf = MLPClassifier(solver='adam', alpha=1e-5, activation=\"relu\",\n",
    "                    hidden_layer_sizes=(30000, 200), random_state=1)\n",
    "clf.fit(X_train, y_train)\n",
    "\n",
    "print(\"El score en el training fue: \", clf.score(X_train, y_train), \"\\nEl score en el test fue: \", clf.score(X_test, y_test))"
   ]
  },
  {
   "cell_type": "code",
   "execution_count": 12,
   "metadata": {},
   "outputs": [
    {
     "name": "stdout",
     "output_type": "stream",
     "text": [
      "El score en el training fue:  0.6836734693877551 \n",
      "El score en el test fue:  0.25510204081632654\n"
     ]
    }
   ],
   "source": [
    "clf = MLPClassifier(solver='adam', alpha=1e-5, activation=\"relu\",\n",
    "                    hidden_layer_sizes=(50000, 2000), random_state=1)\n",
    "clf.fit(X_train, y_train)\n",
    "\n",
    "print(\"El score en el training fue: \", clf.score(X_train, y_train), \"\\nEl score en el test fue: \", clf.score(X_test, y_test))"
   ]
  },
  {
   "cell_type": "code",
   "execution_count": 45,
   "metadata": {},
   "outputs": [
    {
     "name": "stdout",
     "output_type": "stream",
     "text": [
      "El score en el training fue:  0.3728813559322034 \n",
      "El score en el test fue:  0.36363636363636365\n"
     ]
    }
   ],
   "source": [
    "## Por el momento este es el mejor\n",
    "clf = MLPClassifier(solver='sgd', alpha=1e-5, activation=\"relu\",\n",
    "                    hidden_layer_sizes=(30, 20000), random_state=1)\n",
    "clf.fit(X_train, y_train)\n",
    "\n",
    "print(\"El score en el training fue: \", clf.score(X_train, y_train), \"\\nEl score en el test fue: \", clf.score(X_test, y_test))"
   ]
  },
  {
   "cell_type": "code",
   "execution_count": 7,
   "metadata": {},
   "outputs": [
    {
     "name": "stdout",
     "output_type": "stream",
     "text": [
      "El score en el training fue:  0.43116883116883115 \n",
      "El score en el test fue:  0.39473684210526316\n"
     ]
    }
   ],
   "source": [
    "clf = MLPClassifier(solver='sgd', alpha=1e-5, activation=\"relu\",\n",
    "                    hidden_layer_sizes=(30, 20000), random_state=1)\n",
    "clf.fit(X_train, y_train)\n",
    "\n",
    "print(\"El score en el training fue: \", clf.score(X_train, y_train), \"\\nEl score en el test fue: \", clf.score(X_test, y_test))"
   ]
  },
  {
   "cell_type": "code",
   "execution_count": 11,
   "metadata": {},
   "outputs": [
    {
     "name": "stdout",
     "output_type": "stream",
     "text": [
      "El score en el training fue:  0.3881019830028329 \n",
      "El score en el test fue:  0.332378223495702\n"
     ]
    }
   ],
   "source": [
    "clf = MLPClassifier(solver='sgd', alpha=1e-5, activation=\"relu\",\n",
    "                    hidden_layer_sizes=(30, 20000), random_state=1)\n",
    "clf.fit(X_train, y_train)\n",
    "\n",
    "print(\"El score en el training fue: \", clf.score(X_train, y_train), \"\\nEl score en el test fue: \", clf.score(X_test, y_test))"
   ]
  },
  {
   "cell_type": "code",
   "execution_count": 18,
   "metadata": {},
   "outputs": [
    {
     "name": "stdout",
     "output_type": "stream",
     "text": [
      "El score en el training fue:  0.5714285714285714 \n",
      "El score en el test fue:  0.25510204081632654\n"
     ]
    }
   ],
   "source": [
    "clf = MLPClassifier(solver='lbfgs', alpha=1e-50, activation=\"relu\",\n",
    "                    hidden_layer_sizes=(30, 20000), random_state=1)\n",
    "clf.fit(X_train, y_train)\n",
    "\n",
    "print(\"El score en el training fue: \", clf.score(X_train, y_train), \"\\nEl score en el test fue: \", clf.score(X_test, y_test))"
   ]
  },
  {
   "cell_type": "code",
   "execution_count": 23,
   "metadata": {},
   "outputs": [
    {
     "name": "stdout",
     "output_type": "stream",
     "text": [
      "El score en el training fue:  0.336734693877551 \n",
      "El score en el test fue:  0.29591836734693877\n"
     ]
    }
   ],
   "source": [
    "clf = MLPClassifier(solver='sgd', alpha=1e-50, activation=\"relu\", learning_rate= \"adaptive\",\n",
    "                    hidden_layer_sizes=(30000, 200), random_state=1)\n",
    "clf.fit(X_train, y_train)\n",
    "\n",
    "print(\"El score en el training fue: \", clf.score(X_train, y_train), \"\\nEl score en el test fue: \", clf.score(X_test, y_test))"
   ]
  },
  {
   "cell_type": "code",
   "execution_count": 24,
   "metadata": {},
   "outputs": [
    {
     "name": "stdout",
     "output_type": "stream",
     "text": [
      "El score en el training fue:  0.336734693877551 \n",
      "El score en el test fue:  0.30612244897959184\n"
     ]
    }
   ],
   "source": [
    "clf = MLPClassifier(solver='sgd', alpha=1e-50, activation=\"relu\", learning_rate= \"adaptive\",\n",
    "                    hidden_layer_sizes=(3000, 200), random_state=1)\n",
    "clf.fit(X_train, y_train)\n",
    "\n",
    "print(\"El score en el training fue: \", clf.score(X_train, y_train), \"\\nEl score en el test fue: \", clf.score(X_test, y_test))"
   ]
  },
  {
   "cell_type": "code",
   "execution_count": 49,
   "metadata": {},
   "outputs": [
    {
     "name": "stdout",
     "output_type": "stream",
     "text": [
      "El score en el training fue:  0.30612244897959184 \n",
      "El score en el test fue:  0.25510204081632654\n"
     ]
    }
   ],
   "source": [
    "clf = MLPClassifier(solver='adam', alpha=1e-50, activation=\"tanh\", early_stopping=True, validation_fraction= 0.001,\n",
    "                    hidden_layer_sizes=(30, 20000), random_state=1)\n",
    "clf.fit(X_train, y_train)\n",
    "\n",
    "print(\"El score en el training fue: \", clf.score(X_train, y_train), \"\\nEl score en el test fue: \", clf.score(X_test, y_test))"
   ]
  },
  {
   "cell_type": "code",
   "execution_count": 50,
   "metadata": {},
   "outputs": [
    {
     "name": "stdout",
     "output_type": "stream",
     "text": [
      "El score en el training fue:  0.30612244897959184 \n",
      "El score en el test fue:  0.2755102040816326\n"
     ]
    }
   ],
   "source": [
    "clf = MLPClassifier(solver='sgd', alpha=1e-50, activation=\"tanh\", early_stopping=True, validation_fraction= 0.001,\n",
    "                    hidden_layer_sizes=(30, 20000), random_state=1)\n",
    "clf.fit(X_train, y_train)\n",
    "\n",
    "print(\"El score en el training fue: \", clf.score(X_train, y_train), \"\\nEl score en el test fue: \", clf.score(X_test, y_test))"
   ]
  },
  {
   "cell_type": "code",
   "execution_count": 51,
   "metadata": {},
   "outputs": [
    {
     "name": "stdout",
     "output_type": "stream",
     "text": [
      "El score en el training fue:  0.336734693877551 \n",
      "El score en el test fue:  0.30612244897959184\n"
     ]
    }
   ],
   "source": [
    "clf = MLPClassifier(solver='sgd', activation=\"relu\", learning_rate= \"adaptive\",\n",
    "                    hidden_layer_sizes=(30000, 2000), random_state=1)\n",
    "clf.fit(X_train, y_train)\n",
    "\n",
    "print(\"El score en el training fue: \", clf.score(X_train, y_train), \"\\nEl score en el test fue: \", clf.score(X_test, y_test))"
   ]
  },
  {
   "cell_type": "code",
   "execution_count": 24,
   "metadata": {},
   "outputs": [
    {
     "name": "stdout",
     "output_type": "stream",
     "text": [
      "El score en el training fue:  0.29591836734693877 \n",
      "El score en el test fue:  0.3469387755102041\n"
     ]
    }
   ],
   "source": [
    "clf = MLPClassifier(solver='sgd', alpha=1e-5, activation=\"relu\",\n",
    "                    hidden_layer_sizes=(3000, 2000), random_state=1)\n",
    "clf.fit(X_train, y_train)\n",
    "\n",
    "print(\"El score en el training fue: \", clf.score(X_train, y_train), \"\\nEl score en el test fue: \", clf.score(X_test, y_test))"
   ]
  },
  {
   "attachments": {},
   "cell_type": "markdown",
   "metadata": {},
   "source": [
    "<h2 style=\"text-align:center;\">Kmeans</h2>"
   ]
  },
  {
   "cell_type": "code",
   "execution_count": null,
   "metadata": {},
   "outputs": [],
   "source": [
    "kmeans = KMeans(n_clusters=5)\n",
    "kmeans.fit(features)\n",
    "y_pred = kmeans.predict(features)\n",
    "kmeans.score(features, y_pred)"
   ]
  },
  {
   "cell_type": "code",
   "execution_count": 17,
   "metadata": {},
   "outputs": [
    {
     "data": {
      "text/plain": [
       "-1011.5112867810037"
      ]
     },
     "execution_count": 17,
     "metadata": {},
     "output_type": "execute_result"
    }
   ],
   "source": [
    "kmeans = KMeans(n_clusters=5)\n",
    "kmeans.fit(features)\n",
    "y_pred = kmeans.predict(features)\n",
    "kmeans.score(features, y_pred)"
   ]
  },
  {
   "attachments": {},
   "cell_type": "markdown",
   "metadata": {},
   "source": [
    "<h2 style=\"text-align:center;\">Random forest</h2>"
   ]
  },
  {
   "cell_type": "code",
   "execution_count": 12,
   "metadata": {},
   "outputs": [
    {
     "name": "stdout",
     "output_type": "stream",
     "text": [
      "0.30945558739255014\n"
     ]
    }
   ],
   "source": [
    "from sklearn.ensemble import RandomForestClassifier\n",
    "from sklearn.metrics import accuracy_score\n",
    "\n",
    "clf = RandomForestClassifier()\n",
    "clf.fit(X_train, y_train)\n",
    "y_pred = clf.predict(X_test)\n",
    "print(accuracy_score(y_test, y_pred))\n"
   ]
  },
  {
   "cell_type": "code",
   "execution_count": 15,
   "metadata": {},
   "outputs": [
    {
     "name": "stdout",
     "output_type": "stream",
     "text": [
      "0.3157894736842105\n"
     ]
    }
   ],
   "source": [
    "from sklearn.ensemble import RandomForestClassifier\n",
    "from sklearn.metrics import accuracy_score\n",
    "\n",
    "clf = RandomForestClassifier()\n",
    "clf.fit(X_train, y_train)\n",
    "y_pred = clf.predict(X_test)\n",
    "print(accuracy_score(y_test, y_pred))\n"
   ]
  },
  {
   "cell_type": "code",
   "execution_count": 26,
   "metadata": {},
   "outputs": [
    {
     "name": "stdout",
     "output_type": "stream",
     "text": [
      "0.3131868131868132\n"
     ]
    }
   ],
   "source": [
    "from sklearn.ensemble import RandomForestClassifier\n",
    "from sklearn.metrics import accuracy_score\n",
    "\n",
    "clf = RandomForestClassifier()\n",
    "clf.fit(X_train, y_train)\n",
    "y_pred = clf.predict(X_test)\n",
    "print(accuracy_score(y_test, y_pred))\n"
   ]
  },
  {
   "attachments": {},
   "cell_type": "markdown",
   "metadata": {},
   "source": [
    "<h2 style=\"text-align:center;\">Regresión logistica</h2>"
   ]
  },
  {
   "cell_type": "code",
   "execution_count": 13,
   "metadata": {},
   "outputs": [
    {
     "name": "stdout",
     "output_type": "stream",
     "text": [
      "0.32951289398280803\n"
     ]
    }
   ],
   "source": [
    "from sklearn.linear_model import LogisticRegression\n",
    "from sklearn.metrics import accuracy_score\n",
    "\n",
    "clf = LogisticRegression()\n",
    "clf.fit(X_train, y_train)\n",
    "y_pred = clf.predict(X_test)\n",
    "print(accuracy_score(y_test, y_pred))"
   ]
  },
  {
   "cell_type": "code",
   "execution_count": 14,
   "metadata": {},
   "outputs": [
    {
     "name": "stdout",
     "output_type": "stream",
     "text": [
      "0.39473684210526316\n"
     ]
    }
   ],
   "source": [
    "from sklearn.linear_model import LogisticRegression\n",
    "from sklearn.metrics import accuracy_score\n",
    "\n",
    "clf = LogisticRegression()\n",
    "clf.fit(X_train, y_train)\n",
    "y_pred = clf.predict(X_test)\n",
    "print(accuracy_score(y_test, y_pred))"
   ]
  },
  {
   "cell_type": "code",
   "execution_count": 34,
   "metadata": {},
   "outputs": [
    {
     "name": "stdout",
     "output_type": "stream",
     "text": [
      "0.37362637362637363\n"
     ]
    }
   ],
   "source": [
    "from sklearn.linear_model import LogisticRegression\n",
    "from sklearn.metrics import accuracy_score\n",
    "\n",
    "clf = LogisticRegression()\n",
    "clf.fit(X_train, y_train)\n",
    "y_pred = clf.predict(X_test)\n",
    "print(accuracy_score(y_test, y_pred))"
   ]
  },
  {
   "attachments": {},
   "cell_type": "markdown",
   "metadata": {},
   "source": [
    "<h2 style=\"text-align:center;\">Hierechical clustering</h2>"
   ]
  },
  {
   "cell_type": "code",
   "execution_count": 14,
   "metadata": {},
   "outputs": [
    {
     "name": "stdout",
     "output_type": "stream",
     "text": [
      "0.16905444126074498\n"
     ]
    }
   ],
   "source": [
    "from sklearn.cluster import AgglomerativeClustering\n",
    "\n",
    "cluster = AgglomerativeClustering(n_clusters=5)\n",
    "y_pred = cluster.fit_predict(X_train)\n",
    "y_pred = cluster.fit_predict(X_test)\n",
    "print(accuracy_score(y_test, y_pred))"
   ]
  },
  {
   "cell_type": "code",
   "execution_count": 28,
   "metadata": {},
   "outputs": [
    {
     "name": "stdout",
     "output_type": "stream",
     "text": [
      "0.15934065934065933\n"
     ]
    }
   ],
   "source": [
    "from sklearn.cluster import AgglomerativeClustering\n",
    "\n",
    "cluster = AgglomerativeClustering(n_clusters=5)\n",
    "y_pred = cluster.fit_predict(X_train)\n",
    "y_pred = cluster.fit_predict(X_test)\n",
    "print(accuracy_score(y_test, y_pred))"
   ]
  },
  {
   "cell_type": "code",
   "execution_count": 18,
   "metadata": {},
   "outputs": [
    {
     "name": "stdout",
     "output_type": "stream",
     "text": [
      "0.18181818181818182\n"
     ]
    }
   ],
   "source": [
    "from sklearn.cluster import AgglomerativeClustering\n",
    "\n",
    "cluster = AgglomerativeClustering(n_clusters=5)\n",
    "y_pred = cluster.fit_predict(X_train)\n",
    "y_pred = cluster.fit_predict(X_test)\n",
    "print(accuracy_score(y_test, y_pred))"
   ]
  },
  {
   "attachments": {},
   "cell_type": "markdown",
   "metadata": {},
   "source": [
    "<h2 style=\"text-align:center;\">Arbol de desicion</h2>"
   ]
  },
  {
   "cell_type": "code",
   "execution_count": 48,
   "metadata": {},
   "outputs": [
    {
     "name": "stdout",
     "output_type": "stream",
     "text": [
      "0.29292929292929293\n"
     ]
    }
   ],
   "source": [
    "from sklearn.tree import DecisionTreeClassifier\n",
    "\n",
    "clf = DecisionTreeClassifier()\n",
    "clf.fit(X_train, y_train)\n",
    "y_pred = clf.predict(X_test)\n",
    "print(accuracy_score(y_test, y_pred))\n"
   ]
  },
  {
   "cell_type": "code",
   "execution_count": 15,
   "metadata": {},
   "outputs": [
    {
     "name": "stdout",
     "output_type": "stream",
     "text": [
      "0.30659025787965616\n"
     ]
    }
   ],
   "source": [
    "from sklearn.tree import DecisionTreeClassifier\n",
    "\n",
    "clf = DecisionTreeClassifier()\n",
    "clf.fit(X_train, y_train)\n",
    "y_pred = clf.predict(X_test)\n",
    "print(accuracy_score(y_test, y_pred))\n"
   ]
  },
  {
   "cell_type": "code",
   "execution_count": 44,
   "metadata": {},
   "outputs": [
    {
     "name": "stdout",
     "output_type": "stream",
     "text": [
      "0.2807017543859649\n"
     ]
    }
   ],
   "source": [
    "from sklearn.tree import DecisionTreeClassifier\n",
    "\n",
    "clf = DecisionTreeClassifier()\n",
    "clf.fit(X_train, y_train)\n",
    "y_pred = clf.predict(X_test)\n",
    "print(accuracy_score(y_test, y_pred))"
   ]
  },
  {
   "attachments": {},
   "cell_type": "markdown",
   "metadata": {},
   "source": [
    "<h2 style=\"text-align:center;\">GaussianNB</h2>"
   ]
  },
  {
   "cell_type": "code",
   "execution_count": 16,
   "metadata": {},
   "outputs": [
    {
     "name": "stdout",
     "output_type": "stream",
     "text": [
      "0.3237822349570201\n"
     ]
    }
   ],
   "source": [
    "from sklearn.naive_bayes import GaussianNB\n",
    "from sklearn.model_selection import train_test_split\n",
    "from sklearn.metrics import accuracy_score\n",
    "\n",
    "clf = GaussianNB()\n",
    "clf.fit(X_train, y_train)\n",
    "y_pred = clf.predict(X_test)\n",
    "print(accuracy_score(y_test, y_pred))"
   ]
  },
  {
   "cell_type": "code",
   "execution_count": 8,
   "metadata": {},
   "outputs": [
    {
     "name": "stdout",
     "output_type": "stream",
     "text": [
      "0.4052631578947368\n"
     ]
    }
   ],
   "source": [
    "from sklearn.naive_bayes import GaussianNB\n",
    "from sklearn.model_selection import train_test_split\n",
    "from sklearn.metrics import accuracy_score\n",
    "\n",
    "clf = GaussianNB()\n",
    "clf.fit(X_train, y_train)\n",
    "y_pred = clf.predict(X_test)\n",
    "print(accuracy_score(y_test, y_pred))"
   ]
  },
  {
   "cell_type": "code",
   "execution_count": 30,
   "metadata": {},
   "outputs": [
    {
     "name": "stdout",
     "output_type": "stream",
     "text": [
      "0.3516483516483517\n"
     ]
    }
   ],
   "source": [
    "from sklearn.naive_bayes import GaussianNB\n",
    "from sklearn.model_selection import train_test_split\n",
    "from sklearn.metrics import accuracy_score\n",
    "\n",
    "clf = GaussianNB()\n",
    "clf.fit(X_train, y_train)\n",
    "y_pred = clf.predict(X_test)\n",
    "print(accuracy_score(y_test, y_pred))"
   ]
  },
  {
   "attachments": {},
   "cell_type": "markdown",
   "metadata": {},
   "source": [
    "<h2 style=\"text-align:center;\">SVM (máquinas de vectores de soporte)</h2>"
   ]
  },
  {
   "cell_type": "code",
   "execution_count": 38,
   "metadata": {},
   "outputs": [
    {
     "name": "stdout",
     "output_type": "stream",
     "text": [
      "0.32460732984293195\n"
     ]
    }
   ],
   "source": [
    "from sklearn.svm import SVC\n",
    "\n",
    "clf = SVC()\n",
    "clf.fit(X_train, y_train)\n",
    "y_pred = clf.predict(X_test)\n",
    "print(accuracy_score(y_test, y_pred))"
   ]
  },
  {
   "cell_type": "code",
   "execution_count": 9,
   "metadata": {},
   "outputs": [
    {
     "name": "stdout",
     "output_type": "stream",
     "text": [
      "0.38421052631578945\n"
     ]
    }
   ],
   "source": [
    "from sklearn.svm import SVC\n",
    "\n",
    "clf = SVC()\n",
    "clf.fit(X_train, y_train)\n",
    "y_pred = clf.predict(X_test)\n",
    "print(accuracy_score(y_test, y_pred))"
   ]
  },
  {
   "cell_type": "code",
   "execution_count": 17,
   "metadata": {},
   "outputs": [
    {
     "name": "stdout",
     "output_type": "stream",
     "text": [
      "0.3037249283667622\n"
     ]
    }
   ],
   "source": [
    "from sklearn.svm import SVC\n",
    "\n",
    "clf = SVC()\n",
    "clf.fit(X_train, y_train)\n",
    "y_pred = clf.predict(X_test)\n",
    "print(accuracy_score(y_test, y_pred))"
   ]
  },
  {
   "attachments": {},
   "cell_type": "markdown",
   "metadata": {},
   "source": [
    "<h2 style=\"text-align:center;\">Gaussian Mixture Model</h2>"
   ]
  },
  {
   "cell_type": "code",
   "execution_count": 18,
   "metadata": {},
   "outputs": [
    {
     "name": "stdout",
     "output_type": "stream",
     "text": [
      "0.15759312320916904\n"
     ]
    }
   ],
   "source": [
    "from sklearn.mixture import GaussianMixture\n",
    "\n",
    "clf = GaussianMixture(n_components=5)\n",
    "clf.fit(X_train, y_train)\n",
    "y_pred = clf.predict(X_test)\n",
    "print(accuracy_score(y_test, y_pred))"
   ]
  },
  {
   "cell_type": "code",
   "execution_count": 16,
   "metadata": {},
   "outputs": [
    {
     "name": "stdout",
     "output_type": "stream",
     "text": [
      "0.24210526315789474\n"
     ]
    }
   ],
   "source": [
    "from sklearn.mixture import GaussianMixture\n",
    "\n",
    "clf = GaussianMixture(n_components=5)\n",
    "clf.fit(X_train, y_train)\n",
    "y_pred = clf.predict(X_test)\n",
    "print(accuracy_score(y_test, y_pred))"
   ]
  },
  {
   "cell_type": "code",
   "execution_count": 10,
   "metadata": {},
   "outputs": [
    {
     "name": "stdout",
     "output_type": "stream",
     "text": [
      "0.23859649122807017\n"
     ]
    }
   ],
   "source": [
    "from sklearn.mixture import GaussianMixture\n",
    "\n",
    "clf = GaussianMixture(n_components=5)\n",
    "clf.fit(X_train, y_train)\n",
    "y_pred = clf.predict(X_test)\n",
    "print(accuracy_score(y_test, y_pred))"
   ]
  },
  {
   "attachments": {},
   "cell_type": "markdown",
   "metadata": {},
   "source": [
    "<h2 style=\"text-align:center;\">Perceptron</h2>"
   ]
  },
  {
   "cell_type": "code",
   "execution_count": 19,
   "metadata": {},
   "outputs": [
    {
     "name": "stdout",
     "output_type": "stream",
     "text": [
      "0.3209169054441261\n"
     ]
    }
   ],
   "source": [
    "from sklearn.linear_model import Perceptron\n",
    "\n",
    "clf = Perceptron()\n",
    "clf.fit(X_train, y_train)\n",
    "y_pred = clf.predict(X_test)\n",
    "print(accuracy_score(y_test, y_pred))"
   ]
  },
  {
   "cell_type": "code",
   "execution_count": 11,
   "metadata": {},
   "outputs": [
    {
     "name": "stdout",
     "output_type": "stream",
     "text": [
      "0.38421052631578945\n"
     ]
    }
   ],
   "source": [
    "from sklearn.linear_model import Perceptron\n",
    "\n",
    "clf = Perceptron()\n",
    "clf.fit(X_train, y_train)\n",
    "y_pred = clf.predict(X_test)\n",
    "print(accuracy_score(y_test, y_pred))"
   ]
  },
  {
   "cell_type": "code",
   "execution_count": 24,
   "metadata": {},
   "outputs": [
    {
     "name": "stdout",
     "output_type": "stream",
     "text": [
      "0.34065934065934067\n"
     ]
    }
   ],
   "source": [
    "from sklearn.linear_model import Perceptron\n",
    "\n",
    "clf = Perceptron()\n",
    "clf.fit(X_train, y_train)\n",
    "y_pred = clf.predict(X_test)\n",
    "print(accuracy_score(y_test, y_pred))"
   ]
  },
  {
   "cell_type": "code",
   "execution_count": 20,
   "metadata": {},
   "outputs": [
    {
     "data": {
      "text/html": [
       "<div>\n",
       "<style scoped>\n",
       "    .dataframe tbody tr th:only-of-type {\n",
       "        vertical-align: middle;\n",
       "    }\n",
       "\n",
       "    .dataframe tbody tr th {\n",
       "        vertical-align: top;\n",
       "    }\n",
       "\n",
       "    .dataframe thead th {\n",
       "        text-align: right;\n",
       "    }\n",
       "</style>\n",
       "<table border=\"1\" class=\"dataframe\">\n",
       "  <thead>\n",
       "    <tr style=\"text-align: right;\">\n",
       "      <th></th>\n",
       "      <th>BASE TELA</th>\n",
       "      <th>COLOR</th>\n",
       "      <th>GENERO</th>\n",
       "      <th>CATEGORIA</th>\n",
       "      <th>ESTETICA</th>\n",
       "      <th>LARGO</th>\n",
       "      <th>SILUETA</th>\n",
       "      <th>TIPO</th>\n",
       "      <th>SUBCATEGORIA</th>\n",
       "      <th>item</th>\n",
       "      <th>calificacion</th>\n",
       "      <th>calif</th>\n",
       "      <th>min</th>\n",
       "    </tr>\n",
       "  </thead>\n",
       "  <tbody>\n",
       "    <tr>\n",
       "      <th>0</th>\n",
       "      <td>PUNTO</td>\n",
       "      <td>ROSADO</td>\n",
       "      <td>HOMBRE</td>\n",
       "      <td>CAMISETA</td>\n",
       "      <td>ILUSTRACIÓN EN PECHO Y ESPALDA</td>\n",
       "      <td>REGULAR</td>\n",
       "      <td>AMPLIO</td>\n",
       "      <td>MANGA CORTA</td>\n",
       "      <td>CAMISETA BOX FIT</td>\n",
       "      <td>55728</td>\n",
       "      <td>A</td>\n",
       "      <td>3</td>\n",
       "      <td>2021_03,2</td>\n",
       "    </tr>\n",
       "    <tr>\n",
       "      <th>1</th>\n",
       "      <td>PUNTO</td>\n",
       "      <td>AZUL OSCURO</td>\n",
       "      <td>HOMBRE</td>\n",
       "      <td>CAMISETA</td>\n",
       "      <td>TEXTO REPUJADO</td>\n",
       "      <td>REGULAR</td>\n",
       "      <td>AMPLIO</td>\n",
       "      <td>MANGA CORTA</td>\n",
       "      <td>CAMISETA</td>\n",
       "      <td>55725</td>\n",
       "      <td>B</td>\n",
       "      <td>4</td>\n",
       "      <td>2021_07,5</td>\n",
       "    </tr>\n",
       "    <tr>\n",
       "      <th>2</th>\n",
       "      <td>PLANO</td>\n",
       "      <td>NEGRO</td>\n",
       "      <td>HOMBRE</td>\n",
       "      <td>CAMISETA</td>\n",
       "      <td>TEXTO Y NÚMEROS CON APLIQUE</td>\n",
       "      <td>OVER</td>\n",
       "      <td>AMPLIO</td>\n",
       "      <td>MANGA CORTA</td>\n",
       "      <td>CAMISETA OVERSIZE</td>\n",
       "      <td>55699</td>\n",
       "      <td>B</td>\n",
       "      <td>4</td>\n",
       "      <td>2021_05,3</td>\n",
       "    </tr>\n",
       "    <tr>\n",
       "      <th>3</th>\n",
       "      <td>PUNTO</td>\n",
       "      <td>ROJO</td>\n",
       "      <td>HOMBRE</td>\n",
       "      <td>CAMISETA</td>\n",
       "      <td>TEXTO REPUJADO</td>\n",
       "      <td>REGULAR</td>\n",
       "      <td>AMPLIO</td>\n",
       "      <td>MANGA CORTA</td>\n",
       "      <td>CAMISETA</td>\n",
       "      <td>55700</td>\n",
       "      <td>A</td>\n",
       "      <td>3</td>\n",
       "      <td>2021_01,2</td>\n",
       "    </tr>\n",
       "    <tr>\n",
       "      <th>4</th>\n",
       "      <td>PUNTO</td>\n",
       "      <td>NEGRO</td>\n",
       "      <td>HOMBRE</td>\n",
       "      <td>CAMISETA</td>\n",
       "      <td>BÁSICO</td>\n",
       "      <td>REGULAR</td>\n",
       "      <td>AMPLIO</td>\n",
       "      <td>MANGA CORTA</td>\n",
       "      <td>CAMISETA BOX FIT</td>\n",
       "      <td>60127</td>\n",
       "      <td>A</td>\n",
       "      <td>3</td>\n",
       "      <td>2021_04,5</td>\n",
       "    </tr>\n",
       "    <tr>\n",
       "      <th>...</th>\n",
       "      <td>...</td>\n",
       "      <td>...</td>\n",
       "      <td>...</td>\n",
       "      <td>...</td>\n",
       "      <td>...</td>\n",
       "      <td>...</td>\n",
       "      <td>...</td>\n",
       "      <td>...</td>\n",
       "      <td>...</td>\n",
       "      <td>...</td>\n",
       "      <td>...</td>\n",
       "      <td>...</td>\n",
       "      <td>...</td>\n",
       "    </tr>\n",
       "    <tr>\n",
       "      <th>1573</th>\n",
       "      <td>PUNTO</td>\n",
       "      <td>ROJO</td>\n",
       "      <td>HOMBRE</td>\n",
       "      <td>CAMISETA</td>\n",
       "      <td>TEXTO</td>\n",
       "      <td>REGULAR</td>\n",
       "      <td>AMPLIO</td>\n",
       "      <td>MANGA CORTA</td>\n",
       "      <td>CAMISETA OVERSIZE</td>\n",
       "      <td>62650</td>\n",
       "      <td>AAA</td>\n",
       "      <td>2</td>\n",
       "      <td>2021_11,4</td>\n",
       "    </tr>\n",
       "    <tr>\n",
       "      <th>1576</th>\n",
       "      <td>PUNTO</td>\n",
       "      <td>ROSADO</td>\n",
       "      <td>HOMBRE</td>\n",
       "      <td>CAMISETA</td>\n",
       "      <td>ILUSTRACIÓN</td>\n",
       "      <td>REGULAR</td>\n",
       "      <td>AMPLIO</td>\n",
       "      <td>NO APLICA</td>\n",
       "      <td>CAMISETA BOX FIT</td>\n",
       "      <td>55735</td>\n",
       "      <td>B-</td>\n",
       "      <td>5</td>\n",
       "      <td>2021_01,4</td>\n",
       "    </tr>\n",
       "    <tr>\n",
       "      <th>1577</th>\n",
       "      <td>PUNTO</td>\n",
       "      <td>NEGRO</td>\n",
       "      <td>HOMBRE</td>\n",
       "      <td>CAMISETA</td>\n",
       "      <td>BÁSICO</td>\n",
       "      <td>REGULAR</td>\n",
       "      <td>AMPLIO</td>\n",
       "      <td>NO APLICA</td>\n",
       "      <td>CAMISETA BOX FIT</td>\n",
       "      <td>55752</td>\n",
       "      <td>B</td>\n",
       "      <td>4</td>\n",
       "      <td>2021_09,2</td>\n",
       "    </tr>\n",
       "    <tr>\n",
       "      <th>1579</th>\n",
       "      <td>PUNTO</td>\n",
       "      <td>MARFIL</td>\n",
       "      <td>HOMBRE</td>\n",
       "      <td>CAMISETA</td>\n",
       "      <td>ILUSTRACIÓN</td>\n",
       "      <td>OVER</td>\n",
       "      <td>AMPLIO</td>\n",
       "      <td>MANGA CORTA</td>\n",
       "      <td>CAMISETA EN BURDA OVERSIZE</td>\n",
       "      <td>63496</td>\n",
       "      <td>AAA+</td>\n",
       "      <td>1</td>\n",
       "      <td>2022_04,2</td>\n",
       "    </tr>\n",
       "    <tr>\n",
       "      <th>1580</th>\n",
       "      <td>PUNTO</td>\n",
       "      <td>NEGRO</td>\n",
       "      <td>HOMBRE</td>\n",
       "      <td>CAMISETA</td>\n",
       "      <td>ILUSTRACIÓN EN RELIEVE</td>\n",
       "      <td>REGULAR</td>\n",
       "      <td>AMPLIO</td>\n",
       "      <td>MANGA CORTA</td>\n",
       "      <td>CAMISETA</td>\n",
       "      <td>53734</td>\n",
       "      <td>AAA</td>\n",
       "      <td>2</td>\n",
       "      <td>2021_04,3</td>\n",
       "    </tr>\n",
       "  </tbody>\n",
       "</table>\n",
       "<p>1055 rows × 13 columns</p>\n",
       "</div>"
      ],
      "text/plain": [
       "     BASE TELA        COLOR  GENERO CATEGORIA                        ESTETICA  \\\n",
       "0        PUNTO       ROSADO  HOMBRE  CAMISETA  ILUSTRACIÓN EN PECHO Y ESPALDA   \n",
       "1        PUNTO  AZUL OSCURO  HOMBRE  CAMISETA                  TEXTO REPUJADO   \n",
       "2        PLANO        NEGRO  HOMBRE  CAMISETA     TEXTO Y NÚMEROS CON APLIQUE   \n",
       "3        PUNTO         ROJO  HOMBRE  CAMISETA                  TEXTO REPUJADO   \n",
       "4        PUNTO        NEGRO  HOMBRE  CAMISETA                          BÁSICO   \n",
       "...        ...          ...     ...       ...                             ...   \n",
       "1573     PUNTO         ROJO  HOMBRE  CAMISETA                           TEXTO   \n",
       "1576     PUNTO       ROSADO  HOMBRE  CAMISETA                     ILUSTRACIÓN   \n",
       "1577     PUNTO        NEGRO  HOMBRE  CAMISETA                          BÁSICO   \n",
       "1579     PUNTO       MARFIL  HOMBRE  CAMISETA                     ILUSTRACIÓN   \n",
       "1580     PUNTO        NEGRO  HOMBRE  CAMISETA          ILUSTRACIÓN EN RELIEVE   \n",
       "\n",
       "        LARGO SILUETA         TIPO                SUBCATEGORIA   item  \\\n",
       "0     REGULAR  AMPLIO  MANGA CORTA            CAMISETA BOX FIT  55728   \n",
       "1     REGULAR  AMPLIO  MANGA CORTA                    CAMISETA  55725   \n",
       "2        OVER  AMPLIO  MANGA CORTA           CAMISETA OVERSIZE  55699   \n",
       "3     REGULAR  AMPLIO  MANGA CORTA                    CAMISETA  55700   \n",
       "4     REGULAR  AMPLIO  MANGA CORTA            CAMISETA BOX FIT  60127   \n",
       "...       ...     ...          ...                         ...    ...   \n",
       "1573  REGULAR  AMPLIO  MANGA CORTA           CAMISETA OVERSIZE  62650   \n",
       "1576  REGULAR  AMPLIO    NO APLICA            CAMISETA BOX FIT  55735   \n",
       "1577  REGULAR  AMPLIO    NO APLICA            CAMISETA BOX FIT  55752   \n",
       "1579     OVER  AMPLIO  MANGA CORTA  CAMISETA EN BURDA OVERSIZE  63496   \n",
       "1580  REGULAR  AMPLIO  MANGA CORTA                    CAMISETA  53734   \n",
       "\n",
       "     calificacion  calif        min  \n",
       "0               A      3  2021_03,2  \n",
       "1               B      4  2021_07,5  \n",
       "2               B      4  2021_05,3  \n",
       "3               A      3  2021_01,2  \n",
       "4               A      3  2021_04,5  \n",
       "...           ...    ...        ...  \n",
       "1573          AAA      2  2021_11,4  \n",
       "1576           B-      5  2021_01,4  \n",
       "1577            B      4  2021_09,2  \n",
       "1579         AAA+      1  2022_04,2  \n",
       "1580          AAA      2  2021_04,3  \n",
       "\n",
       "[1055 rows x 13 columns]"
      ]
     },
     "execution_count": 20,
     "metadata": {},
     "output_type": "execute_result"
    }
   ],
   "source": [
    "maestro"
   ]
  }
 ],
 "metadata": {
  "kernelspec": {
   "display_name": "base",
   "language": "python",
   "name": "python3"
  },
  "language_info": {
   "codemirror_mode": {
    "name": "ipython",
    "version": 3
   },
   "file_extension": ".py",
   "mimetype": "text/x-python",
   "name": "python",
   "nbconvert_exporter": "python",
   "pygments_lexer": "ipython3",
   "version": "3.8.8"
  },
  "orig_nbformat": 4,
  "vscode": {
   "interpreter": {
    "hash": "ad2bdc8ecc057115af97d19610ffacc2b4e99fae6737bb82f5d7fb13d2f2c186"
   }
  }
 },
 "nbformat": 4,
 "nbformat_minor": 2
}
